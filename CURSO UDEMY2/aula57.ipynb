{
 "cells": [
  {
   "cell_type": "markdown",
   "metadata": {},
   "source": [
    "                                          Listas de listas e seus indices"
   ]
  },
  {
   "cell_type": "code",
   "execution_count": 17,
   "metadata": {},
   "outputs": [],
   "source": [
    "salas = [['Maria','Helena'],['Elaine'],['Luiz','Joao','Eduarda',]]"
   ]
  },
  {
   "cell_type": "code",
   "execution_count": 14,
   "metadata": {},
   "outputs": [
    {
     "name": "stdout",
     "output_type": "stream",
     "text": [
      "Helena\n",
      "Elaine\n",
      "Eduarda\n",
      "20\n"
     ]
    }
   ],
   "source": [
    "print(salas[0][1])\n",
    "print(salas[1][0])\n",
    "print(salas[2][2])\n",
    "print(salas[2][3][2])"
   ]
  },
  {
   "cell_type": "code",
   "execution_count": 19,
   "metadata": {},
   "outputs": [
    {
     "name": "stdout",
     "output_type": "stream",
     "text": [
      "['Maria', 'Helena']\n",
      "Maria\n",
      "Helena\n",
      "['Elaine']\n",
      "Elaine\n",
      "['Luiz', 'Joao', 'Eduarda']\n",
      "Luiz\n",
      "Joao\n",
      "Eduarda\n"
     ]
    }
   ],
   "source": [
    "for sala in salas:\n",
    "    print(sala)\n",
    "    for aluno in sala:\n",
    "        print(aluno)"
   ]
  }
 ],
 "metadata": {
  "kernelspec": {
   "display_name": "Python 3",
   "language": "python",
   "name": "python3"
  },
  "language_info": {
   "codemirror_mode": {
    "name": "ipython",
    "version": 3
   },
   "file_extension": ".py",
   "mimetype": "text/x-python",
   "name": "python",
   "nbconvert_exporter": "python",
   "pygments_lexer": "ipython3",
   "version": "3.11.3"
  },
  "orig_nbformat": 4
 },
 "nbformat": 4,
 "nbformat_minor": 2
}
