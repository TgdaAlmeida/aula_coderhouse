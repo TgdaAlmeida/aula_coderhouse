{
 "cells": [
  {
   "cell_type": "markdown",
   "metadata": {},
   "source": [
    "                                                  DATA MINING"
   ]
  },
  {
   "cell_type": "code",
   "execution_count": 1,
   "metadata": {},
   "outputs": [],
   "source": [
    "import re"
   ]
  },
  {
   "cell_type": "markdown",
   "metadata": {},
   "source": [
    "re.search procura a primeira ocorrencia do padrão em toda a string."
   ]
  },
  {
   "cell_type": "code",
   "execution_count": 24,
   "metadata": {},
   "outputs": [
    {
     "name": "stdout",
     "output_type": "stream",
     "text": [
      "Correspondecia encontrada\n"
     ]
    }
   ],
   "source": [
    "texto = \"\"\"O telefone de farmacia é 3000-3232, (11) 93233-6006\n",
    "            mas eles só atendem até as 18h em dias úteis. thiago_tgda@gmail.com 129.781.057-04\"\"\"\n",
    "\n",
    "match = re.match('O telefone', texto)\n",
    "\n",
    "if match:\n",
    "    print('Correspondecia encontrada')"
   ]
  },
  {
   "cell_type": "code",
   "execution_count": 3,
   "metadata": {},
   "outputs": [
    {
     "name": "stdout",
     "output_type": "stream",
     "text": [
      "Correspondecia encontrada\n"
     ]
    }
   ],
   "source": [
    "match = re.search('[0-9][0-9]h', texto)\n",
    "if match:\n",
    "    print('Correspondecia encontrada')"
   ]
  },
  {
   "cell_type": "code",
   "execution_count": 6,
   "metadata": {},
   "outputs": [
    {
     "data": {
      "text/plain": [
       "78"
      ]
     },
     "execution_count": 6,
     "metadata": {},
     "output_type": "execute_result"
    }
   ],
   "source": [
    "match.end()"
   ]
  },
  {
   "cell_type": "markdown",
   "metadata": {},
   "source": [
    "re.findall"
   ]
  },
  {
   "cell_type": "code",
   "execution_count": 13,
   "metadata": {},
   "outputs": [],
   "source": [
    "match_2 = re.findall('[0-9]+', texto)\n"
   ]
  },
  {
   "cell_type": "code",
   "execution_count": 11,
   "metadata": {},
   "outputs": [
    {
     "data": {
      "text/plain": [
       "['3000', '3232', '18']"
      ]
     },
     "execution_count": 11,
     "metadata": {},
     "output_type": "execute_result"
    }
   ],
   "source": [
    "match_2"
   ]
  },
  {
   "cell_type": "markdown",
   "metadata": {},
   "source": [
    "padrao de telefones"
   ]
  },
  {
   "cell_type": "code",
   "execution_count": 14,
   "metadata": {},
   "outputs": [],
   "source": [
    "match_3 = re.findall('[0-9]+-[0-9]+', texto)"
   ]
  },
  {
   "cell_type": "code",
   "execution_count": 15,
   "metadata": {},
   "outputs": [
    {
     "data": {
      "text/plain": [
       "['3000-3232']"
      ]
     },
     "execution_count": 15,
     "metadata": {},
     "output_type": "execute_result"
    }
   ],
   "source": [
    "match_3"
   ]
  },
  {
   "cell_type": "code",
   "execution_count": 18,
   "metadata": {},
   "outputs": [
    {
     "data": {
      "text/plain": [
       "['thiago_tgda@gmail.com']"
      ]
     },
     "execution_count": 18,
     "metadata": {},
     "output_type": "execute_result"
    }
   ],
   "source": [
    "re.findall('\\w+@\\w+.\\w+', texto) #retirando e-mails do texto"
   ]
  },
  {
   "cell_type": "code",
   "execution_count": 21,
   "metadata": {},
   "outputs": [
    {
     "data": {
      "text/plain": [
       "['129.781.057-04']"
      ]
     },
     "execution_count": 21,
     "metadata": {},
     "output_type": "execute_result"
    }
   ],
   "source": [
    "re.findall('\\d+.\\d+.\\d+-\\d{2}', texto) #retirando emails"
   ]
  },
  {
   "cell_type": "code",
   "execution_count": 25,
   "metadata": {},
   "outputs": [
    {
     "data": {
      "text/plain": [
       "[' 3000-3232', '(11) 93233-6006']"
      ]
     },
     "execution_count": 25,
     "metadata": {},
     "output_type": "execute_result"
    }
   ],
   "source": [
    "re.findall('\\s\\d+-\\d+|\\(\\d+\\)\\s\\d+-\\d+', texto)"
   ]
  },
  {
   "cell_type": "markdown",
   "metadata": {},
   "source": [
    "                                                    HTML"
   ]
  },
  {
   "cell_type": "markdown",
   "metadata": {},
   "source": [
    "                                                WEB SCRAPING"
   ]
  },
  {
   "cell_type": "code",
   "execution_count": 32,
   "metadata": {},
   "outputs": [],
   "source": [
    "from bs4 import BeautifulSoup\n",
    "import requests\n",
    "import pandas as pd\n",
    "import os"
   ]
  },
  {
   "cell_type": "code",
   "execution_count": 33,
   "metadata": {},
   "outputs": [
    {
     "data": {
      "text/plain": [
       "200"
      ]
     },
     "execution_count": 33,
     "metadata": {},
     "output_type": "execute_result"
    }
   ],
   "source": [
    "url = 'https://www.google.com.br'\n",
    "response = requests.get(url)\n",
    "response.status_code"
   ]
  },
  {
   "cell_type": "code",
   "execution_count": 34,
   "metadata": {},
   "outputs": [
    {
     "data": {
      "text/plain": [
       "'<!DOCTYPE html>\\n<html itemscope=\"\" itemtype=\"http://schema.org/WebPage\" lang=\"pt-BR\">\\n <head>\\n  <meta content=\"text/html; charset=utf-8\" http-equiv=\"Content-Type\"/>\\n  <meta content=\"/images/branding/googleg/1x/googleg_standard_color_128dp.png\" itemprop=\"image\"/>\\n  <title>\\n   Google\\n  </title>\\n  <script nonce=\"gzgq6NNFZscyIcU2PNkeoA\">\\n   (function(){var _g={kEI:\\'CdsMZdr5J-Pf5OUP0Kee-AM\\',kEXPI:\\'0,202639,590471,572357,207,4804,2316,383,246,5,1129120,1197740,661,380090,16114,28684,22430,1362,12320,4744,12835,4998,17075,38444,885,1987,2891,4140,4209,3405,606,60689,2615,13721,20583,4,32894,26723,27008,6666,7596,1,42154,2,16395,3875,19491,5679,1020,31122,4568,6256,23421,1252,30151,2913,2,2,1,26632,8155,23351,872,19633,7,1923,9779,42459,20199,5796,11,14329,14,82,7651,12555,4070,4307,8048,10912,5403,1506,1524,15816,1804,12748,1612,4,6647,1826,10260,7424,6561,1633,2173,7536,4736,1320,2371,5226,3339,7914,11440,1302,3,9,5400,4366,5208654,602,109,2,195,265,254,5994251,96,2803118,3311,141,795,19735,1,1,346,8474,153,239,8,21,19,12,4,11,27,18,33,112,20721387,3219966,579,4043528,16672,39284,175,5114,301,1395066,23001264,758006,12799,8409,2878,444,1154,1085,9138,1965,5,3380,862,3770,3412,1601,1378,3042,877,3,345,2876,487,2556,245,3188,2402,1597,553,1326,337,2899,302,41,1494,1011,281,916,6221,881,223,994,203,280,152,923,3025,96,804,105,196,474,2,966,96,1010,1172,1,2264,3300,521,217,401,1108,738,8,603,222,432,3,281,359,78,1102,561,97,737,176,9,10,877,603,3,578,1028,71,2,9,346,320,96,203,530,195,71,10,836,3,1978,487,371,1,10,215,1000,87,454,688,4,163,2,141,104,308,154,745,7,1,8,93,2,116,10,120,564,182,9,225,557,13,21,24,3,162,1,124,751,534,189,115,60,681,45,28,1321,142,77,65,905,148,112,2031,98,69,2479,1065,686,4,55\\',kBL:\\'59Bd\\',kOPI:89978449};(function(){var a;(null==(a=window.google)?0:a.stvsc)?google.kEI=_g.kEI:window.google=_g;}).call(this);})();(function(){google.sn=\\'webhp\\';google.kHL=\\'pt-BR\\';})();(function(){\\nvar h=this||self;function l(){return void 0!==window.google&&void 0!==window.google.kOPI&&0!==window.google.kOPI?window.google.kOPI:null};var m,n=[];function p(a){for(var b;a&&(!a.getAttribute||!(b=a.getAttribute(\"eid\")));)a=a.parentNode;return b||m}function q(a){for(var b=null;a&&(!a.getAttribute||!(b=a.getAttribute(\"leid\")));)a=a.parentNode;return b}function r(a){/^http:/i.test(a)&&\"https:\"===window.location.protocol&&(google.ml&&google.ml(Error(\"a\"),!1,{src:a,glmm:1}),a=\"\");return a}\\nfunction t(a,b,c,d,k){var e=\"\";-1===b.search(\"&ei=\")&&(e=\"&ei=\"+p(d),-1===b.search(\"&lei=\")&&(d=q(d))&&(e+=\"&lei=\"+d));d=\"\";var g=-1===b.search(\"&cshid=\")&&\"slh\"!==a,f=[];f.push([\"zx\",Date.now().toString()]);h._cshid&&g&&f.push([\"cshid\",h._cshid]);c=c();null!=c&&f.push([\"opi\",c.toString()]);for(c=0;c<f.length;c++){if(0===c||0<c)d+=\"&\";d+=f[c][0]+\"=\"+f[c][1]}return\"/\"+(k||\"gen_204\")+\"?atyp=i&ct=\"+String(a)+\"&cad=\"+(b+e+d)};m=google.kEI;google.getEI=p;google.getLEI=q;google.ml=function(){return null};google.log=function(a,b,c,d,k,e){e=void 0===e?l:e;c||(c=t(a,b,e,d,k));if(c=r(c)){a=new Image;var g=n.length;n[g]=a;a.onerror=a.onload=a.onabort=function(){delete n[g]};a.src=c}};google.logUrl=function(a,b){b=void 0===b?l:b;return t(\"\",a,b)};}).call(this);(function(){google.y={};google.sy=[];google.x=function(a,b){if(a)var c=a.id;else{do c=Math.random();while(google.y[c])}google.y[c]=[a,b];return!1};google.sx=function(a){google.sy.push(a)};google.lm=[];google.plm=function(a){google.lm.push.apply(google.lm,a)};google.lq=[];google.load=function(a,b,c){google.lq.push([[a],b,c])};google.loadAll=function(a,b){google.lq.push([a,b])};google.bx=!1;google.lx=function(){};var d=[];google.fce=function(a,b,c,e){d.push([a,b,c,e])};google.qce=d;}).call(this);google.f={};(function(){\\ndocument.documentElement.addEventListener(\"submit\",function(b){var a;if(a=b.target){var c=a.getAttribute(\"data-submitfalse\");a=\"1\"===c||\"q\"===c&&!a.elements.q.value?!0:!1}else a=!1;a&&(b.preventDefault(),b.stopPropagation())},!0);document.documentElement.addEventListener(\"click\",function(b){var a;a:{for(a=b.target;a&&a!==document.documentElement;a=a.parentElement)if(\"A\"===a.tagName){a=\"1\"===a.getAttribute(\"data-nohref\");break a}a=!1}a&&b.preventDefault()},!0);}).call(this);\\n  </script>\\n  <style>\\n   #gbar,#guser{font-size:13px;padding-top:1px !important;}#gbar{height:22px}#guser{padding-bottom:7px !important;text-align:right}.gbh,.gbd{border-top:1px solid #c9d7f1;font-size:1px}.gbh{height:0;position:absolute;top:24px;width:100%}@media all{.gb1{height:22px;margin-right:.5em;vertical-align:top}#gbar{float:left}}a.gb1,a.gb4{text-decoration:underline !important}a.gb1,a.gb4{color:#00c !important}.gbi .gb4{color:#dd8e27 !important}.gbf .gb4{color:#900 !important}\\n  </style>\\n  <style>\\n   body,td,a,p,.h{font-family:arial,sans-serif}body{margin:0;overflow-y:scroll}#gog{padding:3px 8px 0}td{line-height:.8em}.gac_m td{line-height:17px}form{margin-bottom:20px}.h{color:#1967d2}em{font-weight:bold;font-style:normal}.lst{height:25px;width:496px}.gsfi,.lst{font:18px arial,sans-serif}.gsfs{font:17px arial,sans-serif}.ds{display:inline-box;display:inline-block;margin:3px 0 4px;margin-left:4px}input{font-family:inherit}body{background:#fff;color:#000}a{color:#681da8;text-decoration:none}a:hover,a:active{text-decoration:underline}.fl a{color:#1967d2}a:visited{color:#681da8}.sblc{padding-top:5px}.sblc a{display:block;margin:2px 0;margin-left:13px;font-size:11px}.lsbb{background:#f8f9fa;border:solid 1px;border-color:#dadce0 #70757a #70757a #dadce0;height:30px}.lsbb{display:block}#WqQANb a{display:inline-block;margin:0 12px}.lsb{background:url(/images/nav_logo229.png) 0 -261px repeat-x;color:#000;border:none;cursor:pointer;height:30px;margin:0;outline:0;font:15px arial,sans-serif;vertical-align:top}.lsb:active{background:#dadce0}.lst:focus{outline:none}.Ucigb{width:458px}\\n  </style>\\n  <script nonce=\"gzgq6NNFZscyIcU2PNkeoA\">\\n   (function(){window.google.erd={jsr:1,bv:1870,de:true};\\nvar h=this||self;var k,l=null!=(k=h.mei)?k:1,n,p=null!=(n=h.sdo)?n:!0,q=0,r,t=google.erd,v=t.jsr;google.ml=function(a,b,d,m,e){e=void 0===e?2:e;b&&(r=a&&a.message);void 0===d&&(d={});d.cad=\"ple_\"+google.ple+\".aple_\"+google.aple;if(google.dl)return google.dl(a,e,d),null;if(0>v){window.console&&console.error(a,d);if(-2===v)throw a;b=!1}else b=!a||!a.message||\"Error loading script\"===a.message||q>=l&&!m?!1:!0;if(!b)return null;q++;d=d||{};b=encodeURIComponent;var c=\"/gen_204?atyp=i&ei=\"+b(google.kEI);google.kEXPI&&(c+=\"&jexpid=\"+b(google.kEXPI));c+=\"&srcpg=\"+b(google.sn)+\"&jsr=\"+b(t.jsr)+\"&bver=\"+\\nb(t.bv);var f=a.lineNumber;void 0!==f&&(c+=\"&line=\"+f);var g=a.fileName;g&&(0<g.indexOf(\"-extension:/\")&&(e=3),c+=\"&script=\"+b(g),f&&g===window.location.href&&(f=document.documentElement.outerHTML.split(\"\\\\n\")[f],c+=\"&cad=\"+b(f?f.substring(0,300):\"No script found.\")));google.ple&&1===google.ple&&(e=2);c+=\"&jsel=\"+e;for(var u in d)c+=\"&\",c+=b(u),c+=\"=\",c+=b(d[u]);c=c+\"&emsg=\"+b(a.name+\": \"+a.message);c=c+\"&jsst=\"+b(a.stack||\"N/A\");12288<=c.length&&(c=c.substr(0,12288));a=c;m||google.log(0,\"\",a);return a};window.onerror=function(a,b,d,m,e){r!==a&&(a=e instanceof Error?e:Error(a),void 0===d||\"lineNumber\"in a||(a.lineNumber=d),void 0===b||\"fileName\"in a||(a.fileName=b),google.ml(a,!1,void 0,!1,\"SyntaxError\"===a.name||\"SyntaxError\"===a.message.substring(0,11)||-1!==a.message.indexOf(\"Script error\")?3:0));r=null;p&&q>=l&&(window.onerror=null)};})();\\n  </script>\\n </head>\\n <body bgcolor=\"#fff\">\\n  <script nonce=\"gzgq6NNFZscyIcU2PNkeoA\">\\n   (function(){var src=\\'/images/nav_logo229.png\\';var iesg=false;document.body.onload = function(){window.n && window.n();if (document.images){new Image().src=src;}\\nif (!iesg){document.f&&document.f.q.focus();document.gbqf&&document.gbqf.q.focus();}\\n}\\n})();\\n  </script>\\n  <div id=\"mngb\">\\n   <div id=\"gbar\">\\n    <nobr>\\n     <b class=\"gb1\">\\n      Pesquisa\\n     </b>\\n     <a class=\"gb1\" href=\"https://www.google.com.br/imghp?hl=pt-BR&amp;tab=wi\">\\n      Imagens\\n     </a>\\n     <a class=\"gb1\" href=\"https://maps.google.com.br/maps?hl=pt-BR&amp;tab=wl\">\\n      Maps\\n     </a>\\n     <a class=\"gb1\" href=\"https://play.google.com/?hl=pt-BR&amp;tab=w8\">\\n      Play\\n     </a>\\n     <a class=\"gb1\" href=\"https://www.youtube.com/?tab=w1\">\\n      YouTube\\n     </a>\\n     <a class=\"gb1\" href=\"https://news.google.com/?tab=wn\">\\n      Notícias\\n     </a>\\n     <a class=\"gb1\" href=\"https://mail.google.com/mail/?tab=wm\">\\n      Gmail\\n     </a>\\n     <a class=\"gb1\" href=\"https://drive.google.com/?tab=wo\">\\n      Drive\\n     </a>\\n     <a class=\"gb1\" href=\"https://www.google.com.br/intl/pt-BR/about/products?tab=wh\" style=\"text-decoration:none\">\\n      <u>\\n       Mais\\n      </u>\\n      »\\n     </a>\\n    </nobr>\\n   </div>\\n   <div id=\"guser\" width=\"100%\">\\n    <nobr>\\n     <span class=\"gbi\" id=\"gbn\">\\n     </span>\\n     <span class=\"gbf\" id=\"gbf\">\\n     </span>\\n     <span id=\"gbe\">\\n     </span>\\n     <a class=\"gb4\" href=\"http://www.google.com.br/history/optout?hl=pt-BR\">\\n      Histórico da Web\\n     </a>\\n     |\\n     <a class=\"gb4\" href=\"/preferences?hl=pt-BR\">\\n      Configurações\\n     </a>\\n     |\\n     <a class=\"gb4\" href=\"https://accounts.google.com/ServiceLogin?hl=pt-BR&amp;passive=true&amp;continue=https://www.google.com.br/&amp;ec=GAZAAQ\" id=\"gb_70\" target=\"_top\">\\n      Fazer login\\n     </a>\\n    </nobr>\\n   </div>\\n   <div class=\"gbh\" style=\"left:0\">\\n   </div>\\n   <div class=\"gbh\" style=\"right:0\">\\n   </div>\\n  </div>\\n  <center>\\n   <br clear=\"all\" id=\"lgpd\"/>\\n   <div id=\"lga\">\\n    <img alt=\"Google\" height=\"92\" id=\"hplogo\" src=\"/images/branding/googlelogo/1x/googlelogo_white_background_color_272x92dp.png\" style=\"padding:28px 0 14px\" width=\"272\"/>\\n    <br/>\\n    <br/>\\n   </div>\\n   <form action=\"/search\" name=\"f\">\\n    <table cellpadding=\"0\" cellspacing=\"0\">\\n     <tr valign=\"top\">\\n      <td width=\"25%\">\\n      </td>\\n      <td align=\"center\" nowrap=\"\">\\n       <input name=\"ie\" type=\"hidden\" value=\"ISO-8859-1\"/>\\n       <input name=\"hl\" type=\"hidden\" value=\"pt-BR\"/>\\n       <input name=\"source\" type=\"hidden\" value=\"hp\"/>\\n       <input name=\"biw\" type=\"hidden\"/>\\n       <input name=\"bih\" type=\"hidden\"/>\\n       <div class=\"ds\" style=\"height:32px;margin:4px 0\">\\n        <div style=\"position:relative;zoom:1\">\\n         <input autocomplete=\"off\" class=\"lst Ucigb\" maxlength=\"2048\" name=\"q\" size=\"57\" style=\"margin:0;padding:5px 8px 0 6px;vertical-align:top;color:#000;padding-right:38px\" title=\"Pesquisa Google\" value=\"\"/>\\n         <img alt=\"\" data-script-url=\"/textinputassistant/13/pt-BR_tia.js\" height=\"23\" id=\"tsuid_1\" src=\"/textinputassistant/tia.png\" style=\"position:absolute;cursor:pointer;right:5px;top:4px;z-index:300\" width=\"27\"/>\\n         <script nonce=\"gzgq6NNFZscyIcU2PNkeoA\">\\n          (function(){var id=\\'tsuid_1\\';document.getElementById(id).onclick = function(){var s = document.createElement(\\'script\\');s.src = this.getAttribute(\\'data-script-url\\');(document.getElementById(\\'xjsc\\')||document.body).appendChild(s);};})();\\n         </script>\\n        </div>\\n       </div>\\n       <br style=\"line-height:0\"/>\\n       <span class=\"ds\">\\n        <span class=\"lsbb\">\\n         <input class=\"lsb\" name=\"btnG\" type=\"submit\" value=\"Pesquisa Google\"/>\\n        </span>\\n       </span>\\n       <span class=\"ds\">\\n        <span class=\"lsbb\">\\n         <input class=\"lsb\" id=\"tsuid_2\" name=\"btnI\" type=\"submit\" value=\"Estou com sorte\"/>\\n         <script nonce=\"gzgq6NNFZscyIcU2PNkeoA\">\\n          (function(){var id=\\'tsuid_2\\';document.getElementById(id).onclick = function(){if (this.form.q.value){this.checked = 1;if (this.form.iflsig)this.form.iflsig.disabled = false;}\\nelse top.location=\\'/doodles/\\';};})();\\n         </script>\\n         <input name=\"iflsig\" type=\"hidden\" value=\"AO6bgOgAAAAAZQzpGT386huwLmpww95w4tO-m51xplDK\"/>\\n        </span>\\n       </span>\\n      </td>\\n      <td align=\"left\" class=\"fl sblc\" nowrap=\"\" width=\"25%\">\\n       <a href=\"/advanced_search?hl=pt-BR&amp;authuser=0\">\\n        Pesquisa avançada\\n       </a>\\n      </td>\\n     </tr>\\n    </table>\\n    <input id=\"gbv\" name=\"gbv\" type=\"hidden\" value=\"1\"/>\\n    <script nonce=\"gzgq6NNFZscyIcU2PNkeoA\">\\n     (function(){var a,b=\"1\";if(document&&document.getElementById)if(\"undefined\"!=typeof XMLHttpRequest)b=\"2\";else if(\"undefined\"!=typeof ActiveXObject){var c,d,e=[\"MSXML2.XMLHTTP.6.0\",\"MSXML2.XMLHTTP.3.0\",\"MSXML2.XMLHTTP\",\"Microsoft.XMLHTTP\"];for(c=0;d=e[c++];)try{new ActiveXObject(d),b=\"2\"}catch(h){}}a=b;if(\"2\"==a&&-1==location.search.indexOf(\"&gbv=2\")){var f=google.gbvu,g=document.getElementById(\"gbv\");g&&(g.value=a);f&&window.setTimeout(function(){location.href=f},0)};}).call(this);\\n    </script>\\n   </form>\\n   <div id=\"gac_scont\">\\n   </div>\\n   <div style=\"font-size:83%;min-height:3.5em\">\\n    <br/>\\n   </div>\\n   <span id=\"footer\">\\n    <div style=\"font-size:10pt\">\\n     <div id=\"WqQANb\" style=\"margin:19px auto;text-align:center\">\\n      <a href=\"/intl/pt-BR/ads/\">\\n       Publicidade\\n      </a>\\n      <a href=\"/services/\">\\n       Soluções empresariais\\n      </a>\\n      <a href=\"/intl/pt-BR/about.html\">\\n       Sobre o Google\\n      </a>\\n      <a href=\"https://www.google.com.br/setprefdomain?prefdom=US&amp;sig=K_nJwqwakYgdOajAQKeFnexgJ8_JU%3D\" id=\"fehl\">\\n       Google.com\\n      </a>\\n     </div>\\n    </div>\\n    <p style=\"font-size:8pt;color:#70757a\">\\n     © 2023 -\\n     <a href=\"/intl/pt-BR/policies/privacy/\">\\n      Privacidade\\n     </a>\\n     -\\n     <a href=\"/intl/pt-BR/policies/terms/\">\\n      Termos\\n     </a>\\n    </p>\\n   </span>\\n  </center>\\n  <script nonce=\"gzgq6NNFZscyIcU2PNkeoA\">\\n   (function(){window.google.cdo={height:757,width:1440};(function(){var a=window.innerWidth,b=window.innerHeight;if(!a||!b){var c=window.document,d=\"CSS1Compat\"==c.compatMode?c.documentElement:c.body;a=d.clientWidth;b=d.clientHeight}\\nif(a&&b&&(a!=google.cdo.width||b!=google.cdo.height)){var e=google,f=e.log,g=\"/client_204?&atyp=i&biw=\"+a+\"&bih=\"+b+\"&ei=\"+google.kEI,h=\"\",k=[],l=void 0!==window.google&&void 0!==window.google.kOPI&&0!==window.google.kOPI?window.google.kOPI:null;null!=l&&k.push([\"opi\",l.toString()]);for(var m=0;m<k.length;m++){if(0===m||0<m)h+=\"&\";h+=k[m][0]+\"=\"+k[m][1]}f.call(e,\"\",\"\",g+h)};}).call(this);})();\\n  </script>\\n  <script nonce=\"gzgq6NNFZscyIcU2PNkeoA\">\\n   (function(){google.xjs={ck:\\'xjs.hp.PzYy2fmZ7OM.L.X.O\\',cs:\\'ACT90oH7xhuAUyDqbhNuixCT8uRc0b4GCA\\',cssopt:false,csss:\\'ACT90oFFPsSLScPFDZPMeWPBOM7b31L48g\\',excm:[],sepcss:false};google.actx={context:\\'url: \\\\x22/xjs/_/js/k\\\\x3dxjs.s.pt_BR.jzDPqraur2s.O/am\\\\x3dCAAAAAAAAAAAAAAAAgCgBsIhAAAgQCAAAgAAEACAgAIRBDAAQAAAgEgAAAABgBCAAOJgCwCggDgAAAAAAIR9AAAAAAAAC4AAAKAJYEAIWAQEAAAAQA4AgAeAGARYAAAAAAAAAAAAAAKWIBhckAAACAAAAAAAAAAAAAAAqWzi/d\\\\x3d1/ed\\\\x3d1/dg\\\\x3d2/rs\\\\x3dACT90oFcVFc6ug-wSHXWpLBUE0BP1ZeB9w/ee\\\\x3dcEt90b:ws9Tlc;qddgKe:x4FYXe,d7YSfd;yxTchf:KUM7Z;dtl0hd:lLQWFe;eHDfl:ofjVkb;qaS3gd:yiLg6e;nAFL3:NTMZac,s39S4;oGtAuc:sOXFj;iFQyKf:vfuNJf,QIhFr;SNUn3:ZwDk9d,x8cHvb;io8t5d:sgY6Zb;Oj465e:KG2eXe,KG2eXe;Erl4fe:FloWmf,FloWmf;JsbNhc:Xd8iUd;sP4Vbe:VwDzFe;kMFpHd:OTA3Ae;uY49fb:COQbmf;Pjplud:PoEs9b,EEDORb;QGR0gd:Mlhmy;a56pNe:JEfCwb;Me32dd:MEeYgc;wR5FRb:TtcOte,O1Gjze;pXdRYb:JKoKVe;dIoSBb:ZgGg9b;EmZ2Bf:zr1jrb;NSEoX:lazG7b;eBAeSb:Ck63tb;WCEKNd:I46Hvd;wV5Pjc:L8KGxe;EVNhjf:pw70Gc;sTsDMc:kHVSUb;wQlYve:aLUfP;zOsCQe:Ko78Df;KcokUb:KiuZBf;YV5bee:IvPZ6d;kbAm9d:MkHyGd;ZWEUA:afR4Cf;g8nkx:U4MzKc;lzgfYb:PI40bd;w9w86d:VvLVQd;GleZL:J1A7Od;bcPXSc:gSZLJb;JXS8fb:Qj0suc;IoGlCf:b5lhvb;VN6jIc:ddQyuf;vfVwPd:lcrkwe;ESrPQc:mNTJvc;pNsl2d:j9Yuyc;VGRfx:VFqbr;BjwMce:cXX2Wb;R9Ulx:CR7Ufe;kY7VAf:d91TEb;xBbsrc:NEW1Qc;KpRAue:Tia57b;jY0zg:Q6tNgc;l8Azde:j4Ca9b;oSUNyd:fTfGO,fTfGO,pnvXVc;SMDL4c:fTfGO,pnvXVc;aZ61od:arTwJ;ZrFutb:W4Cdfc;K8vqCc:MyIcle;NPKaK:SdcwHb;LBgRLc:XVMNvd,SdcwHb;rQSrae:C6D5Fc;kCQyJ:ueyPK;KQzWid:mB4wNe;EABSZ:MXZt9d;qavrXe:zQzcXe,mYbt1d;TxfV6d:YORN0b;UDrY1c:eps46d;F9mqte:UoRcbe;Nyt6ic:jn2sGd;w3bZCb:ZPGaIb;G0KhTb:LIaoZ;XUezZ:sa7lqb;aAJE9c:WHW6Ef;V2HTTe:RolTY;Wfmdue:g3MJlb;imqimf:jKGL2e;BgS6mb:fidj5d;UVmjEd:EesRsb;z97YGf:oug9te;AfeaP:TkrAjf;eBZ5Nd:audvde;CxXAWb:YyRLvc;SLtqO:Kh1xYe;tosKvd:ZCqP3;VOcgDe:YquhTb;uuQkY:u2V3ud;WDGyFe:jcVOxd;trZL0b:qY8PFe;VxQ32b:k0XsBb;DULqB:RKfG5c;Np8Qkd:Dpx6qc;cFTWae:gT8qnd;gaub4:TN6bMe;DpcR3d:zL72xf;hjRo6e:F62sG;yGxLoc:FmAr0c;oUlnpc:RagDlc;R2kc8b:ALJqWb;pj82le:mg5CW;dLlj2:Qqt3Gf;qGV2uc:HHi04c;gtVSi:ekUOYd;UyG7Kb:wQd0G;LsNahb:ucGLNb;xbe2wc:wbTLEd;Q1Ow7b:x5CSu;bFZ6gf:RsDQqe;okUaUd:wItadb;G6wU6e:hezEbd;uknmt:GkPrzb;U96pRd:FsR04;PqHfGe:im2cZe;Fmv9Nc:O1Tzwc;hK67qb:QWEO5b;BMxAGc:E5bFse;R4IIIb:QWfeKf;whEZac:F4AmNb;tH4IIe:Ymry6;lkq0A:JyBE3e;daB6be:lMxGPd;LEikZe:byfTOb,lsjVmc/m\\\\x3dcdos,d,cEt90b,SNUn3,qddgKe,sTsDMc,dtl0hd,eHDfl\\\\x22\\\\njs_row_key: \\\\x22xjs.s.pt_BR.jzDPqraur2s.O\\\\x22\\\\ntrusted_resource_url {\\\\n  private_do_not_access_or_else_trusted_resource_url_wrapped_value: \\\\x22/xjs/_/js/k\\\\x3dxjs.s.pt_BR.jzDPqraur2s.O/am\\\\x3dCAAAAAAAAAAAAAAAAgCgBsIhAAAgQCAAAgAAEACAgAIRBDAAQAAAgEgAAAABgBCAAOJgCwCggDgAAAAAAIR9AAAAAAAAC4AAAKAJYEAIWAQEAAAAQA4AgAeAGARYAAAAAAAAAAAAAAKWIBhckAAACAAAAAAAAAAAAAAAqWzi/d\\\\x3d1/ed\\\\x3d1/dg\\\\x3d2/rs\\\\x3dACT90oFcVFc6ug-wSHXWpLBUE0BP1ZeB9w/ee\\\\x3dcEt90b:ws9Tlc;qddgKe:x4FYXe,d7YSfd;yxTchf:KUM7Z;dtl0hd:lLQWFe;eHDfl:ofjVkb;qaS3gd:yiLg6e;nAFL3:NTMZac,s39S4;oGtAuc:sOXFj;iFQyKf:vfuNJf,QIhFr;SNUn3:ZwDk9d,x8cHvb;io8t5d:sgY6Zb;Oj465e:KG2eXe,KG2eXe;Erl4fe:FloWmf,FloWmf;JsbNhc:Xd8iUd;sP4Vbe:VwDzFe;kMFpHd:OTA3Ae;uY49fb:COQbmf;Pjplud:PoEs9b,EEDORb;QGR0gd:Mlhmy;a56pNe:JEfCwb;Me32dd:MEeYgc;wR5FRb:TtcOte,O1Gjze;pXdRYb:JKoKVe;dIoSBb:ZgGg9b;EmZ2Bf:zr1jrb;NSEoX:lazG7b;eBAeSb:Ck63tb;WCEKNd:I46Hvd;wV5Pjc:L8KGxe;EVNhjf:pw70Gc;sTsDMc:kHVSUb;wQlYve:aLUfP;zOsCQe:Ko78Df;KcokUb:KiuZBf;YV5bee:IvPZ6d;kbAm9d:MkHyGd;ZWEUA:afR4Cf;g8nkx:U4MzKc;lzgfYb:PI40bd;w9w86d:VvLVQd;GleZL:J1A7Od;bcPXSc:gSZLJb;JXS8fb:Qj0suc;IoGlCf:b5lhvb;VN6jIc:ddQyuf;vfVwPd:lcrkwe;ESrPQc:mNTJvc;pNsl2d:j9Yuyc;VGRfx:VFqbr;BjwMce:cXX2Wb;R9Ulx:CR7Ufe;kY7VAf:d91TEb;xBbsrc:NEW1Qc;KpRAue:Tia57b;jY0zg:Q6tNgc;l8Azde:j4Ca9b;oSUNyd:fTfGO,fTfGO,pnvXVc;SMDL4c:fTfGO,pnvXVc;aZ61od:arTwJ;ZrFutb:W4Cdfc;K8vqCc:MyIcle;NPKaK:SdcwHb;LBgRLc:XVMNvd,SdcwHb;rQSrae:C6D5Fc;kCQyJ:ueyPK;KQzWid:mB4wNe;EABSZ:MXZt9d;qavrXe:zQzcXe,mYbt1d;TxfV6d:YORN0b;UDrY1c:eps46d;F9mqte:UoRcbe;Nyt6ic:jn2sGd;w3bZCb:ZPGaIb;G0KhTb:LIaoZ;XUezZ:sa7lqb;aAJE9c:WHW6Ef;V2HTTe:RolTY;Wfmdue:g3MJlb;imqimf:jKGL2e;BgS6mb:fidj5d;UVmjEd:EesRsb;z97YGf:oug9te;AfeaP:TkrAjf;eBZ5Nd:audvde;CxXAWb:YyRLvc;SLtqO:Kh1xYe;tosKvd:ZCqP3;VOcgDe:YquhTb;uuQkY:u2V3ud;WDGyFe:jcVOxd;trZL0b:qY8PFe;VxQ32b:k0XsBb;DULqB:RKfG5c;Np8Qkd:Dpx6qc;cFTWae:gT8qnd;gaub4:TN6bMe;DpcR3d:zL72xf;hjRo6e:F62sG;yGxLoc:FmAr0c;oUlnpc:RagDlc;R2kc8b:ALJqWb;pj82le:mg5CW;dLlj2:Qqt3Gf;qGV2uc:HHi04c;gtVSi:ekUOYd;UyG7Kb:wQd0G;LsNahb:ucGLNb;xbe2wc:wbTLEd;Q1Ow7b:x5CSu;bFZ6gf:RsDQqe;okUaUd:wItadb;G6wU6e:hezEbd;uknmt:GkPrzb;U96pRd:FsR04;PqHfGe:im2cZe;Fmv9Nc:O1Tzwc;hK67qb:QWEO5b;BMxAGc:E5bFse;R4IIIb:QWfeKf;whEZac:F4AmNb;tH4IIe:Ymry6;lkq0A:JyBE3e;daB6be:lMxGPd;LEikZe:byfTOb,lsjVmc/m\\\\x3dcdos,d,cEt90b,SNUn3,qddgKe,sTsDMc,dtl0hd,eHDfl\\\\x22\\\\n}\\\\ncombined_signature: \\\\x22ACT90oHOCemD7sKcEXRTVHwaRqVPsP3Kdw\\\\x22\\\\ncss_row_key: \\\\x22xjs.s.udkrMq6N_Fg.L.X.O\\\\x22\\\\ncss_signature: \\\\x22ACT90oFInPqMsyzlSa9si4GV0X-mWnoxsg\\\\x22\\\\nactive_mods: \\\\x22CAAAAAAAAAAAAAAAAgCgBsIhAAAgQCAAAgAAEACAgAIRBDAAQAAAgEgAAAABgBCAAOJgCwCggDgAAAAAAIR9AAAAAAAAC4AAAKAJYEAIWAQEAAAAQA4AgAeAGARYAAAAAAAAAAAAAAKWIBhckAAACAAAAAAAAAAAAAAAqWzi\\\\x22\\\\n\\',sig:\\'jhy8jyFTtCw\\'};})();\\n  </script>\\n  <script nonce=\"gzgq6NNFZscyIcU2PNkeoA\">\\n   (function(){var u=\\'/xjs/_/js/k\\\\x3dxjs.hp.en.ItN48dGHu8E.O/am\\\\x3dAAAAAAAAAAAAAAAgAAAAAAAQABAgAAAAAAAAQAAAOgIAYAEALg/d\\\\x3d1/ed\\\\x3d1/rs\\\\x3dACT90oHTFFQH2DJmIb367cNsbZ2wXPz7Rw/m\\\\x3dsb_he,d,cEt90b,SNUn3,qddgKe,sTsDMc,dtl0hd,eHDfl\\';var amd=0;\\nvar e=this||self,f=function(a){return a};var g;var h=function(a){this.g=a};h.prototype.toString=function(){return this.g+\"\"};var k={};var l=function(){var a=document;var b=\"SCRIPT\";\"application/xhtml+xml\"===a.contentType&&(b=b.toLowerCase());return a.createElement(b)};\\nfunction m(a,b){a.src=b instanceof h&&b.constructor===h?b.g:\"type_error:TrustedResourceUrl\";var c,d;(c=(b=null==(d=(c=(a.ownerDocument&&a.ownerDocument.defaultView||window).document).querySelector)?void 0:d.call(c,\"script[nonce]\"))?b.nonce||b.getAttribute(\"nonce\")||\"\":\"\")&&a.setAttribute(\"nonce\",c)};function n(a){a=null===a?\"null\":void 0===a?\"undefined\":a;if(void 0===g){var b=null;var c=e.trustedTypes;if(c&&c.createPolicy){try{b=c.createPolicy(\"goog#html\",{createHTML:f,createScript:f,createScriptURL:f})}catch(d){e.console&&e.console.error(d.message)}g=b}else g=b}a=(b=g)?b.createScriptURL(a):a;return new h(a,k)};void 0===google.ps&&(google.ps=[]);function p(){var a=u,b=function(){};google.lx=google.stvsc?b:function(){q(a);google.lx=b};google.bx||google.lx()}function r(a,b){b&&m(a,n(b));var c=a.onload;a.onload=function(d){c&&c(d);google.ps=google.ps.filter(function(t){return a!==t})};google.ps.push(a);document.body.appendChild(a)}google.as=r;function q(a){google.timers&&google.timers.load&&google.tick&&google.tick(\"load\",\"xjsls\");var b=l();b.onerror=function(){google.ple=1};b.onload=function(){google.ple=0};google.xjsus=void 0;r(b,a);google.aple=-1;google.psa=!0};google.xjsu=u;e._F_jsUrl=u;setTimeout(function(){0<amd?google.caft(function(){return p()},amd):p()},0);})();window._ = window._ || {};window._DumpException = _._DumpException = function(e){throw e;};window._s = window._s || {};_s._DumpException = _._DumpException;window._qs = window._qs || {};_qs._DumpException = _._DumpException;(function(){window._F_toggles=[1,0,0,8,5242881,32832,0,4096,536871482,12058629];})();function _F_installCss(c){}\\n(function(){google.jl={blt:\\'none\\',chnk:0,dw:false,dwu:true,emtn:0,end:0,ico:false,ikb:0,ine:false,injs:\\'none\\',injt:0,injth:0,injv2:false,lls:\\'default\\',pdt:0,rep:0,snet:true,strt:0,ubm:false,uwp:true};})();(function(){var pmc=\\'{\\\\x22d\\\\x22:{},\\\\x22sb_he\\\\x22:{\\\\x22agen\\\\x22:true,\\\\x22cgen\\\\x22:true,\\\\x22client\\\\x22:\\\\x22heirloom-hp\\\\x22,\\\\x22dh\\\\x22:true,\\\\x22ds\\\\x22:\\\\x22\\\\x22,\\\\x22fl\\\\x22:true,\\\\x22host\\\\x22:\\\\x22google.com.br\\\\x22,\\\\x22jsonp\\\\x22:true,\\\\x22msgs\\\\x22:{\\\\x22cibl\\\\x22:\\\\x22Limpar pesquisa\\\\x22,\\\\x22dym\\\\x22:\\\\x22Voc\\\\\\\\u00ea quis dizer:\\\\x22,\\\\x22lcky\\\\x22:\\\\x22Estou com sorte\\\\x22,\\\\x22lml\\\\x22:\\\\x22Saiba mais\\\\x22,\\\\x22psrc\\\\x22:\\\\x22Esta pesquisa foi removida do seu\\\\\\\\u003Ca href\\\\x3d\\\\\\\\\\\\x22/history\\\\\\\\\\\\x22\\\\\\\\u003EHist\\\\\\\\u00f3rico da web\\\\\\\\u003C/a\\\\\\\\u003E\\\\x22,\\\\x22psrl\\\\x22:\\\\x22Remover\\\\x22,\\\\x22sbit\\\\x22:\\\\x22Pesquisa por imagem\\\\x22,\\\\x22srch\\\\x22:\\\\x22Pesquisa Google\\\\x22},\\\\x22ovr\\\\x22:{},\\\\x22pq\\\\x22:\\\\x22\\\\x22,\\\\x22rfs\\\\x22:[],\\\\x22sbas\\\\x22:\\\\x220 3px 8px 0 rgba(0,0,0,0.2),0 0 0 1px rgba(0,0,0,0.08)\\\\x22,\\\\x22stok\\\\x22:\\\\x22sb2HRexjn9uhCeYSm2JDmAZlvMA\\\\x22}}\\';google.pmc=JSON.parse(pmc);})();(function(){var b=function(a){var c=0;return function(){return c<a.length?{done:!1,value:a[c++]}:{done:!0}}};\\nvar e=this||self;var g,h;a:{for(var k=[\"CLOSURE_FLAGS\"],l=e,n=0;n<k.length;n++)if(l=l[k[n]],null==l){h=null;break a}h=l}var p=h&&h[610401301];g=null!=p?p:!1;var q,r=e.navigator;q=r?r.userAgentData||null:null;function t(a){return g?q?q.brands.some(function(c){return(c=c.brand)&&-1!=c.indexOf(a)}):!1:!1}function u(a){var c;a:{if(c=e.navigator)if(c=c.userAgent)break a;c=\"\"}return-1!=c.indexOf(a)};function v(){return g?!!q&&0<q.brands.length:!1}function w(){return u(\"Safari\")&&!(x()||(v()?0:u(\"Coast\"))||(v()?0:u(\"Opera\"))||(v()?0:u(\"Edge\"))||(v()?t(\"Microsoft Edge\"):u(\"Edg/\"))||(v()?t(\"Opera\"):u(\"OPR\"))||u(\"Firefox\")||u(\"FxiOS\")||u(\"Silk\")||u(\"Android\"))}function x(){return v()?t(\"Chromium\"):(u(\"Chrome\")||u(\"CriOS\"))&&!(v()?0:u(\"Edge\"))||u(\"Silk\")}function y(){return u(\"Android\")&&!(x()||u(\"Firefox\")||u(\"FxiOS\")||(v()?0:u(\"Opera\"))||u(\"Silk\"))};var z=v()?!1:u(\"Trident\")||u(\"MSIE\");y();x();w();var A=!z&&!w(),D=function(a){if(/-[a-z]/.test(\"ved\"))return null;if(A&&a.dataset){if(y()&&!(\"ved\"in a.dataset))return null;a=a.dataset.ved;return void 0===a?null:a}return a.getAttribute(\"data-\"+\"ved\".replace(/([A-Z])/g,\"-$1\").toLowerCase())};var E=[],F=null;function G(a){a=a.target;var c=performance.now(),f=[],H=f.concat,d=E;if(!(d instanceof Array)){var m=\"undefined\"!=typeof Symbol&&Symbol.iterator&&d[Symbol.iterator];if(m)d=m.call(d);else if(\"number\"==typeof d.length)d={next:b(d)};else throw Error(\"a`\"+String(d));for(var B=[];!(m=d.next()).done;)B.push(m.value);d=B}E=H.call(f,d,[c]);if(a&&a instanceof HTMLElement)if(a===F){if(c=4<=E.length)c=5>(E[E.length-1]-E[E.length-4])/1E3;if(c){c=google.getEI(a);a.hasAttribute(\"data-ved\")?f=a?D(a)||\"\":\"\":f=(f=\\na.closest(\"[data-ved]\"))?D(f)||\"\":\"\";f=f||\"\";if(a.hasAttribute(\"jsname\"))a=a.getAttribute(\"jsname\");else{var C;a=null==(C=a.closest(\"[jsname]\"))?void 0:C.getAttribute(\"jsname\")}google.log(\"rcm\",\"&ei=\"+c+\"&ved=\"+f+\"&jsname=\"+(a||\"\"))}}else F=a,E=[c]}window.document.addEventListener(\"DOMContentLoaded\",function(){document.body.addEventListener(\"click\",G)});}).call(this);\\n  </script>\\n </body>\\n</html>\\n'"
      ]
     },
     "execution_count": 34,
     "metadata": {},
     "output_type": "execute_result"
    }
   ],
   "source": [
    "soup = BeautifulSoup(response.text, 'html.parser')\n",
    "soup.prettify()"
   ]
  },
  {
   "cell_type": "code",
   "execution_count": null,
   "metadata": {},
   "outputs": [],
   "source": []
  }
 ],
 "metadata": {
  "kernelspec": {
   "display_name": "Python 3",
   "language": "python",
   "name": "python3"
  },
  "language_info": {
   "codemirror_mode": {
    "name": "ipython",
    "version": 3
   },
   "file_extension": ".py",
   "mimetype": "text/x-python",
   "name": "python",
   "nbconvert_exporter": "python",
   "pygments_lexer": "ipython3",
   "version": "3.11.3"
  },
  "orig_nbformat": 4
 },
 "nbformat": 4,
 "nbformat_minor": 2
}
