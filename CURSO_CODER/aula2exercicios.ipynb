{
 "cells": [
  {
   "cell_type": "markdown",
   "metadata": {},
   "source": [
    "# Aula 02 Fundamentos de programação I\n",
    "# Em Sala\n",
    "## Exercício 1"
   ]
  },
  {
   "cell_type": "code",
   "execution_count": 2,
   "metadata": {},
   "outputs": [
    {
     "name": "stdout",
     "output_type": "stream",
     "text": [
      "Seu novo saldo é 750.6.\n"
     ]
    }
   ],
   "source": [
    "saldo = 950.60\n",
    "saque = float(input(\"Quanto dinheiro você deseja sacar? \"))\n",
    "\n",
    "novo_saldo = saldo - saque\n",
    "print(f\"Seu novo saldo é {novo_saldo}.\") "
   ]
  },
  {
   "cell_type": "markdown",
   "metadata": {},
   "source": [
    "## Exercício 2"
   ]
  },
  {
   "cell_type": "code",
   "execution_count": 32,
   "metadata": {},
   "outputs": [],
   "source": [
    "frutas = []\n",
    "total = 0\n",
    "\n",
    "while total != 5:\n",
    "    fruta = input(\"Digite o nome de uma fruta: \")\n",
    "    if fruta in (frutas):\n",
    "        continue\n",
    "    frutas.append(fruta)\n",
    "    total = total + 1\n",
    "    \n",
    "frutas = list(set(frutas))      \n",
    "print(frutas)\n"
   ]
  },
  {
   "cell_type": "code",
   "execution_count": 31,
   "metadata": {},
   "outputs": [
    {
     "data": {
      "text/plain": [
       "['jaca', 'jajca', 'pera', 'uva', 'maca']"
      ]
     },
     "execution_count": 31,
     "metadata": {},
     "output_type": "execute_result"
    }
   ],
   "source": [
    "list(frutas)"
   ]
  },
  {
   "cell_type": "markdown",
   "metadata": {},
   "source": [
    "## Exercício 3"
   ]
  },
  {
   "cell_type": "code",
   "execution_count": 4,
   "metadata": {},
   "outputs": [
    {
     "name": "stdout",
     "output_type": "stream",
     "text": [
      "Frase com vogais substituídas: *v*\n"
     ]
    }
   ],
   "source": [
    "frase = input(\"Digite uma frase: \")\n",
    "\n",
    "substituida = frase.lower().replace('a', '*').replace('e', '*').replace('i', '*').replace('o', '*').replace('u', '*')\n",
    "\n",
    "print(\"Frase com vogais substituídas:\", substituida)"
   ]
  },
  {
   "cell_type": "markdown",
   "metadata": {},
   "source": [
    "# Desafio Complementar"
   ]
  },
  {
   "cell_type": "markdown",
   "metadata": {},
   "source": [
    "## Exercício 1"
   ]
  },
  {
   "cell_type": "code",
   "execution_count": 5,
   "metadata": {},
   "outputs": [
    {
     "name": "stdout",
     "output_type": "stream",
     "text": [
      "Seu IMC é: 0.01\n"
     ]
    }
   ],
   "source": [
    "# Pergunta ao usuário o peso em kg e altura em metros\n",
    "peso = float(input(\"Qual é o seu peso em kg? \"))\n",
    "altura = float(input(\"Qual é a sua altura em metros? \"))\n",
    "\n",
    "# Calcula o IMC (Índice de Massa Corporal)\n",
    "imc = peso / (altura ** 2)\n",
    "\n",
    "# Imprime o resultado\n",
    "print(\"Seu IMC é: {:.2f}\".format(imc))"
   ]
  },
  {
   "cell_type": "markdown",
   "metadata": {},
   "source": [
    "## Exercício 2"
   ]
  },
  {
   "cell_type": "code",
   "execution_count": 26,
   "metadata": {},
   "outputs": [
    {
     "name": "stdout",
     "output_type": "stream",
     "text": [
      "Sua lista: [1.0, 2.0, 3.0, 4.0, 5.0]\n"
     ]
    }
   ],
   "source": [
    "lista = []\n",
    "lista.append(float(input(\"num 1:\")))\n",
    "lista.append(float(input(\"num 2:\")))\n",
    "lista.append(float(input(\"num 3:\")))\n",
    "lista.append(float(input(\"num 4:\")))\n",
    "lista.append(float(input(\"num 5:\")))\n",
    "\n",
    "print(\"Sua lista:\", lista)"
   ]
  },
  {
   "cell_type": "markdown",
   "metadata": {},
   "source": [
    "## Exercício 3"
   ]
  },
  {
   "cell_type": "code",
   "execution_count": 25,
   "metadata": {},
   "outputs": [
    {
     "name": "stdout",
     "output_type": "stream",
     "text": [
      "Lista de nomes: ['andre', 'pedro', 'felipe']\n"
     ]
    }
   ],
   "source": [
    "nomes = input(\"Digite uma lista de nomes separados por vírgula: \")\n",
    "\n",
    "lista_nomes = nomes.split(\",\") # o sinal que deseja separar os nomes\n",
    "\n",
    "print(\"Lista de nomes:\", lista_nomes)"
   ]
  }
 ],
 "metadata": {
  "kernelspec": {
   "display_name": "Python 3",
   "language": "python",
   "name": "python3"
  },
  "language_info": {
   "codemirror_mode": {
    "name": "ipython",
    "version": 3
   },
   "file_extension": ".py",
   "mimetype": "text/x-python",
   "name": "python",
   "nbconvert_exporter": "python",
   "pygments_lexer": "ipython3",
   "version": "3.11.3"
  },
  "orig_nbformat": 4
 },
 "nbformat": 4,
 "nbformat_minor": 2
}
