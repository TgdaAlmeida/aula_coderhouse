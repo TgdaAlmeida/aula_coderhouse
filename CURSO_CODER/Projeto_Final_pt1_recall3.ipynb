{
 "cells": [
  {
   "cell_type": "markdown",
   "metadata": {},
   "source": [
    "                                                   PROJETO FINAL CODERHOUSE"
   ]
  },
  {
   "cell_type": "markdown",
   "metadata": {},
   "source": [
    "1º ETAPA \n",
    "- ESCOLHER UMA API DA LISTA DISPONÍVEL;\n",
    "- FAZER A EXTRAÇÃO DE PELO MENOS 3 TABELAS;\n",
    "- CRIAR UM ALERTA DE ERRO USANDO A FUNÇÃO ALERTA() DO DESAFIO DA AULA DE FUNDAMENTOS DE  PROGRAMA III\n",
    "- SUBIR ARQUIVO NO GITHUB E FORNECER LINK NO ICONE DE ENTRADA CODERHOUSE."
   ]
  },
  {
   "cell_type": "markdown",
   "metadata": {},
   "source": [
    "Grupo: Pedro Alves Bacurau Junior, Regiane Rodrigues, Rafael Souza Morgado, Thiago Almeida"
   ]
  },
  {
   "cell_type": "code",
   "execution_count": 1,
   "metadata": {},
   "outputs": [],
   "source": [
    "import pandas as pd\n",
    "from datetime import datetime\n",
    "from plyer import notification\n",
    "import requests"
   ]
  },
  {
   "cell_type": "code",
   "execution_count": 170,
   "metadata": {},
   "outputs": [],
   "source": [
    "#url = 'https://brasilapi.com.br/api/banks/v1' #bancos ok\n",
    "url = 'https://brasilapi.com.br/api/cvm/corretoras/v1' #corretoras ok\n",
    "#url = 'https://brasilapi.com.br/api/ibge/municipios/v1/SP?providers=dados-abertos-br,gov,wikipedia' #ibge ok\n",
    "#url = 'https://brasilapi.com.br/api/ibge/uf/v1' #ok"
   ]
  },
  {
   "cell_type": "code",
   "execution_count": 171,
   "metadata": {},
   "outputs": [],
   "source": [
    "def Alerta(nivel, base, etapa):\n",
    "    \n",
    "    data_atual = datetime.now()\n",
    "    data_formatada = data_atual.strftime('%d/%m/%d')\n",
    "    mensagem = (f'Falha no carregamento da base {base} na etapa {etapa} em {data_formatada}')\n",
    "    title = nivel\n",
    "    notification.notify(title = title, message= mensagem, timeout= 10)"
   ]
  },
  {
   "cell_type": "code",
   "execution_count": 172,
   "metadata": {},
   "outputs": [],
   "source": [
    "while True: \n",
    "    response = requests.get(url)\n",
    "    response_code = response.status_code\n",
    "    break"
   ]
  },
  {
   "cell_type": "code",
   "execution_count": 173,
   "metadata": {},
   "outputs": [
    {
     "name": "stdout",
     "output_type": "stream",
     "text": [
      "Requisição Completa\n"
     ]
    }
   ],
   "source": [
    "if response_code == 200:\n",
    "    data_json = response.json()\n",
    "    df = pd.DataFrame(data_json)\n",
    "    print('Requisição Completa')\n",
    "else:\n",
    "    nivel = 'ATENÇÃO: Erro Grave'\n",
    "    Alerta(nivel = nivel, base='Data_Bank',etapa='Extração')"
   ]
  },
  {
   "cell_type": "code",
   "execution_count": 178,
   "metadata": {},
   "outputs": [
    {
     "data": {
      "text/html": [
       "<div>\n",
       "<style scoped>\n",
       "    .dataframe tbody tr th:only-of-type {\n",
       "        vertical-align: middle;\n",
       "    }\n",
       "\n",
       "    .dataframe tbody tr th {\n",
       "        vertical-align: top;\n",
       "    }\n",
       "\n",
       "    .dataframe thead th {\n",
       "        text-align: right;\n",
       "    }\n",
       "</style>\n",
       "<table border=\"1\" class=\"dataframe\">\n",
       "  <thead>\n",
       "    <tr style=\"text-align: right;\">\n",
       "      <th></th>\n",
       "      <th>cnpj</th>\n",
       "      <th>type</th>\n",
       "      <th>nome_social</th>\n",
       "      <th>nome_comercial</th>\n",
       "      <th>status</th>\n",
       "      <th>email</th>\n",
       "      <th>telefone</th>\n",
       "      <th>cep</th>\n",
       "      <th>pais</th>\n",
       "      <th>uf</th>\n",
       "      <th>municipio</th>\n",
       "      <th>bairro</th>\n",
       "      <th>complemento</th>\n",
       "      <th>logradouro</th>\n",
       "      <th>data_patrimonio_liquido</th>\n",
       "      <th>valor_patrimonio_liquido</th>\n",
       "      <th>codigo_cvm</th>\n",
       "      <th>data_inicio_situacao</th>\n",
       "      <th>data_registro</th>\n",
       "    </tr>\n",
       "  </thead>\n",
       "  <tbody>\n",
       "    <tr>\n",
       "      <th>0</th>\n",
       "      <td>76621457000185</td>\n",
       "      <td>CORRETORAS</td>\n",
       "      <td>4UM DTVM S.A.</td>\n",
       "      <td>4UM INVESTIMENTOS</td>\n",
       "      <td>CANCELADA</td>\n",
       "      <td>controle@4um.com.br</td>\n",
       "      <td>33519966</td>\n",
       "      <td>80420210</td>\n",
       "      <td>BRASIL</td>\n",
       "      <td>PR</td>\n",
       "      <td>CURITIBA</td>\n",
       "      <td>CENTRO</td>\n",
       "      <td>4º ANDAR</td>\n",
       "      <td>R. VISCONDE DO RIO BRANCO 1488</td>\n",
       "      <td>2005-12-31</td>\n",
       "      <td>4228660.18</td>\n",
       "      <td>2275</td>\n",
       "      <td>2006-10-05</td>\n",
       "      <td>1968-01-15</td>\n",
       "    </tr>\n",
       "    <tr>\n",
       "      <th>1</th>\n",
       "      <td>33817677000176</td>\n",
       "      <td>CORRETORAS</td>\n",
       "      <td>ABC BRASIL DISTRIBUIDORA DE TÍTULOS E VALORES ...</td>\n",
       "      <td>ABC BRASIL CORRETORA</td>\n",
       "      <td>CANCELADA</td>\n",
       "      <td>regina.tkatch@abcbrasil.com.br</td>\n",
       "      <td>31702172</td>\n",
       "      <td>1453000</td>\n",
       "      <td></td>\n",
       "      <td>SP</td>\n",
       "      <td>SÃO PAULO</td>\n",
       "      <td>ITAIM BIBI</td>\n",
       "      <td>2º ANDAR</td>\n",
       "      <td>AV. CIDADE JARDIM, 803</td>\n",
       "      <td>2002-12-31</td>\n",
       "      <td>0.00</td>\n",
       "      <td>3514</td>\n",
       "      <td>2002-10-14</td>\n",
       "      <td>2002-10-14</td>\n",
       "    </tr>\n",
       "  </tbody>\n",
       "</table>\n",
       "</div>"
      ],
      "text/plain": [
       "             cnpj        type  \\\n",
       "0  76621457000185  CORRETORAS   \n",
       "1  33817677000176  CORRETORAS   \n",
       "\n",
       "                                         nome_social        nome_comercial  \\\n",
       "0                                      4UM DTVM S.A.     4UM INVESTIMENTOS   \n",
       "1  ABC BRASIL DISTRIBUIDORA DE TÍTULOS E VALORES ...  ABC BRASIL CORRETORA   \n",
       "\n",
       "      status                           email  telefone       cep    pais  uf  \\\n",
       "0  CANCELADA             controle@4um.com.br  33519966  80420210  BRASIL  PR   \n",
       "1  CANCELADA  regina.tkatch@abcbrasil.com.br  31702172   1453000          SP   \n",
       "\n",
       "   municipio      bairro complemento                      logradouro  \\\n",
       "0   CURITIBA      CENTRO    4º ANDAR  R. VISCONDE DO RIO BRANCO 1488   \n",
       "1  SÃO PAULO  ITAIM BIBI    2º ANDAR          AV. CIDADE JARDIM, 803   \n",
       "\n",
       "  data_patrimonio_liquido valor_patrimonio_liquido codigo_cvm  \\\n",
       "0              2005-12-31               4228660.18       2275   \n",
       "1              2002-12-31                     0.00       3514   \n",
       "\n",
       "  data_inicio_situacao data_registro  \n",
       "0           2006-10-05    1968-01-15  \n",
       "1           2002-10-14    2002-10-14  "
      ]
     },
     "execution_count": 178,
     "metadata": {},
     "output_type": "execute_result"
    }
   ],
   "source": [
    "df_corretoras.head(2)"
   ]
  },
  {
   "cell_type": "code",
   "execution_count": 179,
   "metadata": {},
   "outputs": [
    {
     "data": {
      "text/html": [
       "<div>\n",
       "<style scoped>\n",
       "    .dataframe tbody tr th:only-of-type {\n",
       "        vertical-align: middle;\n",
       "    }\n",
       "\n",
       "    .dataframe tbody tr th {\n",
       "        vertical-align: top;\n",
       "    }\n",
       "\n",
       "    .dataframe thead th {\n",
       "        text-align: right;\n",
       "    }\n",
       "</style>\n",
       "<table border=\"1\" class=\"dataframe\">\n",
       "  <thead>\n",
       "    <tr style=\"text-align: right;\">\n",
       "      <th></th>\n",
       "      <th>ispb</th>\n",
       "      <th>name</th>\n",
       "      <th>code</th>\n",
       "      <th>fullName</th>\n",
       "    </tr>\n",
       "  </thead>\n",
       "  <tbody>\n",
       "    <tr>\n",
       "      <th>0</th>\n",
       "      <td>00000000</td>\n",
       "      <td>BCO DO BRASIL S.A.</td>\n",
       "      <td>1.0</td>\n",
       "      <td>Banco do Brasil S.A.</td>\n",
       "    </tr>\n",
       "    <tr>\n",
       "      <th>1</th>\n",
       "      <td>00000208</td>\n",
       "      <td>BRB - BCO DE BRASILIA S.A.</td>\n",
       "      <td>70.0</td>\n",
       "      <td>BRB - BANCO DE BRASILIA S.A.</td>\n",
       "    </tr>\n",
       "  </tbody>\n",
       "</table>\n",
       "</div>"
      ],
      "text/plain": [
       "       ispb                        name  code                      fullName\n",
       "0  00000000          BCO DO BRASIL S.A.   1.0          Banco do Brasil S.A.\n",
       "1  00000208  BRB - BCO DE BRASILIA S.A.  70.0  BRB - BANCO DE BRASILIA S.A."
      ]
     },
     "execution_count": 179,
     "metadata": {},
     "output_type": "execute_result"
    }
   ],
   "source": [
    "df_bancos.head(2)"
   ]
  },
  {
   "cell_type": "code",
   "execution_count": null,
   "metadata": {},
   "outputs": [],
   "source": [
    "#url = f'https://brasilapi.com.br/api/ibge/municipios/v1/SP?providers=dados-abertos-br,gov,wikipedia'"
   ]
  },
  {
   "cell_type": "code",
   "execution_count": null,
   "metadata": {},
   "outputs": [],
   "source": [
    "#for estado in df['sigla'].unique()[1:3]:\n",
    "    #url = f'https://brasilapi.com.br/api/ibge/municipios/v1/{estado}?providers=dados-abertos-br,gov,wikipedia'\n",
    "    #req = requests.get(url)\n",
    "    #data_json = req.json()\n",
    "    #df = pd.DataFrame(data_json)\n",
    "    #df = pd.concat(df, df_mun)"
   ]
  }
 ],
 "metadata": {
  "kernelspec": {
   "display_name": "Python 3",
   "language": "python",
   "name": "python3"
  },
  "language_info": {
   "codemirror_mode": {
    "name": "ipython",
    "version": 3
   },
   "file_extension": ".py",
   "mimetype": "text/x-python",
   "name": "python",
   "nbconvert_exporter": "python",
   "pygments_lexer": "ipython3",
   "version": "3.11.3"
  },
  "orig_nbformat": 4
 },
 "nbformat": 4,
 "nbformat_minor": 2
}
