{
 "cells": [
  {
   "cell_type": "code",
   "execution_count": 417,
   "metadata": {},
   "outputs": [],
   "source": [
    "import pandas as pd\n",
    "from datetime import datetime\n",
    "from plyer import notification\n",
    "import requests\n",
    "import numpy as np\n",
    "import sqlite3"
   ]
  },
  {
   "cell_type": "code",
   "execution_count": 382,
   "metadata": {},
   "outputs": [],
   "source": [
    "conn = sqlite3.connect('coderhouse.db')"
   ]
  },
  {
   "cell_type": "code",
   "execution_count": 383,
   "metadata": {},
   "outputs": [],
   "source": [
    "url_corretoras = 'https://brasilapi.com.br/api/cvm/corretoras/v1' #corretoras ok\n",
    "base_corretoras = 'Corretoras'\n",
    "url_bancos = 'https://brasilapi.com.br/api/banks/v1' #bancos ok\n",
    "base_bancos = 'Bancos'\n",
    "url_paises = 'https://restcountries.com/v3.1/all' #rest countries ok\n",
    "base_paises = 'Rest Countries'\n",
    "etapa = 'Carregamento de dados'"
   ]
  },
  {
   "cell_type": "code",
   "execution_count": 384,
   "metadata": {},
   "outputs": [],
   "source": [
    "def Alerta(nivel, base, etapa):\n",
    "    \n",
    "    data_atual = datetime.now()\n",
    "    data_formatada = data_atual.strftime('%d/%m/%d')\n",
    "    mensagem = (f'Falha no carregamento da base {base} na etapa {etapa} em {data_formatada}')\n",
    "    title = nivel\n",
    "    notification.notify(title = title, message= mensagem, timeout= 10)"
   ]
  },
  {
   "cell_type": "code",
   "execution_count": 385,
   "metadata": {},
   "outputs": [],
   "source": [
    "def Extraçao(url,base,etapa):\n",
    "\n",
    "    global df_bancos, df_corretoras, df_resties\n",
    "\n",
    "    request = requests.get(url)\n",
    "    response_code = request.status_code\n",
    "    if response_code == 200:\n",
    "        if url == url_bancos:\n",
    "            df_bancos = pd.DataFrame(request.json())\n",
    "            return(df_bancos)\n",
    "        elif url == url_corretoras:\n",
    "            df_corretoras = pd.DataFrame(request.json())\n",
    "            return(df_corretoras)\n",
    "        elif url == url_paises:\n",
    "            df_resties = pd.DataFrame(request.json())\n",
    "            return(df_resties)\n",
    "        else:\n",
    "            print('URL fora da base de dados.')\n",
    "    else:\n",
    "        nivel = 'ATENÇÃO: Erro Grave'\n",
    "        Alerta(nivel = nivel, base = base, etapa = etapa)\n",
    "        return"
   ]
  },
  {
   "cell_type": "code",
   "execution_count": 418,
   "metadata": {},
   "outputs": [
    {
     "data": {
      "text/html": [
       "<div>\n",
       "<style scoped>\n",
       "    .dataframe tbody tr th:only-of-type {\n",
       "        vertical-align: middle;\n",
       "    }\n",
       "\n",
       "    .dataframe tbody tr th {\n",
       "        vertical-align: top;\n",
       "    }\n",
       "\n",
       "    .dataframe thead th {\n",
       "        text-align: right;\n",
       "    }\n",
       "</style>\n",
       "<table border=\"1\" class=\"dataframe\">\n",
       "  <thead>\n",
       "    <tr style=\"text-align: right;\">\n",
       "      <th></th>\n",
       "      <th>cnpj</th>\n",
       "      <th>type</th>\n",
       "      <th>nome_social</th>\n",
       "      <th>nome_comercial</th>\n",
       "      <th>status</th>\n",
       "      <th>email</th>\n",
       "      <th>telefone</th>\n",
       "      <th>cep</th>\n",
       "      <th>pais</th>\n",
       "      <th>uf</th>\n",
       "      <th>municipio</th>\n",
       "      <th>bairro</th>\n",
       "      <th>complemento</th>\n",
       "      <th>logradouro</th>\n",
       "      <th>data_patrimonio_liquido</th>\n",
       "      <th>valor_patrimonio_liquido</th>\n",
       "      <th>codigo_cvm</th>\n",
       "      <th>data_inicio_situacao</th>\n",
       "      <th>data_registro</th>\n",
       "    </tr>\n",
       "  </thead>\n",
       "  <tbody>\n",
       "    <tr>\n",
       "      <th>0</th>\n",
       "      <td>76621457000185</td>\n",
       "      <td>CORRETORAS</td>\n",
       "      <td>4UM DTVM S.A.</td>\n",
       "      <td>4UM INVESTIMENTOS</td>\n",
       "      <td>CANCELADA</td>\n",
       "      <td>controle@4um.com.br</td>\n",
       "      <td>33519966</td>\n",
       "      <td>80420210</td>\n",
       "      <td>BRASIL</td>\n",
       "      <td>PR</td>\n",
       "      <td>CURITIBA</td>\n",
       "      <td>CENTRO</td>\n",
       "      <td>4º ANDAR</td>\n",
       "      <td>R. VISCONDE DO RIO BRANCO 1488</td>\n",
       "      <td>2005-12-31</td>\n",
       "      <td>4228660.18</td>\n",
       "      <td>2275</td>\n",
       "      <td>2006-10-05</td>\n",
       "      <td>1968-01-15</td>\n",
       "    </tr>\n",
       "    <tr>\n",
       "      <th>1</th>\n",
       "      <td>33817677000176</td>\n",
       "      <td>CORRETORAS</td>\n",
       "      <td>ABC BRASIL DISTRIBUIDORA DE TÍTULOS E VALORES ...</td>\n",
       "      <td>ABC BRASIL CORRETORA</td>\n",
       "      <td>CANCELADA</td>\n",
       "      <td>regina.tkatch@abcbrasil.com.br</td>\n",
       "      <td>31702172</td>\n",
       "      <td>1453000</td>\n",
       "      <td></td>\n",
       "      <td>SP</td>\n",
       "      <td>SÃO PAULO</td>\n",
       "      <td>ITAIM BIBI</td>\n",
       "      <td>2º ANDAR</td>\n",
       "      <td>AV. CIDADE JARDIM, 803</td>\n",
       "      <td>2002-12-31</td>\n",
       "      <td>0.00</td>\n",
       "      <td>3514</td>\n",
       "      <td>2002-10-14</td>\n",
       "      <td>2002-10-14</td>\n",
       "    </tr>\n",
       "    <tr>\n",
       "      <th>2</th>\n",
       "      <td>10664027000132</td>\n",
       "      <td>CORRETORAS</td>\n",
       "      <td>ABERTURA CCVM LTDA</td>\n",
       "      <td>ABERTURA CCVM LTDA</td>\n",
       "      <td>CANCELADA</td>\n",
       "      <td></td>\n",
       "      <td></td>\n",
       "      <td>50010240</td>\n",
       "      <td>BRASIL</td>\n",
       "      <td>PE</td>\n",
       "      <td>RECIFE</td>\n",
       "      <td></td>\n",
       "      <td></td>\n",
       "      <td>R DO IMP.D.PEDRO II 239/CJ.102</td>\n",
       "      <td>1989-12-31</td>\n",
       "      <td>5995252.29</td>\n",
       "      <td>329</td>\n",
       "      <td>1990-06-12</td>\n",
       "      <td>1986-07-08</td>\n",
       "    </tr>\n",
       "    <tr>\n",
       "      <th>3</th>\n",
       "      <td>44527444000155</td>\n",
       "      <td>CORRETORAS</td>\n",
       "      <td>ABN AMRO CORRETORA DE T-TULOS E VALORES MOBILI...</td>\n",
       "      <td></td>\n",
       "      <td>EM FUNCIONAMENTO NORMAL</td>\n",
       "      <td>canal.comunicacao@br.abnamro.com</td>\n",
       "      <td>30737417</td>\n",
       "      <td>4551010</td>\n",
       "      <td></td>\n",
       "      <td>SP</td>\n",
       "      <td>SÃO PAULO</td>\n",
       "      <td>VILA OLIMPIA</td>\n",
       "      <td>11¦ ANDAR, CJ. 111</td>\n",
       "      <td>RUA FIDÛNCIO RAMOS, N¦ 302, TORRE B</td>\n",
       "      <td>2022-12-31</td>\n",
       "      <td>3729687.41</td>\n",
       "      <td>3794</td>\n",
       "      <td>2022-06-20</td>\n",
       "      <td>2022-06-20</td>\n",
       "    </tr>\n",
       "    <tr>\n",
       "      <th>4</th>\n",
       "      <td>33819590000138</td>\n",
       "      <td>CORRETORAS</td>\n",
       "      <td>AÇÃO S.A. CORRETORA DE VALORES E CÂMBIO</td>\n",
       "      <td>ACAO SA CVC</td>\n",
       "      <td>CANCELADA</td>\n",
       "      <td></td>\n",
       "      <td>5095755</td>\n",
       "      <td>20040040</td>\n",
       "      <td>BRASIL</td>\n",
       "      <td>RJ</td>\n",
       "      <td>RIO DE JANEIRO</td>\n",
       "      <td>CENTRO</td>\n",
       "      <td></td>\n",
       "      <td>PRAÇA OLAVO BILAC, 28/ SL. 608</td>\n",
       "      <td>2000-12-31</td>\n",
       "      <td>291862.38</td>\n",
       "      <td>1112</td>\n",
       "      <td>2001-04-11</td>\n",
       "      <td>1968-04-19</td>\n",
       "    </tr>\n",
       "    <tr>\n",
       "      <th>...</th>\n",
       "      <td>...</td>\n",
       "      <td>...</td>\n",
       "      <td>...</td>\n",
       "      <td>...</td>\n",
       "      <td>...</td>\n",
       "      <td>...</td>\n",
       "      <td>...</td>\n",
       "      <td>...</td>\n",
       "      <td>...</td>\n",
       "      <td>...</td>\n",
       "      <td>...</td>\n",
       "      <td>...</td>\n",
       "      <td>...</td>\n",
       "      <td>...</td>\n",
       "      <td>...</td>\n",
       "      <td>...</td>\n",
       "      <td>...</td>\n",
       "      <td>...</td>\n",
       "      <td>...</td>\n",
       "    </tr>\n",
       "    <tr>\n",
       "      <th>367</th>\n",
       "      <td>01170892000131</td>\n",
       "      <td>CORRETORAS</td>\n",
       "      <td>VOTORANTIM CTVM LTDA</td>\n",
       "      <td>VOTORANTIM</td>\n",
       "      <td>CANCELADA</td>\n",
       "      <td>demandasregulatorias@bancovotorantim.com.br</td>\n",
       "      <td>51711894</td>\n",
       "      <td>4794000</td>\n",
       "      <td>BRASIL</td>\n",
       "      <td>SP</td>\n",
       "      <td>SÃO PAULO</td>\n",
       "      <td>VL.GERTRUDES</td>\n",
       "      <td>TORRE A-14º ANDAR</td>\n",
       "      <td>AV DAS NAÇÕES UNIDAS, 14.171</td>\n",
       "      <td>2017-12-31</td>\n",
       "      <td>266791832.77</td>\n",
       "      <td>3166</td>\n",
       "      <td>2018-08-27</td>\n",
       "      <td>1996-03-15</td>\n",
       "    </tr>\n",
       "    <tr>\n",
       "      <th>368</th>\n",
       "      <td>61769790000169</td>\n",
       "      <td>CORRETORAS</td>\n",
       "      <td>WALPIRES S/A CCTVM</td>\n",
       "      <td>WALPIRES S/A CCTVM</td>\n",
       "      <td>CANCELADA</td>\n",
       "      <td>andre@walpires.com.br</td>\n",
       "      <td>28087065</td>\n",
       "      <td>1452002</td>\n",
       "      <td>BRASIL</td>\n",
       "      <td>SP</td>\n",
       "      <td>SÃO PAULO</td>\n",
       "      <td>JARDIM PAULISTANO</td>\n",
       "      <td>1309 - 9ºANDAR</td>\n",
       "      <td>AVENIDA BRIGADEIRO FARIA LIMA</td>\n",
       "      <td>2017-12-31</td>\n",
       "      <td>7464373.90</td>\n",
       "      <td>1902</td>\n",
       "      <td>2019-09-24</td>\n",
       "      <td>1967-09-20</td>\n",
       "    </tr>\n",
       "    <tr>\n",
       "      <th>369</th>\n",
       "      <td>92875780000131</td>\n",
       "      <td>CORRETORAS</td>\n",
       "      <td>WARREN CORRETORA DE VALORES MOBILIÁRIOS E CÂMB...</td>\n",
       "      <td>WARREN CORRETORA</td>\n",
       "      <td>EM FUNCIONAMENTO NORMAL</td>\n",
       "      <td>compliance@warren.com.br</td>\n",
       "      <td>32372273</td>\n",
       "      <td>90035191</td>\n",
       "      <td></td>\n",
       "      <td>RS</td>\n",
       "      <td>PORTO ALEGRE</td>\n",
       "      <td>BOM FIM</td>\n",
       "      <td>2º ANDAR</td>\n",
       "      <td>AVENIDA OSVALDO ARANHA, 720</td>\n",
       "      <td>2022-12-31</td>\n",
       "      <td>23398120.52</td>\n",
       "      <td>2534</td>\n",
       "      <td>1967-12-06</td>\n",
       "      <td>1967-12-06</td>\n",
       "    </tr>\n",
       "    <tr>\n",
       "      <th>370</th>\n",
       "      <td>24543688000114</td>\n",
       "      <td>CORRETORAS</td>\n",
       "      <td>WARREN CORRETORA DE VALORES MOBILIÁRIOS E CÂMB...</td>\n",
       "      <td>PERFIL</td>\n",
       "      <td>CANCELADA</td>\n",
       "      <td></td>\n",
       "      <td>2249022</td>\n",
       "      <td>52061540</td>\n",
       "      <td>BRASIL</td>\n",
       "      <td>PE</td>\n",
       "      <td>RECIFE</td>\n",
       "      <td>CASA FORTE</td>\n",
       "      <td></td>\n",
       "      <td>AV.17 DE AGOSTO,2579</td>\n",
       "      <td>1996-12-31</td>\n",
       "      <td>608260.02</td>\n",
       "      <td>2658</td>\n",
       "      <td>1997-02-21</td>\n",
       "      <td>1989-11-14</td>\n",
       "    </tr>\n",
       "    <tr>\n",
       "      <th>371</th>\n",
       "      <td>02332886000104</td>\n",
       "      <td>CORRETORAS</td>\n",
       "      <td>XP INVESTIMENTOS CCTVM S.A.</td>\n",
       "      <td>XP INVESTIMENTOS</td>\n",
       "      <td>EM FUNCIONAMENTO NORMAL</td>\n",
       "      <td>lucas.rabechini@xpi.com.br</td>\n",
       "      <td>30272237</td>\n",
       "      <td>22440032</td>\n",
       "      <td>EGITO</td>\n",
       "      <td>RJ</td>\n",
       "      <td>RIO DE JANEIRO</td>\n",
       "      <td>LEBLON</td>\n",
       "      <td>5º Andar</td>\n",
       "      <td>AVENIDA ATAULFO DE PAIVA 153</td>\n",
       "      <td>2022-12-31</td>\n",
       "      <td>8288904369.58</td>\n",
       "      <td>3247</td>\n",
       "      <td>1998-02-10</td>\n",
       "      <td>1997-12-05</td>\n",
       "    </tr>\n",
       "  </tbody>\n",
       "</table>\n",
       "<p>372 rows × 19 columns</p>\n",
       "</div>"
      ],
      "text/plain": [
       "               cnpj        type  \\\n",
       "0    76621457000185  CORRETORAS   \n",
       "1    33817677000176  CORRETORAS   \n",
       "2    10664027000132  CORRETORAS   \n",
       "3    44527444000155  CORRETORAS   \n",
       "4    33819590000138  CORRETORAS   \n",
       "..              ...         ...   \n",
       "367  01170892000131  CORRETORAS   \n",
       "368  61769790000169  CORRETORAS   \n",
       "369  92875780000131  CORRETORAS   \n",
       "370  24543688000114  CORRETORAS   \n",
       "371  02332886000104  CORRETORAS   \n",
       "\n",
       "                                           nome_social        nome_comercial  \\\n",
       "0                                        4UM DTVM S.A.     4UM INVESTIMENTOS   \n",
       "1    ABC BRASIL DISTRIBUIDORA DE TÍTULOS E VALORES ...  ABC BRASIL CORRETORA   \n",
       "2                                   ABERTURA CCVM LTDA    ABERTURA CCVM LTDA   \n",
       "3    ABN AMRO CORRETORA DE T-TULOS E VALORES MOBILI...                         \n",
       "4              AÇÃO S.A. CORRETORA DE VALORES E CÂMBIO           ACAO SA CVC   \n",
       "..                                                 ...                   ...   \n",
       "367                               VOTORANTIM CTVM LTDA            VOTORANTIM   \n",
       "368                                 WALPIRES S/A CCTVM    WALPIRES S/A CCTVM   \n",
       "369  WARREN CORRETORA DE VALORES MOBILIÁRIOS E CÂMB...      WARREN CORRETORA   \n",
       "370  WARREN CORRETORA DE VALORES MOBILIÁRIOS E CÂMB...                PERFIL   \n",
       "371                        XP INVESTIMENTOS CCTVM S.A.      XP INVESTIMENTOS   \n",
       "\n",
       "                      status                                        email  \\\n",
       "0                  CANCELADA                          controle@4um.com.br   \n",
       "1                  CANCELADA               regina.tkatch@abcbrasil.com.br   \n",
       "2                  CANCELADA                                                \n",
       "3    EM FUNCIONAMENTO NORMAL             canal.comunicacao@br.abnamro.com   \n",
       "4                  CANCELADA                                                \n",
       "..                       ...                                          ...   \n",
       "367                CANCELADA  demandasregulatorias@bancovotorantim.com.br   \n",
       "368                CANCELADA                        andre@walpires.com.br   \n",
       "369  EM FUNCIONAMENTO NORMAL                     compliance@warren.com.br   \n",
       "370                CANCELADA                                                \n",
       "371  EM FUNCIONAMENTO NORMAL                   lucas.rabechini@xpi.com.br   \n",
       "\n",
       "     telefone       cep    pais  uf       municipio             bairro  \\\n",
       "0    33519966  80420210  BRASIL  PR        CURITIBA             CENTRO   \n",
       "1    31702172   1453000          SP       SÃO PAULO         ITAIM BIBI   \n",
       "2              50010240  BRASIL  PE          RECIFE                      \n",
       "3    30737417   4551010          SP       SÃO PAULO       VILA OLIMPIA   \n",
       "4     5095755  20040040  BRASIL  RJ  RIO DE JANEIRO             CENTRO   \n",
       "..        ...       ...     ...  ..             ...                ...   \n",
       "367  51711894   4794000  BRASIL  SP       SÃO PAULO       VL.GERTRUDES   \n",
       "368  28087065   1452002  BRASIL  SP       SÃO PAULO  JARDIM PAULISTANO   \n",
       "369  32372273  90035191          RS    PORTO ALEGRE            BOM FIM   \n",
       "370   2249022  52061540  BRASIL  PE          RECIFE         CASA FORTE   \n",
       "371  30272237  22440032   EGITO  RJ  RIO DE JANEIRO             LEBLON   \n",
       "\n",
       "            complemento                           logradouro  \\\n",
       "0              4º ANDAR       R. VISCONDE DO RIO BRANCO 1488   \n",
       "1              2º ANDAR               AV. CIDADE JARDIM, 803   \n",
       "2                             R DO IMP.D.PEDRO II 239/CJ.102   \n",
       "3    11¦ ANDAR, CJ. 111  RUA FIDÛNCIO RAMOS, N¦ 302, TORRE B   \n",
       "4                             PRAÇA OLAVO BILAC, 28/ SL. 608   \n",
       "..                  ...                                  ...   \n",
       "367   TORRE A-14º ANDAR         AV DAS NAÇÕES UNIDAS, 14.171   \n",
       "368      1309 - 9ºANDAR        AVENIDA BRIGADEIRO FARIA LIMA   \n",
       "369            2º ANDAR          AVENIDA OSVALDO ARANHA, 720   \n",
       "370                                     AV.17 DE AGOSTO,2579   \n",
       "371            5º Andar         AVENIDA ATAULFO DE PAIVA 153   \n",
       "\n",
       "    data_patrimonio_liquido valor_patrimonio_liquido codigo_cvm  \\\n",
       "0                2005-12-31               4228660.18       2275   \n",
       "1                2002-12-31                     0.00       3514   \n",
       "2                1989-12-31               5995252.29        329   \n",
       "3                2022-12-31               3729687.41       3794   \n",
       "4                2000-12-31                291862.38       1112   \n",
       "..                      ...                      ...        ...   \n",
       "367              2017-12-31             266791832.77       3166   \n",
       "368              2017-12-31               7464373.90       1902   \n",
       "369              2022-12-31              23398120.52       2534   \n",
       "370              1996-12-31                608260.02       2658   \n",
       "371              2022-12-31            8288904369.58       3247   \n",
       "\n",
       "    data_inicio_situacao data_registro  \n",
       "0             2006-10-05    1968-01-15  \n",
       "1             2002-10-14    2002-10-14  \n",
       "2             1990-06-12    1986-07-08  \n",
       "3             2022-06-20    2022-06-20  \n",
       "4             2001-04-11    1968-04-19  \n",
       "..                   ...           ...  \n",
       "367           2018-08-27    1996-03-15  \n",
       "368           2019-09-24    1967-09-20  \n",
       "369           1967-12-06    1967-12-06  \n",
       "370           1997-02-21    1989-11-14  \n",
       "371           1998-02-10    1997-12-05  \n",
       "\n",
       "[372 rows x 19 columns]"
      ]
     },
     "execution_count": 418,
     "metadata": {},
     "output_type": "execute_result"
    }
   ],
   "source": [
    "Extraçao(url_corretoras,base_corretoras,etapa)"
   ]
  },
  {
   "cell_type": "code",
   "execution_count": 308,
   "metadata": {},
   "outputs": [
    {
     "data": {
      "text/html": [
       "<div>\n",
       "<style scoped>\n",
       "    .dataframe tbody tr th:only-of-type {\n",
       "        vertical-align: middle;\n",
       "    }\n",
       "\n",
       "    .dataframe tbody tr th {\n",
       "        vertical-align: top;\n",
       "    }\n",
       "\n",
       "    .dataframe thead th {\n",
       "        text-align: right;\n",
       "    }\n",
       "</style>\n",
       "<table border=\"1\" class=\"dataframe\">\n",
       "  <thead>\n",
       "    <tr style=\"text-align: right;\">\n",
       "      <th></th>\n",
       "      <th>ispb</th>\n",
       "      <th>name</th>\n",
       "      <th>code</th>\n",
       "      <th>fullName</th>\n",
       "    </tr>\n",
       "  </thead>\n",
       "  <tbody>\n",
       "    <tr>\n",
       "      <th>0</th>\n",
       "      <td>00000000</td>\n",
       "      <td>BCO DO BRASIL S.A.</td>\n",
       "      <td>1.0</td>\n",
       "      <td>Banco do Brasil S.A.</td>\n",
       "    </tr>\n",
       "    <tr>\n",
       "      <th>1</th>\n",
       "      <td>00000208</td>\n",
       "      <td>BRB - BCO DE BRASILIA S.A.</td>\n",
       "      <td>70.0</td>\n",
       "      <td>BRB - BANCO DE BRASILIA S.A.</td>\n",
       "    </tr>\n",
       "  </tbody>\n",
       "</table>\n",
       "</div>"
      ],
      "text/plain": [
       "       ispb                        name  code                      fullName\n",
       "0  00000000          BCO DO BRASIL S.A.   1.0          Banco do Brasil S.A.\n",
       "1  00000208  BRB - BCO DE BRASILIA S.A.  70.0  BRB - BANCO DE BRASILIA S.A."
      ]
     },
     "execution_count": 308,
     "metadata": {},
     "output_type": "execute_result"
    }
   ],
   "source": [
    "df_bancos.head(2)"
   ]
  },
  {
   "cell_type": "code",
   "execution_count": 398,
   "metadata": {},
   "outputs": [
    {
     "data": {
      "text/html": [
       "<div>\n",
       "<style scoped>\n",
       "    .dataframe tbody tr th:only-of-type {\n",
       "        vertical-align: middle;\n",
       "    }\n",
       "\n",
       "    .dataframe tbody tr th {\n",
       "        vertical-align: top;\n",
       "    }\n",
       "\n",
       "    .dataframe thead th {\n",
       "        text-align: right;\n",
       "    }\n",
       "</style>\n",
       "<table border=\"1\" class=\"dataframe\">\n",
       "  <thead>\n",
       "    <tr style=\"text-align: right;\">\n",
       "      <th></th>\n",
       "      <th>cnpj</th>\n",
       "      <th>type</th>\n",
       "      <th>nome_social</th>\n",
       "      <th>nome_comercial</th>\n",
       "      <th>status</th>\n",
       "      <th>email</th>\n",
       "      <th>telefone</th>\n",
       "      <th>cep</th>\n",
       "      <th>pais</th>\n",
       "      <th>uf</th>\n",
       "      <th>municipio</th>\n",
       "      <th>bairro</th>\n",
       "      <th>complemento</th>\n",
       "      <th>logradouro</th>\n",
       "      <th>data_patrimonio_liquido</th>\n",
       "      <th>valor_patrimonio_liquido</th>\n",
       "      <th>codigo_cvm</th>\n",
       "      <th>data_inicio_situacao</th>\n",
       "      <th>data_registro</th>\n",
       "    </tr>\n",
       "  </thead>\n",
       "  <tbody>\n",
       "    <tr>\n",
       "      <th>0</th>\n",
       "      <td>76621457000185</td>\n",
       "      <td>CORRETORAS</td>\n",
       "      <td>4UM DTVM S.A.</td>\n",
       "      <td>4UM INVESTIMENTOS</td>\n",
       "      <td>CANCELADA</td>\n",
       "      <td>controle@4um.com.br</td>\n",
       "      <td>33519966</td>\n",
       "      <td>80420210</td>\n",
       "      <td>BRASIL</td>\n",
       "      <td>PR</td>\n",
       "      <td>CURITIBA</td>\n",
       "      <td>CENTRO</td>\n",
       "      <td>4º ANDAR</td>\n",
       "      <td>R. VISCONDE DO RIO BRANCO 1488</td>\n",
       "      <td>2005-12-31</td>\n",
       "      <td>4228660.18</td>\n",
       "      <td>2275</td>\n",
       "      <td>2006-10-05</td>\n",
       "      <td>1968-01-15</td>\n",
       "    </tr>\n",
       "    <tr>\n",
       "      <th>1</th>\n",
       "      <td>33817677000176</td>\n",
       "      <td>CORRETORAS</td>\n",
       "      <td>ABC BRASIL DISTRIBUIDORA DE TÍTULOS E VALORES ...</td>\n",
       "      <td>ABC BRASIL CORRETORA</td>\n",
       "      <td>CANCELADA</td>\n",
       "      <td>regina.tkatch@abcbrasil.com.br</td>\n",
       "      <td>31702172</td>\n",
       "      <td>1453000</td>\n",
       "      <td></td>\n",
       "      <td>SP</td>\n",
       "      <td>SÃO PAULO</td>\n",
       "      <td>ITAIM BIBI</td>\n",
       "      <td>2º ANDAR</td>\n",
       "      <td>AV. CIDADE JARDIM, 803</td>\n",
       "      <td>2002-12-31</td>\n",
       "      <td>0.00</td>\n",
       "      <td>3514</td>\n",
       "      <td>2002-10-14</td>\n",
       "      <td>2002-10-14</td>\n",
       "    </tr>\n",
       "  </tbody>\n",
       "</table>\n",
       "</div>"
      ],
      "text/plain": [
       "             cnpj        type  \\\n",
       "0  76621457000185  CORRETORAS   \n",
       "1  33817677000176  CORRETORAS   \n",
       "\n",
       "                                         nome_social        nome_comercial  \\\n",
       "0                                      4UM DTVM S.A.     4UM INVESTIMENTOS   \n",
       "1  ABC BRASIL DISTRIBUIDORA DE TÍTULOS E VALORES ...  ABC BRASIL CORRETORA   \n",
       "\n",
       "      status                           email  telefone       cep    pais  uf  \\\n",
       "0  CANCELADA             controle@4um.com.br  33519966  80420210  BRASIL  PR   \n",
       "1  CANCELADA  regina.tkatch@abcbrasil.com.br  31702172   1453000          SP   \n",
       "\n",
       "   municipio      bairro complemento                      logradouro  \\\n",
       "0   CURITIBA      CENTRO    4º ANDAR  R. VISCONDE DO RIO BRANCO 1488   \n",
       "1  SÃO PAULO  ITAIM BIBI    2º ANDAR          AV. CIDADE JARDIM, 803   \n",
       "\n",
       "  data_patrimonio_liquido valor_patrimonio_liquido codigo_cvm  \\\n",
       "0              2005-12-31               4228660.18       2275   \n",
       "1              2002-12-31                     0.00       3514   \n",
       "\n",
       "  data_inicio_situacao data_registro  \n",
       "0           2006-10-05    1968-01-15  \n",
       "1           2002-10-14    2002-10-14  "
      ]
     },
     "execution_count": 398,
     "metadata": {},
     "output_type": "execute_result"
    }
   ],
   "source": [
    "df_corretoras.head(2)"
   ]
  },
  {
   "cell_type": "code",
   "execution_count": 321,
   "metadata": {},
   "outputs": [
    {
     "data": {
      "text/html": [
       "<div>\n",
       "<style scoped>\n",
       "    .dataframe tbody tr th:only-of-type {\n",
       "        vertical-align: middle;\n",
       "    }\n",
       "\n",
       "    .dataframe tbody tr th {\n",
       "        vertical-align: top;\n",
       "    }\n",
       "\n",
       "    .dataframe thead th {\n",
       "        text-align: right;\n",
       "    }\n",
       "</style>\n",
       "<table border=\"1\" class=\"dataframe\">\n",
       "  <thead>\n",
       "    <tr style=\"text-align: right;\">\n",
       "      <th></th>\n",
       "      <th>name</th>\n",
       "      <th>tld</th>\n",
       "      <th>cca2</th>\n",
       "      <th>ccn3</th>\n",
       "      <th>cca3</th>\n",
       "      <th>cioc</th>\n",
       "      <th>independent</th>\n",
       "      <th>status</th>\n",
       "      <th>unMember</th>\n",
       "      <th>currencies</th>\n",
       "      <th>...</th>\n",
       "      <th>gini</th>\n",
       "      <th>fifa</th>\n",
       "      <th>car</th>\n",
       "      <th>timezones</th>\n",
       "      <th>continents</th>\n",
       "      <th>flags</th>\n",
       "      <th>coatOfArms</th>\n",
       "      <th>startOfWeek</th>\n",
       "      <th>capitalInfo</th>\n",
       "      <th>postalCode</th>\n",
       "    </tr>\n",
       "  </thead>\n",
       "  <tbody>\n",
       "    <tr>\n",
       "      <th>0</th>\n",
       "      <td>{'common': 'Palestine', 'official': 'State of ...</td>\n",
       "      <td>[.ps, فلسطين.]</td>\n",
       "      <td>PS</td>\n",
       "      <td>275</td>\n",
       "      <td>PSE</td>\n",
       "      <td>PLE</td>\n",
       "      <td>False</td>\n",
       "      <td>officially-assigned</td>\n",
       "      <td>False</td>\n",
       "      <td>{'EGP': {'name': 'Egyptian pound', 'symbol': '...</td>\n",
       "      <td>...</td>\n",
       "      <td>{'2016': 33.7}</td>\n",
       "      <td>PLE</td>\n",
       "      <td>{'signs': ['PS'], 'side': 'right'}</td>\n",
       "      <td>[UTC+02:00]</td>\n",
       "      <td>[Asia]</td>\n",
       "      <td>{'png': 'https://flagcdn.com/w320/ps.png', 'sv...</td>\n",
       "      <td>{'png': 'https://mainfacts.com/media/images/co...</td>\n",
       "      <td>sunday</td>\n",
       "      <td>{'latlng': [31.9, 35.2]}</td>\n",
       "      <td>NaN</td>\n",
       "    </tr>\n",
       "    <tr>\n",
       "      <th>1</th>\n",
       "      <td>{'common': 'Kuwait', 'official': 'State of Kuw...</td>\n",
       "      <td>[.kw]</td>\n",
       "      <td>KW</td>\n",
       "      <td>414</td>\n",
       "      <td>KWT</td>\n",
       "      <td>KUW</td>\n",
       "      <td>True</td>\n",
       "      <td>officially-assigned</td>\n",
       "      <td>True</td>\n",
       "      <td>{'KWD': {'name': 'Kuwaiti dinar', 'symbol': 'د...</td>\n",
       "      <td>...</td>\n",
       "      <td>NaN</td>\n",
       "      <td>KUW</td>\n",
       "      <td>{'signs': ['KWT'], 'side': 'right'}</td>\n",
       "      <td>[UTC+03:00]</td>\n",
       "      <td>[Asia]</td>\n",
       "      <td>{'png': 'https://flagcdn.com/w320/kw.png', 'sv...</td>\n",
       "      <td>{'png': 'https://mainfacts.com/media/images/co...</td>\n",
       "      <td>sunday</td>\n",
       "      <td>{'latlng': [29.37, 47.97]}</td>\n",
       "      <td>{'format': '#####', 'regex': '^(\\d{5})$'}</td>\n",
       "    </tr>\n",
       "  </tbody>\n",
       "</table>\n",
       "<p>2 rows × 35 columns</p>\n",
       "</div>"
      ],
      "text/plain": [
       "                                                name             tld cca2  \\\n",
       "0  {'common': 'Palestine', 'official': 'State of ...  [.ps, فلسطين.]   PS   \n",
       "1  {'common': 'Kuwait', 'official': 'State of Kuw...           [.kw]   KW   \n",
       "\n",
       "  ccn3 cca3 cioc independent               status  unMember  \\\n",
       "0  275  PSE  PLE       False  officially-assigned     False   \n",
       "1  414  KWT  KUW        True  officially-assigned      True   \n",
       "\n",
       "                                          currencies  ...            gini  \\\n",
       "0  {'EGP': {'name': 'Egyptian pound', 'symbol': '...  ...  {'2016': 33.7}   \n",
       "1  {'KWD': {'name': 'Kuwaiti dinar', 'symbol': 'د...  ...             NaN   \n",
       "\n",
       "  fifa                                  car    timezones continents  \\\n",
       "0  PLE   {'signs': ['PS'], 'side': 'right'}  [UTC+02:00]     [Asia]   \n",
       "1  KUW  {'signs': ['KWT'], 'side': 'right'}  [UTC+03:00]     [Asia]   \n",
       "\n",
       "                                               flags  \\\n",
       "0  {'png': 'https://flagcdn.com/w320/ps.png', 'sv...   \n",
       "1  {'png': 'https://flagcdn.com/w320/kw.png', 'sv...   \n",
       "\n",
       "                                          coatOfArms startOfWeek  \\\n",
       "0  {'png': 'https://mainfacts.com/media/images/co...      sunday   \n",
       "1  {'png': 'https://mainfacts.com/media/images/co...      sunday   \n",
       "\n",
       "                  capitalInfo                                 postalCode  \n",
       "0    {'latlng': [31.9, 35.2]}                                        NaN  \n",
       "1  {'latlng': [29.37, 47.97]}  {'format': '#####', 'regex': '^(\\d{5})$'}  \n",
       "\n",
       "[2 rows x 35 columns]"
      ]
     },
     "execution_count": 321,
     "metadata": {},
     "output_type": "execute_result"
    }
   ],
   "source": [
    "df_resties.head(2)"
   ]
  },
  {
   "cell_type": "code",
   "execution_count": 268,
   "metadata": {},
   "outputs": [
    {
     "data": {
      "text/plain": [
       "'\\nwhile True: \\n    response = requests.get(url)\\n    response_code = response.status_code\\n    break\\n'"
      ]
     },
     "execution_count": 268,
     "metadata": {},
     "output_type": "execute_result"
    }
   ],
   "source": [
    "'''\n",
    "while True: \n",
    "    response = requests.get(url)\n",
    "    response_code = response.status_code\n",
    "    break\n",
    "'''"
   ]
  },
  {
   "cell_type": "code",
   "execution_count": 269,
   "metadata": {},
   "outputs": [
    {
     "data": {
      "text/plain": [
       "\"\\nif response_code == 200:\\n    data_json = response.json()\\n    df = pd.DataFrame(data_json)\\n    print('Requisição Completa')\\nelse:\\n    nivel = 'ATENÇÃO: Erro Grave'\\n    Alerta(nivel = nivel, base='Data_Bank',etapa='Extração')\\n\\n\""
      ]
     },
     "execution_count": 269,
     "metadata": {},
     "output_type": "execute_result"
    }
   ],
   "source": [
    "'''\n",
    "if response_code == 200:\n",
    "    data_json = response.json()\n",
    "    df = pd.DataFrame(data_json)\n",
    "    print('Requisição Completa')\n",
    "else:\n",
    "    nivel = 'ATENÇÃO: Erro Grave'\n",
    "    Alerta(nivel = nivel, base='Data_Bank',etapa='Extração')\n",
    "\n",
    "'''"
   ]
  },
  {
   "cell_type": "markdown",
   "metadata": {},
   "source": [
    "                                              INICIANDO TRATAMENTO DO DF_PAISES"
   ]
  },
  {
   "cell_type": "code",
   "execution_count": 322,
   "metadata": {},
   "outputs": [],
   "source": [
    "while True:\n",
    "    paises = [pais['common']for pais in df_resties['name']]\n",
    "    capital = [cap for cap in df_resties['capital']]\n",
    "    lingua = [lig for lig in df_resties['languages']]\n",
    "    regiao = [reg for reg in df_resties['region']]\n",
    "    sigla = [sig for sig in df_resties['cca3']]\n",
    "    fronteira = [front for front in df_resties['borders']]\n",
    "    populacao = [pop for pop in df_resties['population']]\n",
    "    break"
   ]
  },
  {
   "cell_type": "code",
   "execution_count": 323,
   "metadata": {},
   "outputs": [],
   "source": [
    "df_paises_mod = pd.DataFrame({\n",
    "    'Pais': paises, 'Capital': capital,\n",
    "    'Idioma': lingua, 'Continente': regiao,\n",
    "    'Sigla': sigla, 'Fronteiras': fronteira,\n",
    "    'Populaçao': populacao\n",
    "    })"
   ]
  },
  {
   "cell_type": "code",
   "execution_count": 324,
   "metadata": {},
   "outputs": [
    {
     "data": {
      "text/html": [
       "<div>\n",
       "<style scoped>\n",
       "    .dataframe tbody tr th:only-of-type {\n",
       "        vertical-align: middle;\n",
       "    }\n",
       "\n",
       "    .dataframe tbody tr th {\n",
       "        vertical-align: top;\n",
       "    }\n",
       "\n",
       "    .dataframe thead th {\n",
       "        text-align: right;\n",
       "    }\n",
       "</style>\n",
       "<table border=\"1\" class=\"dataframe\">\n",
       "  <thead>\n",
       "    <tr style=\"text-align: right;\">\n",
       "      <th></th>\n",
       "      <th>Pais</th>\n",
       "      <th>Capital</th>\n",
       "      <th>Idioma</th>\n",
       "      <th>Continente</th>\n",
       "      <th>Sigla</th>\n",
       "      <th>Fronteiras</th>\n",
       "      <th>Populaçao</th>\n",
       "    </tr>\n",
       "  </thead>\n",
       "  <tbody>\n",
       "    <tr>\n",
       "      <th>0</th>\n",
       "      <td>Palestine</td>\n",
       "      <td>[Ramallah, Jerusalem]</td>\n",
       "      <td>{'ara': 'Arabic'}</td>\n",
       "      <td>Asia</td>\n",
       "      <td>PSE</td>\n",
       "      <td>[ISR, EGY, JOR]</td>\n",
       "      <td>4803269</td>\n",
       "    </tr>\n",
       "    <tr>\n",
       "      <th>1</th>\n",
       "      <td>Kuwait</td>\n",
       "      <td>[Kuwait City]</td>\n",
       "      <td>{'ara': 'Arabic'}</td>\n",
       "      <td>Asia</td>\n",
       "      <td>KWT</td>\n",
       "      <td>[IRQ, SAU]</td>\n",
       "      <td>4270563</td>\n",
       "    </tr>\n",
       "  </tbody>\n",
       "</table>\n",
       "</div>"
      ],
      "text/plain": [
       "        Pais                Capital             Idioma Continente Sigla  \\\n",
       "0  Palestine  [Ramallah, Jerusalem]  {'ara': 'Arabic'}       Asia   PSE   \n",
       "1     Kuwait          [Kuwait City]  {'ara': 'Arabic'}       Asia   KWT   \n",
       "\n",
       "        Fronteiras  Populaçao  \n",
       "0  [ISR, EGY, JOR]    4803269  \n",
       "1       [IRQ, SAU]    4270563  "
      ]
     },
     "execution_count": 324,
     "metadata": {},
     "output_type": "execute_result"
    }
   ],
   "source": [
    "df_paises_mod.head(2)"
   ]
  },
  {
   "cell_type": "code",
   "execution_count": 325,
   "metadata": {},
   "outputs": [
    {
     "name": "stdout",
     "output_type": "stream",
     "text": [
      "<class 'pandas.core.frame.DataFrame'>\n",
      "RangeIndex: 250 entries, 0 to 249\n",
      "Data columns (total 7 columns):\n",
      " #   Column      Non-Null Count  Dtype \n",
      "---  ------      --------------  ----- \n",
      " 0   Pais        250 non-null    object\n",
      " 1   Capital     246 non-null    object\n",
      " 2   Idioma      249 non-null    object\n",
      " 3   Continente  250 non-null    object\n",
      " 4   Sigla       250 non-null    object\n",
      " 5   Fronteiras  165 non-null    object\n",
      " 6   Populaçao   250 non-null    int64 \n",
      "dtypes: int64(1), object(6)\n",
      "memory usage: 13.8+ KB\n"
     ]
    }
   ],
   "source": [
    "df_paises_mod.info()"
   ]
  },
  {
   "cell_type": "code",
   "execution_count": 326,
   "metadata": {},
   "outputs": [
    {
     "data": {
      "text/plain": [
       "0      False\n",
       "1      False\n",
       "2      False\n",
       "3      False\n",
       "4      False\n",
       "       ...  \n",
       "245    False\n",
       "246    False\n",
       "247    False\n",
       "248    False\n",
       "249    False\n",
       "Name: Idioma, Length: 250, dtype: bool"
      ]
     },
     "execution_count": 326,
     "metadata": {},
     "output_type": "execute_result"
    }
   ],
   "source": [
    "df_paises_mod['Idioma'].isnull()"
   ]
  },
  {
   "cell_type": "code",
   "execution_count": 327,
   "metadata": {},
   "outputs": [],
   "source": [
    "df_paises_mod['Idioma'].fillna('NA', inplace=True)"
   ]
  },
  {
   "cell_type": "code",
   "execution_count": 328,
   "metadata": {},
   "outputs": [
    {
     "data": {
      "text/plain": [
       "0      False\n",
       "1      False\n",
       "2      False\n",
       "3      False\n",
       "4      False\n",
       "       ...  \n",
       "245    False\n",
       "246    False\n",
       "247    False\n",
       "248    False\n",
       "249    False\n",
       "Name: Capital, Length: 250, dtype: bool"
      ]
     },
     "execution_count": 328,
     "metadata": {},
     "output_type": "execute_result"
    }
   ],
   "source": [
    "df_paises_mod['Capital'].isnull()"
   ]
  },
  {
   "cell_type": "code",
   "execution_count": 329,
   "metadata": {},
   "outputs": [],
   "source": [
    "df_paises_mod['Capital'].fillna('NA', inplace=True)"
   ]
  },
  {
   "cell_type": "code",
   "execution_count": 330,
   "metadata": {},
   "outputs": [
    {
     "data": {
      "text/plain": [
       "0      False\n",
       "1      False\n",
       "2      False\n",
       "3       True\n",
       "4      False\n",
       "       ...  \n",
       "245     True\n",
       "246     True\n",
       "247     True\n",
       "248     True\n",
       "249    False\n",
       "Name: Fronteiras, Length: 250, dtype: bool"
      ]
     },
     "execution_count": 330,
     "metadata": {},
     "output_type": "execute_result"
    }
   ],
   "source": [
    "df_paises_mod['Fronteiras'].isnull()#front_nan = "
   ]
  },
  {
   "cell_type": "code",
   "execution_count": 331,
   "metadata": {},
   "outputs": [],
   "source": [
    "df_paises_mod['Fronteiras'].fillna('NA', inplace=True)"
   ]
  },
  {
   "cell_type": "code",
   "execution_count": 332,
   "metadata": {},
   "outputs": [
    {
     "name": "stdout",
     "output_type": "stream",
     "text": [
      "<class 'pandas.core.frame.DataFrame'>\n",
      "RangeIndex: 250 entries, 0 to 249\n",
      "Data columns (total 7 columns):\n",
      " #   Column      Non-Null Count  Dtype \n",
      "---  ------      --------------  ----- \n",
      " 0   Pais        250 non-null    object\n",
      " 1   Capital     250 non-null    object\n",
      " 2   Idioma      250 non-null    object\n",
      " 3   Continente  250 non-null    object\n",
      " 4   Sigla       250 non-null    object\n",
      " 5   Fronteiras  250 non-null    object\n",
      " 6   Populaçao   250 non-null    int64 \n",
      "dtypes: int64(1), object(6)\n",
      "memory usage: 13.8+ KB\n"
     ]
    }
   ],
   "source": [
    "df_paises_mod.info()"
   ]
  },
  {
   "cell_type": "code",
   "execution_count": 333,
   "metadata": {},
   "outputs": [
    {
     "data": {
      "text/html": [
       "<div>\n",
       "<style scoped>\n",
       "    .dataframe tbody tr th:only-of-type {\n",
       "        vertical-align: middle;\n",
       "    }\n",
       "\n",
       "    .dataframe tbody tr th {\n",
       "        vertical-align: top;\n",
       "    }\n",
       "\n",
       "    .dataframe thead th {\n",
       "        text-align: right;\n",
       "    }\n",
       "</style>\n",
       "<table border=\"1\" class=\"dataframe\">\n",
       "  <thead>\n",
       "    <tr style=\"text-align: right;\">\n",
       "      <th></th>\n",
       "      <th>Pais</th>\n",
       "      <th>Capital</th>\n",
       "      <th>Idioma</th>\n",
       "      <th>Continente</th>\n",
       "      <th>Sigla</th>\n",
       "      <th>Fronteiras</th>\n",
       "      <th>Populaçao</th>\n",
       "    </tr>\n",
       "  </thead>\n",
       "  <tbody>\n",
       "    <tr>\n",
       "      <th>0</th>\n",
       "      <td>Palestine</td>\n",
       "      <td>[Ramallah, Jerusalem]</td>\n",
       "      <td>{'ara': 'Arabic'}</td>\n",
       "      <td>Asia</td>\n",
       "      <td>PSE</td>\n",
       "      <td>[ISR, EGY, JOR]</td>\n",
       "      <td>4803269</td>\n",
       "    </tr>\n",
       "  </tbody>\n",
       "</table>\n",
       "</div>"
      ],
      "text/plain": [
       "        Pais                Capital             Idioma Continente Sigla  \\\n",
       "0  Palestine  [Ramallah, Jerusalem]  {'ara': 'Arabic'}       Asia   PSE   \n",
       "\n",
       "        Fronteiras  Populaçao  \n",
       "0  [ISR, EGY, JOR]    4803269  "
      ]
     },
     "execution_count": 333,
     "metadata": {},
     "output_type": "execute_result"
    }
   ],
   "source": [
    "df_paises_mod.head(1)"
   ]
  },
  {
   "cell_type": "markdown",
   "metadata": {},
   "source": [
    "ENVIANDO PARA O BANCO DE DADOS O DF_PAISES_MOD"
   ]
  },
  {
   "cell_type": "code",
   "execution_count": null,
   "metadata": {},
   "outputs": [],
   "source": [
    "''''''"
   ]
  },
  {
   "cell_type": "markdown",
   "metadata": {},
   "source": [
    "                                         INICIANDO TRATAMENTO DO DF_BANCOS"
   ]
  },
  {
   "cell_type": "code",
   "execution_count": 334,
   "metadata": {},
   "outputs": [
    {
     "data": {
      "text/html": [
       "<div>\n",
       "<style scoped>\n",
       "    .dataframe tbody tr th:only-of-type {\n",
       "        vertical-align: middle;\n",
       "    }\n",
       "\n",
       "    .dataframe tbody tr th {\n",
       "        vertical-align: top;\n",
       "    }\n",
       "\n",
       "    .dataframe thead th {\n",
       "        text-align: right;\n",
       "    }\n",
       "</style>\n",
       "<table border=\"1\" class=\"dataframe\">\n",
       "  <thead>\n",
       "    <tr style=\"text-align: right;\">\n",
       "      <th></th>\n",
       "      <th>ispb</th>\n",
       "      <th>name</th>\n",
       "      <th>code</th>\n",
       "      <th>fullName</th>\n",
       "    </tr>\n",
       "  </thead>\n",
       "  <tbody>\n",
       "    <tr>\n",
       "      <th>0</th>\n",
       "      <td>00000000</td>\n",
       "      <td>BCO DO BRASIL S.A.</td>\n",
       "      <td>1.0</td>\n",
       "      <td>Banco do Brasil S.A.</td>\n",
       "    </tr>\n",
       "    <tr>\n",
       "      <th>1</th>\n",
       "      <td>00000208</td>\n",
       "      <td>BRB - BCO DE BRASILIA S.A.</td>\n",
       "      <td>70.0</td>\n",
       "      <td>BRB - BANCO DE BRASILIA S.A.</td>\n",
       "    </tr>\n",
       "    <tr>\n",
       "      <th>2</th>\n",
       "      <td>00038121</td>\n",
       "      <td>Selic</td>\n",
       "      <td>NaN</td>\n",
       "      <td>Banco Central do Brasil - Selic</td>\n",
       "    </tr>\n",
       "    <tr>\n",
       "      <th>3</th>\n",
       "      <td>00038166</td>\n",
       "      <td>Bacen</td>\n",
       "      <td>NaN</td>\n",
       "      <td>Banco Central do Brasil</td>\n",
       "    </tr>\n",
       "    <tr>\n",
       "      <th>4</th>\n",
       "      <td>00122327</td>\n",
       "      <td>SANTINVEST S.A. - CFI</td>\n",
       "      <td>539.0</td>\n",
       "      <td>SANTINVEST S.A. - CREDITO, FINANCIAMENTO E INV...</td>\n",
       "    </tr>\n",
       "  </tbody>\n",
       "</table>\n",
       "</div>"
      ],
      "text/plain": [
       "       ispb                        name   code  \\\n",
       "0  00000000          BCO DO BRASIL S.A.    1.0   \n",
       "1  00000208  BRB - BCO DE BRASILIA S.A.   70.0   \n",
       "2  00038121                       Selic    NaN   \n",
       "3  00038166                       Bacen    NaN   \n",
       "4  00122327       SANTINVEST S.A. - CFI  539.0   \n",
       "\n",
       "                                            fullName  \n",
       "0                               Banco do Brasil S.A.  \n",
       "1                       BRB - BANCO DE BRASILIA S.A.  \n",
       "2                    Banco Central do Brasil - Selic  \n",
       "3                            Banco Central do Brasil  \n",
       "4  SANTINVEST S.A. - CREDITO, FINANCIAMENTO E INV...  "
      ]
     },
     "execution_count": 334,
     "metadata": {},
     "output_type": "execute_result"
    }
   ],
   "source": [
    "df_bancos.head()"
   ]
  },
  {
   "cell_type": "code",
   "execution_count": 335,
   "metadata": {},
   "outputs": [],
   "source": [
    "df_bancos['code'].fillna(0, inplace=True)"
   ]
  },
  {
   "cell_type": "code",
   "execution_count": 336,
   "metadata": {},
   "outputs": [
    {
     "data": {
      "text/html": [
       "<div>\n",
       "<style scoped>\n",
       "    .dataframe tbody tr th:only-of-type {\n",
       "        vertical-align: middle;\n",
       "    }\n",
       "\n",
       "    .dataframe tbody tr th {\n",
       "        vertical-align: top;\n",
       "    }\n",
       "\n",
       "    .dataframe thead th {\n",
       "        text-align: right;\n",
       "    }\n",
       "</style>\n",
       "<table border=\"1\" class=\"dataframe\">\n",
       "  <thead>\n",
       "    <tr style=\"text-align: right;\">\n",
       "      <th></th>\n",
       "      <th>ispb</th>\n",
       "      <th>name</th>\n",
       "      <th>code</th>\n",
       "      <th>fullName</th>\n",
       "    </tr>\n",
       "  </thead>\n",
       "  <tbody>\n",
       "    <tr>\n",
       "      <th>0</th>\n",
       "      <td>00000000</td>\n",
       "      <td>BCO DO BRASIL S.A.</td>\n",
       "      <td>1.0</td>\n",
       "      <td>Banco do Brasil S.A.</td>\n",
       "    </tr>\n",
       "    <tr>\n",
       "      <th>1</th>\n",
       "      <td>00000208</td>\n",
       "      <td>BRB - BCO DE BRASILIA S.A.</td>\n",
       "      <td>70.0</td>\n",
       "      <td>BRB - BANCO DE BRASILIA S.A.</td>\n",
       "    </tr>\n",
       "    <tr>\n",
       "      <th>2</th>\n",
       "      <td>00038121</td>\n",
       "      <td>Selic</td>\n",
       "      <td>0.0</td>\n",
       "      <td>Banco Central do Brasil - Selic</td>\n",
       "    </tr>\n",
       "    <tr>\n",
       "      <th>3</th>\n",
       "      <td>00038166</td>\n",
       "      <td>Bacen</td>\n",
       "      <td>0.0</td>\n",
       "      <td>Banco Central do Brasil</td>\n",
       "    </tr>\n",
       "    <tr>\n",
       "      <th>4</th>\n",
       "      <td>00122327</td>\n",
       "      <td>SANTINVEST S.A. - CFI</td>\n",
       "      <td>539.0</td>\n",
       "      <td>SANTINVEST S.A. - CREDITO, FINANCIAMENTO E INV...</td>\n",
       "    </tr>\n",
       "  </tbody>\n",
       "</table>\n",
       "</div>"
      ],
      "text/plain": [
       "       ispb                        name   code  \\\n",
       "0  00000000          BCO DO BRASIL S.A.    1.0   \n",
       "1  00000208  BRB - BCO DE BRASILIA S.A.   70.0   \n",
       "2  00038121                       Selic    0.0   \n",
       "3  00038166                       Bacen    0.0   \n",
       "4  00122327       SANTINVEST S.A. - CFI  539.0   \n",
       "\n",
       "                                            fullName  \n",
       "0                               Banco do Brasil S.A.  \n",
       "1                       BRB - BANCO DE BRASILIA S.A.  \n",
       "2                    Banco Central do Brasil - Selic  \n",
       "3                            Banco Central do Brasil  \n",
       "4  SANTINVEST S.A. - CREDITO, FINANCIAMENTO E INV...  "
      ]
     },
     "execution_count": 336,
     "metadata": {},
     "output_type": "execute_result"
    }
   ],
   "source": [
    "df_bancos.head()"
   ]
  },
  {
   "cell_type": "code",
   "execution_count": 337,
   "metadata": {},
   "outputs": [],
   "source": [
    "df_bancos['code'] = df_bancos['code'].astype(int)"
   ]
  },
  {
   "cell_type": "code",
   "execution_count": 338,
   "metadata": {},
   "outputs": [],
   "source": [
    "colunas_com_nan = ['name', 'fullName']"
   ]
  },
  {
   "cell_type": "code",
   "execution_count": 339,
   "metadata": {},
   "outputs": [],
   "source": [
    "df_bancos = df_bancos.dropna(subset=colunas_com_nan)"
   ]
  },
  {
   "cell_type": "code",
   "execution_count": 340,
   "metadata": {},
   "outputs": [
    {
     "name": "stdout",
     "output_type": "stream",
     "text": [
      "<class 'pandas.core.frame.DataFrame'>\n",
      "Index: 357 entries, 0 to 356\n",
      "Data columns (total 4 columns):\n",
      " #   Column    Non-Null Count  Dtype \n",
      "---  ------    --------------  ----- \n",
      " 0   ispb      357 non-null    object\n",
      " 1   name      357 non-null    object\n",
      " 2   code      357 non-null    int32 \n",
      " 3   fullName  357 non-null    object\n",
      "dtypes: int32(1), object(3)\n",
      "memory usage: 12.6+ KB\n"
     ]
    }
   ],
   "source": [
    "df_bancos.info()"
   ]
  },
  {
   "cell_type": "code",
   "execution_count": 341,
   "metadata": {},
   "outputs": [
    {
     "data": {
      "text/html": [
       "<div>\n",
       "<style scoped>\n",
       "    .dataframe tbody tr th:only-of-type {\n",
       "        vertical-align: middle;\n",
       "    }\n",
       "\n",
       "    .dataframe tbody tr th {\n",
       "        vertical-align: top;\n",
       "    }\n",
       "\n",
       "    .dataframe thead th {\n",
       "        text-align: right;\n",
       "    }\n",
       "</style>\n",
       "<table border=\"1\" class=\"dataframe\">\n",
       "  <thead>\n",
       "    <tr style=\"text-align: right;\">\n",
       "      <th></th>\n",
       "      <th>ispb</th>\n",
       "      <th>name</th>\n",
       "      <th>code</th>\n",
       "      <th>fullName</th>\n",
       "    </tr>\n",
       "  </thead>\n",
       "  <tbody>\n",
       "    <tr>\n",
       "      <th>0</th>\n",
       "      <td>00000000</td>\n",
       "      <td>BCO DO BRASIL S.A.</td>\n",
       "      <td>1</td>\n",
       "      <td>Banco do Brasil S.A.</td>\n",
       "    </tr>\n",
       "    <tr>\n",
       "      <th>1</th>\n",
       "      <td>00000208</td>\n",
       "      <td>BRB - BCO DE BRASILIA S.A.</td>\n",
       "      <td>70</td>\n",
       "      <td>BRB - BANCO DE BRASILIA S.A.</td>\n",
       "    </tr>\n",
       "  </tbody>\n",
       "</table>\n",
       "</div>"
      ],
      "text/plain": [
       "       ispb                        name  code                      fullName\n",
       "0  00000000          BCO DO BRASIL S.A.     1          Banco do Brasil S.A.\n",
       "1  00000208  BRB - BCO DE BRASILIA S.A.    70  BRB - BANCO DE BRASILIA S.A."
      ]
     },
     "execution_count": 341,
     "metadata": {},
     "output_type": "execute_result"
    }
   ],
   "source": [
    "df_bancos.head(2)"
   ]
  },
  {
   "cell_type": "markdown",
   "metadata": {},
   "source": [
    "ENVIANDO PARA O BANCO DE DADOS APÓS TRATAMENTO DO DF"
   ]
  },
  {
   "cell_type": "code",
   "execution_count": 342,
   "metadata": {},
   "outputs": [
    {
     "data": {
      "text/plain": [
       "357"
      ]
     },
     "execution_count": 342,
     "metadata": {},
     "output_type": "execute_result"
    }
   ],
   "source": [
    "df_bancos.to_sql('bancos', conn,if_exists='replace',index=False)"
   ]
  },
  {
   "cell_type": "markdown",
   "metadata": {},
   "source": [
    "                                        INICIANDO TRATAMENTO DO DF_CORRETORAS"
   ]
  },
  {
   "cell_type": "code",
   "execution_count": 419,
   "metadata": {},
   "outputs": [
    {
     "data": {
      "text/html": [
       "<div>\n",
       "<style scoped>\n",
       "    .dataframe tbody tr th:only-of-type {\n",
       "        vertical-align: middle;\n",
       "    }\n",
       "\n",
       "    .dataframe tbody tr th {\n",
       "        vertical-align: top;\n",
       "    }\n",
       "\n",
       "    .dataframe thead th {\n",
       "        text-align: right;\n",
       "    }\n",
       "</style>\n",
       "<table border=\"1\" class=\"dataframe\">\n",
       "  <thead>\n",
       "    <tr style=\"text-align: right;\">\n",
       "      <th></th>\n",
       "      <th>cnpj</th>\n",
       "      <th>type</th>\n",
       "      <th>nome_social</th>\n",
       "      <th>nome_comercial</th>\n",
       "      <th>status</th>\n",
       "      <th>email</th>\n",
       "      <th>telefone</th>\n",
       "      <th>cep</th>\n",
       "      <th>pais</th>\n",
       "      <th>uf</th>\n",
       "      <th>municipio</th>\n",
       "      <th>bairro</th>\n",
       "      <th>complemento</th>\n",
       "      <th>logradouro</th>\n",
       "      <th>data_patrimonio_liquido</th>\n",
       "      <th>valor_patrimonio_liquido</th>\n",
       "      <th>codigo_cvm</th>\n",
       "      <th>data_inicio_situacao</th>\n",
       "      <th>data_registro</th>\n",
       "    </tr>\n",
       "  </thead>\n",
       "  <tbody>\n",
       "    <tr>\n",
       "      <th>0</th>\n",
       "      <td>76621457000185</td>\n",
       "      <td>CORRETORAS</td>\n",
       "      <td>4UM DTVM S.A.</td>\n",
       "      <td>4UM INVESTIMENTOS</td>\n",
       "      <td>CANCELADA</td>\n",
       "      <td>controle@4um.com.br</td>\n",
       "      <td>33519966</td>\n",
       "      <td>80420210</td>\n",
       "      <td>BRASIL</td>\n",
       "      <td>PR</td>\n",
       "      <td>CURITIBA</td>\n",
       "      <td>CENTRO</td>\n",
       "      <td>4º ANDAR</td>\n",
       "      <td>R. VISCONDE DO RIO BRANCO 1488</td>\n",
       "      <td>2005-12-31</td>\n",
       "      <td>4228660.18</td>\n",
       "      <td>2275</td>\n",
       "      <td>2006-10-05</td>\n",
       "      <td>1968-01-15</td>\n",
       "    </tr>\n",
       "    <tr>\n",
       "      <th>1</th>\n",
       "      <td>33817677000176</td>\n",
       "      <td>CORRETORAS</td>\n",
       "      <td>ABC BRASIL DISTRIBUIDORA DE TÍTULOS E VALORES ...</td>\n",
       "      <td>ABC BRASIL CORRETORA</td>\n",
       "      <td>CANCELADA</td>\n",
       "      <td>regina.tkatch@abcbrasil.com.br</td>\n",
       "      <td>31702172</td>\n",
       "      <td>1453000</td>\n",
       "      <td></td>\n",
       "      <td>SP</td>\n",
       "      <td>SÃO PAULO</td>\n",
       "      <td>ITAIM BIBI</td>\n",
       "      <td>2º ANDAR</td>\n",
       "      <td>AV. CIDADE JARDIM, 803</td>\n",
       "      <td>2002-12-31</td>\n",
       "      <td>0.00</td>\n",
       "      <td>3514</td>\n",
       "      <td>2002-10-14</td>\n",
       "      <td>2002-10-14</td>\n",
       "    </tr>\n",
       "  </tbody>\n",
       "</table>\n",
       "</div>"
      ],
      "text/plain": [
       "             cnpj        type  \\\n",
       "0  76621457000185  CORRETORAS   \n",
       "1  33817677000176  CORRETORAS   \n",
       "\n",
       "                                         nome_social        nome_comercial  \\\n",
       "0                                      4UM DTVM S.A.     4UM INVESTIMENTOS   \n",
       "1  ABC BRASIL DISTRIBUIDORA DE TÍTULOS E VALORES ...  ABC BRASIL CORRETORA   \n",
       "\n",
       "      status                           email  telefone       cep    pais  uf  \\\n",
       "0  CANCELADA             controle@4um.com.br  33519966  80420210  BRASIL  PR   \n",
       "1  CANCELADA  regina.tkatch@abcbrasil.com.br  31702172   1453000          SP   \n",
       "\n",
       "   municipio      bairro complemento                      logradouro  \\\n",
       "0   CURITIBA      CENTRO    4º ANDAR  R. VISCONDE DO RIO BRANCO 1488   \n",
       "1  SÃO PAULO  ITAIM BIBI    2º ANDAR          AV. CIDADE JARDIM, 803   \n",
       "\n",
       "  data_patrimonio_liquido valor_patrimonio_liquido codigo_cvm  \\\n",
       "0              2005-12-31               4228660.18       2275   \n",
       "1              2002-12-31                     0.00       3514   \n",
       "\n",
       "  data_inicio_situacao data_registro  \n",
       "0           2006-10-05    1968-01-15  \n",
       "1           2002-10-14    2002-10-14  "
      ]
     },
     "execution_count": 419,
     "metadata": {},
     "output_type": "execute_result"
    }
   ],
   "source": [
    "df_corretoras.head(2)"
   ]
  },
  {
   "cell_type": "code",
   "execution_count": 420,
   "metadata": {},
   "outputs": [],
   "source": [
    "df_corretoras_mod = df_corretoras"
   ]
  },
  {
   "cell_type": "code",
   "execution_count": 421,
   "metadata": {},
   "outputs": [
    {
     "data": {
      "text/html": [
       "<div>\n",
       "<style scoped>\n",
       "    .dataframe tbody tr th:only-of-type {\n",
       "        vertical-align: middle;\n",
       "    }\n",
       "\n",
       "    .dataframe tbody tr th {\n",
       "        vertical-align: top;\n",
       "    }\n",
       "\n",
       "    .dataframe thead th {\n",
       "        text-align: right;\n",
       "    }\n",
       "</style>\n",
       "<table border=\"1\" class=\"dataframe\">\n",
       "  <thead>\n",
       "    <tr style=\"text-align: right;\">\n",
       "      <th></th>\n",
       "      <th>cnpj</th>\n",
       "      <th>type</th>\n",
       "      <th>nome_social</th>\n",
       "      <th>nome_comercial</th>\n",
       "      <th>status</th>\n",
       "      <th>email</th>\n",
       "      <th>telefone</th>\n",
       "      <th>cep</th>\n",
       "      <th>pais</th>\n",
       "      <th>uf</th>\n",
       "      <th>municipio</th>\n",
       "      <th>bairro</th>\n",
       "      <th>complemento</th>\n",
       "      <th>logradouro</th>\n",
       "      <th>data_patrimonio_liquido</th>\n",
       "      <th>valor_patrimonio_liquido</th>\n",
       "      <th>codigo_cvm</th>\n",
       "      <th>data_inicio_situacao</th>\n",
       "      <th>data_registro</th>\n",
       "    </tr>\n",
       "  </thead>\n",
       "  <tbody>\n",
       "    <tr>\n",
       "      <th>0</th>\n",
       "      <td>76621457000185</td>\n",
       "      <td>CORRETORAS</td>\n",
       "      <td>4UM DTVM S.A.</td>\n",
       "      <td>4UM INVESTIMENTOS</td>\n",
       "      <td>CANCELADA</td>\n",
       "      <td>controle@4um.com.br</td>\n",
       "      <td>33519966</td>\n",
       "      <td>80420210</td>\n",
       "      <td>BRASIL</td>\n",
       "      <td>PR</td>\n",
       "      <td>CURITIBA</td>\n",
       "      <td>CENTRO</td>\n",
       "      <td>4º ANDAR</td>\n",
       "      <td>R. VISCONDE DO RIO BRANCO 1488</td>\n",
       "      <td>2005-12-31</td>\n",
       "      <td>4228660.18</td>\n",
       "      <td>2275</td>\n",
       "      <td>2006-10-05</td>\n",
       "      <td>1968-01-15</td>\n",
       "    </tr>\n",
       "    <tr>\n",
       "      <th>1</th>\n",
       "      <td>33817677000176</td>\n",
       "      <td>CORRETORAS</td>\n",
       "      <td>ABC BRASIL DISTRIBUIDORA DE TÍTULOS E VALORES ...</td>\n",
       "      <td>ABC BRASIL CORRETORA</td>\n",
       "      <td>CANCELADA</td>\n",
       "      <td>regina.tkatch@abcbrasil.com.br</td>\n",
       "      <td>31702172</td>\n",
       "      <td>1453000</td>\n",
       "      <td></td>\n",
       "      <td>SP</td>\n",
       "      <td>SÃO PAULO</td>\n",
       "      <td>ITAIM BIBI</td>\n",
       "      <td>2º ANDAR</td>\n",
       "      <td>AV. CIDADE JARDIM, 803</td>\n",
       "      <td>2002-12-31</td>\n",
       "      <td>0.00</td>\n",
       "      <td>3514</td>\n",
       "      <td>2002-10-14</td>\n",
       "      <td>2002-10-14</td>\n",
       "    </tr>\n",
       "  </tbody>\n",
       "</table>\n",
       "</div>"
      ],
      "text/plain": [
       "             cnpj        type  \\\n",
       "0  76621457000185  CORRETORAS   \n",
       "1  33817677000176  CORRETORAS   \n",
       "\n",
       "                                         nome_social        nome_comercial  \\\n",
       "0                                      4UM DTVM S.A.     4UM INVESTIMENTOS   \n",
       "1  ABC BRASIL DISTRIBUIDORA DE TÍTULOS E VALORES ...  ABC BRASIL CORRETORA   \n",
       "\n",
       "      status                           email  telefone       cep    pais  uf  \\\n",
       "0  CANCELADA             controle@4um.com.br  33519966  80420210  BRASIL  PR   \n",
       "1  CANCELADA  regina.tkatch@abcbrasil.com.br  31702172   1453000          SP   \n",
       "\n",
       "   municipio      bairro complemento                      logradouro  \\\n",
       "0   CURITIBA      CENTRO    4º ANDAR  R. VISCONDE DO RIO BRANCO 1488   \n",
       "1  SÃO PAULO  ITAIM BIBI    2º ANDAR          AV. CIDADE JARDIM, 803   \n",
       "\n",
       "  data_patrimonio_liquido valor_patrimonio_liquido codigo_cvm  \\\n",
       "0              2005-12-31               4228660.18       2275   \n",
       "1              2002-12-31                     0.00       3514   \n",
       "\n",
       "  data_inicio_situacao data_registro  \n",
       "0           2006-10-05    1968-01-15  \n",
       "1           2002-10-14    2002-10-14  "
      ]
     },
     "execution_count": 421,
     "metadata": {},
     "output_type": "execute_result"
    }
   ],
   "source": [
    "df_corretoras_mod.head(2)"
   ]
  },
  {
   "cell_type": "code",
   "execution_count": 422,
   "metadata": {},
   "outputs": [
    {
     "name": "stdout",
     "output_type": "stream",
     "text": [
      "<class 'pandas.core.frame.DataFrame'>\n",
      "RangeIndex: 372 entries, 0 to 371\n",
      "Data columns (total 19 columns):\n",
      " #   Column                    Non-Null Count  Dtype \n",
      "---  ------                    --------------  ----- \n",
      " 0   cnpj                      372 non-null    object\n",
      " 1   type                      372 non-null    object\n",
      " 2   nome_social               372 non-null    object\n",
      " 3   nome_comercial            372 non-null    object\n",
      " 4   status                    372 non-null    object\n",
      " 5   email                     372 non-null    object\n",
      " 6   telefone                  372 non-null    object\n",
      " 7   cep                       372 non-null    object\n",
      " 8   pais                      372 non-null    object\n",
      " 9   uf                        372 non-null    object\n",
      " 10  municipio                 372 non-null    object\n",
      " 11  bairro                    372 non-null    object\n",
      " 12  complemento               372 non-null    object\n",
      " 13  logradouro                372 non-null    object\n",
      " 14  data_patrimonio_liquido   372 non-null    object\n",
      " 15  valor_patrimonio_liquido  372 non-null    object\n",
      " 16  codigo_cvm                372 non-null    object\n",
      " 17  data_inicio_situacao      372 non-null    object\n",
      " 18  data_registro             372 non-null    object\n",
      "dtypes: object(19)\n",
      "memory usage: 55.3+ KB\n"
     ]
    }
   ],
   "source": [
    "df_corretoras_mod.info()"
   ]
  },
  {
   "cell_type": "code",
   "execution_count": 423,
   "metadata": {},
   "outputs": [
    {
     "data": {
      "text/plain": [
       "0      2005-12-31\n",
       "1      2002-12-31\n",
       "2      1989-12-31\n",
       "3      2022-12-31\n",
       "4      2000-12-31\n",
       "          ...    \n",
       "367    2017-12-31\n",
       "368    2017-12-31\n",
       "369    2022-12-31\n",
       "370    1996-12-31\n",
       "371    2022-12-31\n",
       "Name: data_patrimonio_liquido, Length: 372, dtype: object"
      ]
     },
     "execution_count": 423,
     "metadata": {},
     "output_type": "execute_result"
    }
   ],
   "source": [
    "df_corretoras_mod['data_patrimonio_liquido']"
   ]
  },
  {
   "cell_type": "code",
   "execution_count": 427,
   "metadata": {},
   "outputs": [
    {
     "name": "stderr",
     "output_type": "stream",
     "text": [
      "C:\\Users\\thiag\\AppData\\Local\\Temp\\ipykernel_12272\\3315840712.py:1: UserWarning: Parsing dates in %d/%m/%Y format when dayfirst=False (the default) was specified. Pass `dayfirst=True` or specify a format to silence this warning.\n",
      "  df_corretoras_mod['data_patrimonio_liquido'] = pd.to_datetime(df_corretoras_mod['data_patrimonio_liquido'])\n"
     ]
    }
   ],
   "source": [
    "df_corretoras_mod['data_patrimonio_liquido'] = pd.to_datetime(df_corretoras_mod['data_patrimonio_liquido'])"
   ]
  },
  {
   "cell_type": "code",
   "execution_count": 425,
   "metadata": {},
   "outputs": [],
   "source": [
    "df_corretoras_mod['data_patrimonio_liquido'] = df_corretoras_mod['data_patrimonio_liquido'].dt.strftime('%d/%m/%Y')"
   ]
  },
  {
   "cell_type": "code",
   "execution_count": 428,
   "metadata": {},
   "outputs": [
    {
     "name": "stdout",
     "output_type": "stream",
     "text": [
      "<class 'pandas.core.frame.DataFrame'>\n",
      "RangeIndex: 372 entries, 0 to 371\n",
      "Data columns (total 19 columns):\n",
      " #   Column                    Non-Null Count  Dtype         \n",
      "---  ------                    --------------  -----         \n",
      " 0   cnpj                      372 non-null    object        \n",
      " 1   type                      372 non-null    object        \n",
      " 2   nome_social               372 non-null    object        \n",
      " 3   nome_comercial            372 non-null    object        \n",
      " 4   status                    372 non-null    object        \n",
      " 5   email                     372 non-null    object        \n",
      " 6   telefone                  372 non-null    object        \n",
      " 7   cep                       372 non-null    object        \n",
      " 8   pais                      372 non-null    object        \n",
      " 9   uf                        372 non-null    object        \n",
      " 10  municipio                 372 non-null    object        \n",
      " 11  bairro                    372 non-null    object        \n",
      " 12  complemento               372 non-null    object        \n",
      " 13  logradouro                372 non-null    object        \n",
      " 14  data_patrimonio_liquido   369 non-null    datetime64[ns]\n",
      " 15  valor_patrimonio_liquido  372 non-null    object        \n",
      " 16  codigo_cvm                372 non-null    object        \n",
      " 17  data_inicio_situacao      372 non-null    object        \n",
      " 18  data_registro             372 non-null    object        \n",
      "dtypes: datetime64[ns](1), object(18)\n",
      "memory usage: 55.3+ KB\n"
     ]
    }
   ],
   "source": [
    "df_corretoras_mod.info()"
   ]
  },
  {
   "cell_type": "code",
   "execution_count": 429,
   "metadata": {},
   "outputs": [
    {
     "data": {
      "text/plain": [
       "0      2006-10-05\n",
       "1      2002-10-14\n",
       "2      1990-06-12\n",
       "3      2022-06-20\n",
       "4      2001-04-11\n",
       "          ...    \n",
       "367    2018-08-27\n",
       "368    2019-09-24\n",
       "369    1967-12-06\n",
       "370    1997-02-21\n",
       "371    1998-02-10\n",
       "Name: data_inicio_situacao, Length: 372, dtype: object"
      ]
     },
     "execution_count": 429,
     "metadata": {},
     "output_type": "execute_result"
    }
   ],
   "source": [
    "df_corretoras_mod['data_inicio_situacao']"
   ]
  },
  {
   "cell_type": "code",
   "execution_count": 430,
   "metadata": {},
   "outputs": [],
   "source": [
    "df_corretoras_mod['data_inicio_situacao'] = pd.to_datetime(df_corretoras_mod['data_inicio_situacao'])"
   ]
  },
  {
   "cell_type": "code",
   "execution_count": 431,
   "metadata": {},
   "outputs": [],
   "source": [
    "df_corretoras_mod['data_inicio_situacao'] = df_corretoras_mod['data_inicio_situacao'].dt.strftime('%d/%m/%Y')"
   ]
  },
  {
   "cell_type": "code",
   "execution_count": 432,
   "metadata": {},
   "outputs": [],
   "source": [
    "df_corretoras_mod['data_registro'] = pd.to_datetime(df_corretoras_mod['data_registro'])"
   ]
  },
  {
   "cell_type": "code",
   "execution_count": 433,
   "metadata": {},
   "outputs": [],
   "source": [
    "df_corretoras_mod['data_registro'] = df_corretoras_mod['data_registro'].dt.strftime('%d/%m/%Y')"
   ]
  },
  {
   "cell_type": "code",
   "execution_count": 434,
   "metadata": {},
   "outputs": [
    {
     "data": {
      "text/html": [
       "<div>\n",
       "<style scoped>\n",
       "    .dataframe tbody tr th:only-of-type {\n",
       "        vertical-align: middle;\n",
       "    }\n",
       "\n",
       "    .dataframe tbody tr th {\n",
       "        vertical-align: top;\n",
       "    }\n",
       "\n",
       "    .dataframe thead th {\n",
       "        text-align: right;\n",
       "    }\n",
       "</style>\n",
       "<table border=\"1\" class=\"dataframe\">\n",
       "  <thead>\n",
       "    <tr style=\"text-align: right;\">\n",
       "      <th></th>\n",
       "      <th>cnpj</th>\n",
       "      <th>type</th>\n",
       "      <th>nome_social</th>\n",
       "      <th>nome_comercial</th>\n",
       "      <th>status</th>\n",
       "      <th>email</th>\n",
       "      <th>telefone</th>\n",
       "      <th>cep</th>\n",
       "      <th>pais</th>\n",
       "      <th>uf</th>\n",
       "      <th>municipio</th>\n",
       "      <th>bairro</th>\n",
       "      <th>complemento</th>\n",
       "      <th>logradouro</th>\n",
       "      <th>data_patrimonio_liquido</th>\n",
       "      <th>valor_patrimonio_liquido</th>\n",
       "      <th>codigo_cvm</th>\n",
       "      <th>data_inicio_situacao</th>\n",
       "      <th>data_registro</th>\n",
       "    </tr>\n",
       "  </thead>\n",
       "  <tbody>\n",
       "    <tr>\n",
       "      <th>0</th>\n",
       "      <td>76621457000185</td>\n",
       "      <td>CORRETORAS</td>\n",
       "      <td>4UM DTVM S.A.</td>\n",
       "      <td>4UM INVESTIMENTOS</td>\n",
       "      <td>CANCELADA</td>\n",
       "      <td>controle@4um.com.br</td>\n",
       "      <td>33519966</td>\n",
       "      <td>80420210</td>\n",
       "      <td>BRASIL</td>\n",
       "      <td>PR</td>\n",
       "      <td>CURITIBA</td>\n",
       "      <td>CENTRO</td>\n",
       "      <td>4º ANDAR</td>\n",
       "      <td>R. VISCONDE DO RIO BRANCO 1488</td>\n",
       "      <td>2005-12-31</td>\n",
       "      <td>4228660.18</td>\n",
       "      <td>2275</td>\n",
       "      <td>05/10/2006</td>\n",
       "      <td>15/01/1968</td>\n",
       "    </tr>\n",
       "  </tbody>\n",
       "</table>\n",
       "</div>"
      ],
      "text/plain": [
       "             cnpj        type    nome_social     nome_comercial     status  \\\n",
       "0  76621457000185  CORRETORAS  4UM DTVM S.A.  4UM INVESTIMENTOS  CANCELADA   \n",
       "\n",
       "                 email  telefone       cep    pais  uf municipio  bairro  \\\n",
       "0  controle@4um.com.br  33519966  80420210  BRASIL  PR  CURITIBA  CENTRO   \n",
       "\n",
       "  complemento                      logradouro data_patrimonio_liquido  \\\n",
       "0    4º ANDAR  R. VISCONDE DO RIO BRANCO 1488              2005-12-31   \n",
       "\n",
       "  valor_patrimonio_liquido codigo_cvm data_inicio_situacao data_registro  \n",
       "0               4228660.18       2275           05/10/2006    15/01/1968  "
      ]
     },
     "execution_count": 434,
     "metadata": {},
     "output_type": "execute_result"
    }
   ],
   "source": [
    "df_corretoras_mod.head(1)"
   ]
  },
  {
   "cell_type": "code",
   "execution_count": 375,
   "metadata": {},
   "outputs": [],
   "source": [
    "colunas_nan_corretora = ['data_patrimonio_liquido']"
   ]
  },
  {
   "cell_type": "code",
   "execution_count": 376,
   "metadata": {},
   "outputs": [],
   "source": [
    "df_corretoras = df_corretoras.dropna(subset=colunas_nan_corretora)"
   ]
  },
  {
   "cell_type": "code",
   "execution_count": 377,
   "metadata": {},
   "outputs": [
    {
     "data": {
      "text/html": [
       "<div>\n",
       "<style scoped>\n",
       "    .dataframe tbody tr th:only-of-type {\n",
       "        vertical-align: middle;\n",
       "    }\n",
       "\n",
       "    .dataframe tbody tr th {\n",
       "        vertical-align: top;\n",
       "    }\n",
       "\n",
       "    .dataframe thead th {\n",
       "        text-align: right;\n",
       "    }\n",
       "</style>\n",
       "<table border=\"1\" class=\"dataframe\">\n",
       "  <thead>\n",
       "    <tr style=\"text-align: right;\">\n",
       "      <th></th>\n",
       "      <th>cnpj</th>\n",
       "      <th>type</th>\n",
       "      <th>nome_social</th>\n",
       "      <th>nome_comercial</th>\n",
       "      <th>status</th>\n",
       "      <th>email</th>\n",
       "      <th>telefone</th>\n",
       "      <th>cep</th>\n",
       "      <th>pais</th>\n",
       "      <th>uf</th>\n",
       "      <th>municipio</th>\n",
       "      <th>bairro</th>\n",
       "      <th>complemento</th>\n",
       "      <th>logradouro</th>\n",
       "      <th>data_patrimonio_liquido</th>\n",
       "      <th>valor_patrimonio_liquido</th>\n",
       "      <th>codigo_cvm</th>\n",
       "      <th>data_inicio_situacao</th>\n",
       "      <th>data_registro</th>\n",
       "    </tr>\n",
       "  </thead>\n",
       "  <tbody>\n",
       "    <tr>\n",
       "      <th>0</th>\n",
       "      <td>76621457000185</td>\n",
       "      <td>CORRETORAS</td>\n",
       "      <td>4UM DTVM S.A.</td>\n",
       "      <td>4UM INVESTIMENTOS</td>\n",
       "      <td>CANCELADA</td>\n",
       "      <td>controle@4um.com.br</td>\n",
       "      <td>33519966</td>\n",
       "      <td>80420210</td>\n",
       "      <td>BRASIL</td>\n",
       "      <td>PR</td>\n",
       "      <td>CURITIBA</td>\n",
       "      <td>CENTRO</td>\n",
       "      <td>4º ANDAR</td>\n",
       "      <td>R. VISCONDE DO RIO BRANCO 1488</td>\n",
       "      <td>31/12/2005</td>\n",
       "      <td>4228660.18</td>\n",
       "      <td>2275</td>\n",
       "      <td>05/10/2006</td>\n",
       "      <td>15/01/1968</td>\n",
       "    </tr>\n",
       "  </tbody>\n",
       "</table>\n",
       "</div>"
      ],
      "text/plain": [
       "             cnpj        type    nome_social     nome_comercial     status  \\\n",
       "0  76621457000185  CORRETORAS  4UM DTVM S.A.  4UM INVESTIMENTOS  CANCELADA   \n",
       "\n",
       "                 email  telefone       cep    pais  uf municipio  bairro  \\\n",
       "0  controle@4um.com.br  33519966  80420210  BRASIL  PR  CURITIBA  CENTRO   \n",
       "\n",
       "  complemento                      logradouro data_patrimonio_liquido  \\\n",
       "0    4º ANDAR  R. VISCONDE DO RIO BRANCO 1488              31/12/2005   \n",
       "\n",
       "  valor_patrimonio_liquido codigo_cvm data_inicio_situacao data_registro  \n",
       "0               4228660.18       2275           05/10/2006    15/01/1968  "
      ]
     },
     "execution_count": 377,
     "metadata": {},
     "output_type": "execute_result"
    }
   ],
   "source": [
    "df_corretoras.head(1)"
   ]
  },
  {
   "cell_type": "code",
   "execution_count": null,
   "metadata": {},
   "outputs": [
    {
     "data": {
      "text/plain": [
       "369"
      ]
     },
     "execution_count": 198,
     "metadata": {},
     "output_type": "execute_result"
    }
   ],
   "source": [
    "df_corretoras.to_sql('corretoras', conn,if_exists='replace',index=False)"
   ]
  },
  {
   "cell_type": "code",
   "execution_count": null,
   "metadata": {},
   "outputs": [
    {
     "ename": "ProgrammingError",
     "evalue": "Error binding parameter 2: type 'list' is not supported",
     "output_type": "error",
     "traceback": [
      "\u001b[1;31m---------------------------------------------------------------------------\u001b[0m",
      "\u001b[1;31mProgrammingError\u001b[0m                          Traceback (most recent call last)",
      "\u001b[1;32mc:\\Users\\thiag\\Desktop\\curso_python\\CURSO_CODER\\Projeto_Final_pt1_recall4.ipynb Cell 61\u001b[0m line \u001b[0;36m1\n\u001b[1;32m----> <a href='vscode-notebook-cell:/c%3A/Users/thiag/Desktop/curso_python/CURSO_CODER/Projeto_Final_pt1_recall4.ipynb#Y126sZmlsZQ%3D%3D?line=0'>1</a>\u001b[0m df_paises_mod\u001b[39m.\u001b[39;49mto_sql(\u001b[39m'\u001b[39;49m\u001b[39mfastfood\u001b[39;49m\u001b[39m'\u001b[39;49m, conn,if_exists\u001b[39m=\u001b[39;49m\u001b[39m'\u001b[39;49m\u001b[39mreplace\u001b[39;49m\u001b[39m'\u001b[39;49m,index\u001b[39m=\u001b[39;49m\u001b[39mFalse\u001b[39;49;00m)\n",
      "File \u001b[1;32mc:\\Users\\thiag\\AppData\\Local\\Programs\\Python\\Python311\\Lib\\site-packages\\pandas\\core\\generic.py:2878\u001b[0m, in \u001b[0;36mNDFrame.to_sql\u001b[1;34m(self, name, con, schema, if_exists, index, index_label, chunksize, dtype, method)\u001b[0m\n\u001b[0;32m   2713\u001b[0m \u001b[39m\u001b[39m\u001b[39m\"\"\"\u001b[39;00m\n\u001b[0;32m   2714\u001b[0m \u001b[39mWrite records stored in a DataFrame to a SQL database.\u001b[39;00m\n\u001b[0;32m   2715\u001b[0m \n\u001b[1;32m   (...)\u001b[0m\n\u001b[0;32m   2874\u001b[0m \u001b[39m[(1,), (None,), (2,)]\u001b[39;00m\n\u001b[0;32m   2875\u001b[0m \u001b[39m\"\"\"\u001b[39;00m  \u001b[39m# noqa:E501\u001b[39;00m\n\u001b[0;32m   2876\u001b[0m \u001b[39mfrom\u001b[39;00m \u001b[39mpandas\u001b[39;00m\u001b[39m.\u001b[39;00m\u001b[39mio\u001b[39;00m \u001b[39mimport\u001b[39;00m sql\n\u001b[1;32m-> 2878\u001b[0m \u001b[39mreturn\u001b[39;00m sql\u001b[39m.\u001b[39;49mto_sql(\n\u001b[0;32m   2879\u001b[0m     \u001b[39mself\u001b[39;49m,\n\u001b[0;32m   2880\u001b[0m     name,\n\u001b[0;32m   2881\u001b[0m     con,\n\u001b[0;32m   2882\u001b[0m     schema\u001b[39m=\u001b[39;49mschema,\n\u001b[0;32m   2883\u001b[0m     if_exists\u001b[39m=\u001b[39;49mif_exists,\n\u001b[0;32m   2884\u001b[0m     index\u001b[39m=\u001b[39;49mindex,\n\u001b[0;32m   2885\u001b[0m     index_label\u001b[39m=\u001b[39;49mindex_label,\n\u001b[0;32m   2886\u001b[0m     chunksize\u001b[39m=\u001b[39;49mchunksize,\n\u001b[0;32m   2887\u001b[0m     dtype\u001b[39m=\u001b[39;49mdtype,\n\u001b[0;32m   2888\u001b[0m     method\u001b[39m=\u001b[39;49mmethod,\n\u001b[0;32m   2889\u001b[0m )\n",
      "File \u001b[1;32mc:\\Users\\thiag\\AppData\\Local\\Programs\\Python\\Python311\\Lib\\site-packages\\pandas\\io\\sql.py:769\u001b[0m, in \u001b[0;36mto_sql\u001b[1;34m(frame, name, con, schema, if_exists, index, index_label, chunksize, dtype, method, engine, **engine_kwargs)\u001b[0m\n\u001b[0;32m    764\u001b[0m     \u001b[39mraise\u001b[39;00m \u001b[39mNotImplementedError\u001b[39;00m(\n\u001b[0;32m    765\u001b[0m         \u001b[39m\"\u001b[39m\u001b[39m'\u001b[39m\u001b[39mframe\u001b[39m\u001b[39m'\u001b[39m\u001b[39m argument should be either a Series or a DataFrame\u001b[39m\u001b[39m\"\u001b[39m\n\u001b[0;32m    766\u001b[0m     )\n\u001b[0;32m    768\u001b[0m \u001b[39mwith\u001b[39;00m pandasSQL_builder(con, schema\u001b[39m=\u001b[39mschema, need_transaction\u001b[39m=\u001b[39m\u001b[39mTrue\u001b[39;00m) \u001b[39mas\u001b[39;00m pandas_sql:\n\u001b[1;32m--> 769\u001b[0m     \u001b[39mreturn\u001b[39;00m pandas_sql\u001b[39m.\u001b[39;49mto_sql(\n\u001b[0;32m    770\u001b[0m         frame,\n\u001b[0;32m    771\u001b[0m         name,\n\u001b[0;32m    772\u001b[0m         if_exists\u001b[39m=\u001b[39;49mif_exists,\n\u001b[0;32m    773\u001b[0m         index\u001b[39m=\u001b[39;49mindex,\n\u001b[0;32m    774\u001b[0m         index_label\u001b[39m=\u001b[39;49mindex_label,\n\u001b[0;32m    775\u001b[0m         schema\u001b[39m=\u001b[39;49mschema,\n\u001b[0;32m    776\u001b[0m         chunksize\u001b[39m=\u001b[39;49mchunksize,\n\u001b[0;32m    777\u001b[0m         dtype\u001b[39m=\u001b[39;49mdtype,\n\u001b[0;32m    778\u001b[0m         method\u001b[39m=\u001b[39;49mmethod,\n\u001b[0;32m    779\u001b[0m         engine\u001b[39m=\u001b[39;49mengine,\n\u001b[0;32m    780\u001b[0m         \u001b[39m*\u001b[39;49m\u001b[39m*\u001b[39;49mengine_kwargs,\n\u001b[0;32m    781\u001b[0m     )\n",
      "File \u001b[1;32mc:\\Users\\thiag\\AppData\\Local\\Programs\\Python\\Python311\\Lib\\site-packages\\pandas\\io\\sql.py:2379\u001b[0m, in \u001b[0;36mSQLiteDatabase.to_sql\u001b[1;34m(self, frame, name, if_exists, index, index_label, schema, chunksize, dtype, method, engine, **engine_kwargs)\u001b[0m\n\u001b[0;32m   2369\u001b[0m table \u001b[39m=\u001b[39m SQLiteTable(\n\u001b[0;32m   2370\u001b[0m     name,\n\u001b[0;32m   2371\u001b[0m     \u001b[39mself\u001b[39m,\n\u001b[1;32m   (...)\u001b[0m\n\u001b[0;32m   2376\u001b[0m     dtype\u001b[39m=\u001b[39mdtype,\n\u001b[0;32m   2377\u001b[0m )\n\u001b[0;32m   2378\u001b[0m table\u001b[39m.\u001b[39mcreate()\n\u001b[1;32m-> 2379\u001b[0m \u001b[39mreturn\u001b[39;00m table\u001b[39m.\u001b[39;49minsert(chunksize, method)\n",
      "File \u001b[1;32mc:\\Users\\thiag\\AppData\\Local\\Programs\\Python\\Python311\\Lib\\site-packages\\pandas\\io\\sql.py:1023\u001b[0m, in \u001b[0;36mSQLTable.insert\u001b[1;34m(self, chunksize, method)\u001b[0m\n\u001b[0;32m   1020\u001b[0m     \u001b[39mbreak\u001b[39;00m\n\u001b[0;32m   1022\u001b[0m chunk_iter \u001b[39m=\u001b[39m \u001b[39mzip\u001b[39m(\u001b[39m*\u001b[39m(arr[start_i:end_i] \u001b[39mfor\u001b[39;00m arr \u001b[39min\u001b[39;00m data_list))\n\u001b[1;32m-> 1023\u001b[0m num_inserted \u001b[39m=\u001b[39m exec_insert(conn, keys, chunk_iter)\n\u001b[0;32m   1024\u001b[0m \u001b[39m# GH 46891\u001b[39;00m\n\u001b[0;32m   1025\u001b[0m \u001b[39mif\u001b[39;00m is_integer(num_inserted):\n",
      "File \u001b[1;32mc:\\Users\\thiag\\AppData\\Local\\Programs\\Python\\Python311\\Lib\\site-packages\\pandas\\io\\sql.py:2075\u001b[0m, in \u001b[0;36mSQLiteTable._execute_insert\u001b[1;34m(self, conn, keys, data_iter)\u001b[0m\n\u001b[0;32m   2073\u001b[0m \u001b[39mdef\u001b[39;00m \u001b[39m_execute_insert\u001b[39m(\u001b[39mself\u001b[39m, conn, keys, data_iter) \u001b[39m-\u001b[39m\u001b[39m>\u001b[39m \u001b[39mint\u001b[39m:\n\u001b[0;32m   2074\u001b[0m     data_list \u001b[39m=\u001b[39m \u001b[39mlist\u001b[39m(data_iter)\n\u001b[1;32m-> 2075\u001b[0m     conn\u001b[39m.\u001b[39mexecutemany(\u001b[39mself\u001b[39m\u001b[39m.\u001b[39minsert_statement(num_rows\u001b[39m=\u001b[39m\u001b[39m1\u001b[39m), data_list)\n\u001b[0;32m   2076\u001b[0m     \u001b[39mreturn\u001b[39;00m conn\u001b[39m.\u001b[39mrowcount\n",
      "\u001b[1;31mProgrammingError\u001b[0m: Error binding parameter 2: type 'list' is not supported"
     ]
    }
   ],
   "source": [
    "df_paises_mod.to_sql('fastfood', conn,if_exists='replace',index=False)"
   ]
  }
 ],
 "metadata": {
  "kernelspec": {
   "display_name": "Python 3",
   "language": "python",
   "name": "python3"
  },
  "language_info": {
   "codemirror_mode": {
    "name": "ipython",
    "version": 3
   },
   "file_extension": ".py",
   "mimetype": "text/x-python",
   "name": "python",
   "nbconvert_exporter": "python",
   "pygments_lexer": "ipython3",
   "version": "3.11.3"
  },
  "orig_nbformat": 4
 },
 "nbformat": 4,
 "nbformat_minor": 2
}
