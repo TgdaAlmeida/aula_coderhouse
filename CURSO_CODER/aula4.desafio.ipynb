{
 "cells": [
  {
   "cell_type": "markdown",
   "metadata": {},
   "source": [
    "DESAFIO AULA 4 - GRUPO 1 - 4"
   ]
  },
  {
   "cell_type": "markdown",
   "metadata": {},
   "source": [
    "Vamos utilizar a função notification.notify() para criar uma função de alerta de falha de carregamento de base de dados."
   ]
  },
  {
   "cell_type": "code",
   "execution_count": 2,
   "metadata": {},
   "outputs": [],
   "source": [
    "from plyer import notification\n",
    "from datetime import datetime"
   ]
  },
  {
   "cell_type": "code",
   "execution_count": 5,
   "metadata": {},
   "outputs": [],
   "source": [
    "def alerta(nivel,base,etapa):\n",
    "    nivel_titulo = {1: 'Alerta Baixo', 2: 'Alerta Medio', 3:'Alerta Alto'}\n",
    "    titulo = nivel_titulo.get(nivel, 'Alerta Desconhecido')\n",
    "    data_atual = datetime.now()\n",
    "    data_formatada = data_atual.strftime('%d/%m/%Y')\n",
    "    mensagem = (f' Falha no carregamento da base {base} na etapa {etapa} {data_formatada}')\n",
    "    notification.notify(title=titulo,message=mensagem,timeout=10)\n",
    "\n",
    "alerta(nivel=int(input('Digite o nivel (1 para baixo, 2 para Medio e 3 para Alto: ')), base='CLIENTES',etapa='EXTRAÇÃO')\n"
   ]
  }
 ],
 "metadata": {
  "kernelspec": {
   "display_name": "Python 3",
   "language": "python",
   "name": "python3"
  },
  "language_info": {
   "codemirror_mode": {
    "name": "ipython",
    "version": 3
   },
   "file_extension": ".py",
   "mimetype": "text/x-python",
   "name": "python",
   "nbconvert_exporter": "python",
   "pygments_lexer": "ipython3",
   "version": "3.11.3"
  },
  "orig_nbformat": 4
 },
 "nbformat": 4,
 "nbformat_minor": 2
}
