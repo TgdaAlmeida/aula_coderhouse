{
 "cells": [
  {
   "cell_type": "code",
   "execution_count": 2,
   "metadata": {},
   "outputs": [],
   "source": [
    "import pandas as pd\n",
    "import requests \n",
    "import schedule \n",
    "import time\n",
    "from plyer import notification\n",
    "from datetime import datetime"
   ]
  },
  {
   "cell_type": "code",
   "execution_count": 48,
   "metadata": {},
   "outputs": [],
   "source": [
    "#url = 'https://brasilapi.com.br/api/banks/v1' #bancos ok\n",
    "#url = 'https://brasilapi.com.br/api#tag/TAXAS/ibge/uf/v1' #capitais erro 404\n",
    "url = 'https://brasilapi.com.br/api/cvm/corretoras/v1' #corretoras ok\n"
   ]
  },
  {
   "cell_type": "code",
   "execution_count": 49,
   "metadata": {},
   "outputs": [],
   "source": [
    "def alerta():\n",
    "    response = requests.get(url)\n",
    "    response_code = response.status_code\n",
    "    data_atual = datetime.now()\n",
    "    data_formatada = data_atual.strftime('%d/%m/%Y')\n",
    "    desconhecido = 'Erro Desconhecido'\n",
    "    base = 'Data_Bank'\n",
    "    etapa = 'Extração'\n",
    "    mensagem = (f' Falha no carregamento da base {base} na etapa {etapa} em {data_formatada}')\n",
    "    \n",
    "    if response_code == 200:\n",
    "        data_json = response.json()\n",
    "        #df = pd.DataFrame(data_json)\n",
    "        print('Requisição Completa')\n",
    "    elif response_code >= 400 and response_code < 500:\n",
    "        title = 'ATENÇÃO: Erro Grave'\n",
    "        notification.notify(title=title,message=mensagem,timeout=10)\n",
    "    elif response_code >=500 and response_code < 600:\n",
    "        title = 'ATENÇÃO: Erro Médio'\n",
    "        notification.notify(title=title,message=mensagem,timeout=10)\n",
    "    else:\n",
    "        title = 'Atenção'\n",
    "        notification.notify(title=title,message=desconhecido,timeout=10)"
   ]
  },
  {
   "cell_type": "code",
   "execution_count": 50,
   "metadata": {},
   "outputs": [
    {
     "name": "stdout",
     "output_type": "stream",
     "text": [
      "Requisição Completa\n"
     ]
    }
   ],
   "source": [
    "alerta()"
   ]
  },
  {
   "cell_type": "code",
   "execution_count": 51,
   "metadata": {},
   "outputs": [],
   "source": [
    "df = pd.DataFrame(data_json)\n"
   ]
  },
  {
   "cell_type": "code",
   "execution_count": 52,
   "metadata": {},
   "outputs": [
    {
     "data": {
      "text/html": [
       "<div>\n",
       "<style scoped>\n",
       "    .dataframe tbody tr th:only-of-type {\n",
       "        vertical-align: middle;\n",
       "    }\n",
       "\n",
       "    .dataframe tbody tr th {\n",
       "        vertical-align: top;\n",
       "    }\n",
       "\n",
       "    .dataframe thead th {\n",
       "        text-align: right;\n",
       "    }\n",
       "</style>\n",
       "<table border=\"1\" class=\"dataframe\">\n",
       "  <thead>\n",
       "    <tr style=\"text-align: right;\">\n",
       "      <th></th>\n",
       "      <th>ispb</th>\n",
       "      <th>name</th>\n",
       "      <th>code</th>\n",
       "      <th>fullName</th>\n",
       "    </tr>\n",
       "  </thead>\n",
       "  <tbody>\n",
       "    <tr>\n",
       "      <th>0</th>\n",
       "      <td>00000000</td>\n",
       "      <td>BCO DO BRASIL S.A.</td>\n",
       "      <td>1.0</td>\n",
       "      <td>Banco do Brasil S.A.</td>\n",
       "    </tr>\n",
       "    <tr>\n",
       "      <th>1</th>\n",
       "      <td>00000208</td>\n",
       "      <td>BRB - BCO DE BRASILIA S.A.</td>\n",
       "      <td>70.0</td>\n",
       "      <td>BRB - BANCO DE BRASILIA S.A.</td>\n",
       "    </tr>\n",
       "    <tr>\n",
       "      <th>2</th>\n",
       "      <td>00038121</td>\n",
       "      <td>Selic</td>\n",
       "      <td>NaN</td>\n",
       "      <td>Banco Central do Brasil - Selic</td>\n",
       "    </tr>\n",
       "    <tr>\n",
       "      <th>3</th>\n",
       "      <td>00038166</td>\n",
       "      <td>Bacen</td>\n",
       "      <td>NaN</td>\n",
       "      <td>Banco Central do Brasil</td>\n",
       "    </tr>\n",
       "    <tr>\n",
       "      <th>4</th>\n",
       "      <td>00122327</td>\n",
       "      <td>SANTINVEST S.A. - CFI</td>\n",
       "      <td>539.0</td>\n",
       "      <td>SANTINVEST S.A. - CREDITO, FINANCIAMENTO E INV...</td>\n",
       "    </tr>\n",
       "  </tbody>\n",
       "</table>\n",
       "</div>"
      ],
      "text/plain": [
       "       ispb                        name   code  \\\n",
       "0  00000000          BCO DO BRASIL S.A.    1.0   \n",
       "1  00000208  BRB - BCO DE BRASILIA S.A.   70.0   \n",
       "2  00038121                       Selic    NaN   \n",
       "3  00038166                       Bacen    NaN   \n",
       "4  00122327       SANTINVEST S.A. - CFI  539.0   \n",
       "\n",
       "                                            fullName  \n",
       "0                               Banco do Brasil S.A.  \n",
       "1                       BRB - BANCO DE BRASILIA S.A.  \n",
       "2                    Banco Central do Brasil - Selic  \n",
       "3                            Banco Central do Brasil  \n",
       "4  SANTINVEST S.A. - CREDITO, FINANCIAMENTO E INV...  "
      ]
     },
     "execution_count": 52,
     "metadata": {},
     "output_type": "execute_result"
    }
   ],
   "source": [
    "df.head()"
   ]
  },
  {
   "cell_type": "code",
   "execution_count": 5,
   "metadata": {},
   "outputs": [],
   "source": [
    "bancos = requests.get('https://brasilapi.com.br/api/banks/v1')"
   ]
  },
  {
   "cell_type": "code",
   "execution_count": 53,
   "metadata": {},
   "outputs": [],
   "source": [
    "corretoras = requests.get('https://brasilapi.com.br/api/cvm/corretoras/v1')"
   ]
  },
  {
   "cell_type": "code",
   "execution_count": 7,
   "metadata": {},
   "outputs": [],
   "source": [
    "capital = requests.get('https://brasilapi.com.br/api#tag/TAXAS/ibge/uf/v1')"
   ]
  },
  {
   "cell_type": "code",
   "execution_count": 8,
   "metadata": {},
   "outputs": [],
   "source": [
    "if bancos.status_code == 200:\n",
    "    data_json = bancos.json()\n",
    "else:\n",
    "    print('erro na requisicao')"
   ]
  },
  {
   "cell_type": "code",
   "execution_count": 55,
   "metadata": {},
   "outputs": [],
   "source": [
    "if corretoras.status_code == 200:\n",
    "    data_json2 = corretoras.json()\n",
    "else:\n",
    "    print('erro na requisicao')"
   ]
  },
  {
   "cell_type": "code",
   "execution_count": 10,
   "metadata": {},
   "outputs": [
    {
     "name": "stdout",
     "output_type": "stream",
     "text": [
      "erro na requisicao\n"
     ]
    }
   ],
   "source": [
    "if capital.status_code == 200:\n",
    "    data_json3 = capital.json()\n",
    "else:\n",
    "    print('erro na requisicao')"
   ]
  },
  {
   "cell_type": "code",
   "execution_count": 45,
   "metadata": {},
   "outputs": [],
   "source": [
    "df = pd.DataFrame(data_json)"
   ]
  },
  {
   "cell_type": "code",
   "execution_count": 56,
   "metadata": {},
   "outputs": [],
   "source": [
    "df_corretoras = pd.DataFrame(data_json2)"
   ]
  },
  {
   "cell_type": "code",
   "execution_count": 57,
   "metadata": {},
   "outputs": [
    {
     "data": {
      "text/html": [
       "<div>\n",
       "<style scoped>\n",
       "    .dataframe tbody tr th:only-of-type {\n",
       "        vertical-align: middle;\n",
       "    }\n",
       "\n",
       "    .dataframe tbody tr th {\n",
       "        vertical-align: top;\n",
       "    }\n",
       "\n",
       "    .dataframe thead th {\n",
       "        text-align: right;\n",
       "    }\n",
       "</style>\n",
       "<table border=\"1\" class=\"dataframe\">\n",
       "  <thead>\n",
       "    <tr style=\"text-align: right;\">\n",
       "      <th></th>\n",
       "      <th>cnpj</th>\n",
       "      <th>type</th>\n",
       "      <th>nome_social</th>\n",
       "      <th>nome_comercial</th>\n",
       "      <th>status</th>\n",
       "      <th>email</th>\n",
       "      <th>telefone</th>\n",
       "      <th>cep</th>\n",
       "      <th>pais</th>\n",
       "      <th>uf</th>\n",
       "      <th>municipio</th>\n",
       "      <th>bairro</th>\n",
       "      <th>complemento</th>\n",
       "      <th>logradouro</th>\n",
       "      <th>data_patrimonio_liquido</th>\n",
       "      <th>valor_patrimonio_liquido</th>\n",
       "      <th>codigo_cvm</th>\n",
       "      <th>data_inicio_situacao</th>\n",
       "      <th>data_registro</th>\n",
       "    </tr>\n",
       "  </thead>\n",
       "  <tbody>\n",
       "    <tr>\n",
       "      <th>0</th>\n",
       "      <td>76621457000185</td>\n",
       "      <td>CORRETORAS</td>\n",
       "      <td>4UM DTVM S.A.</td>\n",
       "      <td>4UM INVESTIMENTOS</td>\n",
       "      <td>CANCELADA</td>\n",
       "      <td>controle@4um.com.br</td>\n",
       "      <td>33519966</td>\n",
       "      <td>80420210</td>\n",
       "      <td>BRASIL</td>\n",
       "      <td>PR</td>\n",
       "      <td>CURITIBA</td>\n",
       "      <td>CENTRO</td>\n",
       "      <td>4º ANDAR</td>\n",
       "      <td>R. VISCONDE DO RIO BRANCO 1488</td>\n",
       "      <td>2005-12-31</td>\n",
       "      <td>4228660.18</td>\n",
       "      <td>2275</td>\n",
       "      <td>2006-10-05</td>\n",
       "      <td>1968-01-15</td>\n",
       "    </tr>\n",
       "    <tr>\n",
       "      <th>1</th>\n",
       "      <td>33817677000176</td>\n",
       "      <td>CORRETORAS</td>\n",
       "      <td>ABC BRASIL DISTRIBUIDORA DE TÍTULOS E VALORES ...</td>\n",
       "      <td>ABC BRASIL CORRETORA</td>\n",
       "      <td>CANCELADA</td>\n",
       "      <td>regina.tkatch@abcbrasil.com.br</td>\n",
       "      <td>31702172</td>\n",
       "      <td>1453000</td>\n",
       "      <td></td>\n",
       "      <td>SP</td>\n",
       "      <td>SÃO PAULO</td>\n",
       "      <td>ITAIM BIBI</td>\n",
       "      <td>2º ANDAR</td>\n",
       "      <td>AV. CIDADE JARDIM, 803</td>\n",
       "      <td>2002-12-31</td>\n",
       "      <td>0.00</td>\n",
       "      <td>3514</td>\n",
       "      <td>2002-10-14</td>\n",
       "      <td>2002-10-14</td>\n",
       "    </tr>\n",
       "    <tr>\n",
       "      <th>2</th>\n",
       "      <td>10664027000132</td>\n",
       "      <td>CORRETORAS</td>\n",
       "      <td>ABERTURA CCVM LTDA</td>\n",
       "      <td>ABERTURA CCVM LTDA</td>\n",
       "      <td>CANCELADA</td>\n",
       "      <td></td>\n",
       "      <td></td>\n",
       "      <td>50010240</td>\n",
       "      <td>BRASIL</td>\n",
       "      <td>PE</td>\n",
       "      <td>RECIFE</td>\n",
       "      <td></td>\n",
       "      <td></td>\n",
       "      <td>R DO IMP.D.PEDRO II 239/CJ.102</td>\n",
       "      <td>1989-12-31</td>\n",
       "      <td>5995252.29</td>\n",
       "      <td>329</td>\n",
       "      <td>1990-06-12</td>\n",
       "      <td>1986-07-08</td>\n",
       "    </tr>\n",
       "    <tr>\n",
       "      <th>3</th>\n",
       "      <td>44527444000155</td>\n",
       "      <td>CORRETORAS</td>\n",
       "      <td>ABN AMRO CORRETORA DE T-TULOS E VALORES MOBILI...</td>\n",
       "      <td></td>\n",
       "      <td>EM FUNCIONAMENTO NORMAL</td>\n",
       "      <td>canal.comunicacao@br.abnamro.com</td>\n",
       "      <td>30737417</td>\n",
       "      <td>4551010</td>\n",
       "      <td></td>\n",
       "      <td>SP</td>\n",
       "      <td>SÃO PAULO</td>\n",
       "      <td>VILA OLIMPIA</td>\n",
       "      <td>11¦ ANDAR, CJ. 111</td>\n",
       "      <td>RUA FIDÛNCIO RAMOS, N¦ 302, TORRE B</td>\n",
       "      <td>2022-12-31</td>\n",
       "      <td>3729687.41</td>\n",
       "      <td>3794</td>\n",
       "      <td>2022-06-20</td>\n",
       "      <td>2022-06-20</td>\n",
       "    </tr>\n",
       "    <tr>\n",
       "      <th>4</th>\n",
       "      <td>33819590000138</td>\n",
       "      <td>CORRETORAS</td>\n",
       "      <td>AÇÃO S.A. CORRETORA DE VALORES E CÂMBIO</td>\n",
       "      <td>ACAO SA CVC</td>\n",
       "      <td>CANCELADA</td>\n",
       "      <td></td>\n",
       "      <td>5095755</td>\n",
       "      <td>20040040</td>\n",
       "      <td>BRASIL</td>\n",
       "      <td>RJ</td>\n",
       "      <td>RIO DE JANEIRO</td>\n",
       "      <td>CENTRO</td>\n",
       "      <td></td>\n",
       "      <td>PRAÇA OLAVO BILAC, 28/ SL. 608</td>\n",
       "      <td>2000-12-31</td>\n",
       "      <td>291862.38</td>\n",
       "      <td>1112</td>\n",
       "      <td>2001-04-11</td>\n",
       "      <td>1968-04-19</td>\n",
       "    </tr>\n",
       "  </tbody>\n",
       "</table>\n",
       "</div>"
      ],
      "text/plain": [
       "             cnpj        type  \\\n",
       "0  76621457000185  CORRETORAS   \n",
       "1  33817677000176  CORRETORAS   \n",
       "2  10664027000132  CORRETORAS   \n",
       "3  44527444000155  CORRETORAS   \n",
       "4  33819590000138  CORRETORAS   \n",
       "\n",
       "                                         nome_social        nome_comercial  \\\n",
       "0                                      4UM DTVM S.A.     4UM INVESTIMENTOS   \n",
       "1  ABC BRASIL DISTRIBUIDORA DE TÍTULOS E VALORES ...  ABC BRASIL CORRETORA   \n",
       "2                                 ABERTURA CCVM LTDA    ABERTURA CCVM LTDA   \n",
       "3  ABN AMRO CORRETORA DE T-TULOS E VALORES MOBILI...                         \n",
       "4            AÇÃO S.A. CORRETORA DE VALORES E CÂMBIO           ACAO SA CVC   \n",
       "\n",
       "                    status                             email  telefone  \\\n",
       "0                CANCELADA               controle@4um.com.br  33519966   \n",
       "1                CANCELADA    regina.tkatch@abcbrasil.com.br  31702172   \n",
       "2                CANCELADA                                               \n",
       "3  EM FUNCIONAMENTO NORMAL  canal.comunicacao@br.abnamro.com  30737417   \n",
       "4                CANCELADA                                     5095755   \n",
       "\n",
       "        cep    pais  uf       municipio        bairro         complemento  \\\n",
       "0  80420210  BRASIL  PR        CURITIBA        CENTRO            4º ANDAR   \n",
       "1   1453000          SP       SÃO PAULO    ITAIM BIBI            2º ANDAR   \n",
       "2  50010240  BRASIL  PE          RECIFE                                     \n",
       "3   4551010          SP       SÃO PAULO  VILA OLIMPIA  11¦ ANDAR, CJ. 111   \n",
       "4  20040040  BRASIL  RJ  RIO DE JANEIRO        CENTRO                       \n",
       "\n",
       "                            logradouro data_patrimonio_liquido  \\\n",
       "0       R. VISCONDE DO RIO BRANCO 1488              2005-12-31   \n",
       "1               AV. CIDADE JARDIM, 803              2002-12-31   \n",
       "2       R DO IMP.D.PEDRO II 239/CJ.102              1989-12-31   \n",
       "3  RUA FIDÛNCIO RAMOS, N¦ 302, TORRE B              2022-12-31   \n",
       "4       PRAÇA OLAVO BILAC, 28/ SL. 608              2000-12-31   \n",
       "\n",
       "  valor_patrimonio_liquido codigo_cvm data_inicio_situacao data_registro  \n",
       "0               4228660.18       2275           2006-10-05    1968-01-15  \n",
       "1                     0.00       3514           2002-10-14    2002-10-14  \n",
       "2               5995252.29        329           1990-06-12    1986-07-08  \n",
       "3               3729687.41       3794           2022-06-20    2022-06-20  \n",
       "4                291862.38       1112           2001-04-11    1968-04-19  "
      ]
     },
     "execution_count": 57,
     "metadata": {},
     "output_type": "execute_result"
    }
   ],
   "source": [
    "df_corretoras.head()"
   ]
  },
  {
   "cell_type": "code",
   "execution_count": 61,
   "metadata": {},
   "outputs": [],
   "source": [
    "df_capital = pd.DataFrame(data_json3)"
   ]
  },
  {
   "cell_type": "code",
   "execution_count": 21,
   "metadata": {},
   "outputs": [],
   "source": [
    "#def alerta(base,etapa):\n",
    "    #if corretoras.status_code == 200:\n",
    "        #data_json2 = corretoras.json()\n",
    "        #print('DEU BOM')\n",
    "    #else:\n",
    "        #data_atual = datetime.now()\n",
    "        #data_formatada = data_atual.strftime('%d/%m/%Y')\n",
    "        #mensagem = (f' Falha no carregamento da base {base} na etapa {etapa} {data_formatada}')\n",
    "        #notification.notify(message=mensagem, timeout=10)"
   ]
  },
  {
   "cell_type": "code",
   "execution_count": 12,
   "metadata": {},
   "outputs": [
    {
     "name": "stdout",
     "output_type": "stream",
     "text": [
      "deu bom\n"
     ]
    }
   ],
   "source": [
    "alerta(base = 'API', etapa = 'GET')"
   ]
  },
  {
   "cell_type": "code",
   "execution_count": 23,
   "metadata": {},
   "outputs": [],
   "source": []
  },
  {
   "cell_type": "code",
   "execution_count": null,
   "metadata": {},
   "outputs": [],
   "source": [
    "alerta1"
   ]
  }
 ],
 "metadata": {
  "kernelspec": {
   "display_name": "Python 3",
   "language": "python",
   "name": "python3"
  },
  "language_info": {
   "codemirror_mode": {
    "name": "ipython",
    "version": 3
   },
   "file_extension": ".py",
   "mimetype": "text/x-python",
   "name": "python",
   "nbconvert_exporter": "python",
   "pygments_lexer": "ipython3",
   "version": "3.11.3"
  },
  "orig_nbformat": 4
 },
 "nbformat": 4,
 "nbformat_minor": 2
}
