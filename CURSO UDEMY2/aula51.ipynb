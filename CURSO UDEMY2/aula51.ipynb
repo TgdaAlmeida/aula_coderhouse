{
 "cells": [
  {
   "cell_type": "markdown",
   "metadata": {},
   "source": [
    "                                                    INTRODUÇÃO A DESEMPACOTAMENTO \n",
    "\n"
   ]
  },
  {
   "cell_type": "code",
   "execution_count": 1,
   "metadata": {},
   "outputs": [],
   "source": [
    "nomes = ['Joao', 'Maria','Luiz']"
   ]
  },
  {
   "cell_type": "code",
   "execution_count": 2,
   "metadata": {},
   "outputs": [],
   "source": [
    "nome1, nome2, nome3 = nomes #FUNCIONA"
   ]
  },
  {
   "cell_type": "code",
   "execution_count": 4,
   "metadata": {},
   "outputs": [],
   "source": [
    "nome1, nome2, nome3 = ['Joao', 'Maria','Luiz'] #FUNCIONA"
   ]
  },
  {
   "cell_type": "code",
   "execution_count": 9,
   "metadata": {},
   "outputs": [],
   "source": [
    "nome1, *resto = ['Joao', 'Maria','Luiz'] #EMPACOTAMENTO DO RESTO"
   ]
  },
  {
   "cell_type": "code",
   "execution_count": 12,
   "metadata": {},
   "outputs": [],
   "source": [
    "nome1, *_ = ['Joao', 'Maria','Luiz'] # UNDERLINA INDICA QUE A VARIAVEL NAO SERA USADA NO FUTURO"
   ]
  },
  {
   "cell_type": "code",
   "execution_count": 11,
   "metadata": {},
   "outputs": [
    {
     "name": "stdout",
     "output_type": "stream",
     "text": [
      "Joao\n",
      "['Maria', 'Luiz']\n",
      "Joao ['Maria', 'Luiz']\n"
     ]
    }
   ],
   "source": [
    "print(nome1)\n",
    "print(resto)\n",
    "print(nome1,resto) #CRIOU UMA NOVA LISTA DE NOMES"
   ]
  },
  {
   "cell_type": "code",
   "execution_count": 3,
   "metadata": {},
   "outputs": [
    {
     "name": "stdout",
     "output_type": "stream",
     "text": [
      "Maria\n"
     ]
    }
   ],
   "source": []
  }
 ],
 "metadata": {
  "kernelspec": {
   "display_name": "Python 3",
   "language": "python",
   "name": "python3"
  },
  "language_info": {
   "codemirror_mode": {
    "name": "ipython",
    "version": 3
   },
   "file_extension": ".py",
   "mimetype": "text/x-python",
   "name": "python",
   "nbconvert_exporter": "python",
   "pygments_lexer": "ipython3",
   "version": "3.11.3"
  },
  "orig_nbformat": 4
 },
 "nbformat": 4,
 "nbformat_minor": 2
}
