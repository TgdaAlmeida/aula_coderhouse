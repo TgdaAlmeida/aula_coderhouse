{
 "cells": [
  {
   "cell_type": "code",
   "execution_count": 5,
   "metadata": {},
   "outputs": [],
   "source": [
    "import pandas as pd\n",
    "from datetime import datetime\n",
    "from plyer import notification\n",
    "import requests"
   ]
  },
  {
   "cell_type": "code",
   "execution_count": 6,
   "metadata": {},
   "outputs": [],
   "source": [
    "#url = 'https://brasilapi.com.br/api/banks/v1' #bancos ok\n",
    "url = 'https://brasilapi.com.br/api#tag/TAXAS/ibge/uf/v1' #capitais erro 404\n",
    "#url = 'https://brasilapi.com.br/api/cvm/corretoras/v1' #corretoras ok"
   ]
  },
  {
   "cell_type": "code",
   "execution_count": 22,
   "metadata": {},
   "outputs": [],
   "source": [
    "def Alerta(nivel, base, etapa):\n",
    "    base = base\n",
    "    etapa = etapa\n",
    "    data_atual = datetime.now()\n",
    "    data_formatada = data_atual.strftime('%d/%m/%d')\n",
    "    mensagem = (f'Falha no carregamento da base {base} na etapa {etapa} em {data_formatada}')\n",
    "    title = nivel\n",
    "    notification.notify(title = title, message= mensagem, timeout= 10)"
   ]
  },
  {
   "cell_type": "code",
   "execution_count": 20,
   "metadata": {},
   "outputs": [],
   "source": [
    "while True:\n",
    "    response = requests.get(url)\n",
    "    response_code = response.status_code\n",
    "    break"
   ]
  },
  {
   "cell_type": "code",
   "execution_count": 23,
   "metadata": {},
   "outputs": [],
   "source": [
    "if response_code == 200:\n",
    "    data_json = response.json()\n",
    "    df = pd.DataFrame(data_json)\n",
    "    print('Requisição Completa')\n",
    "else:\n",
    "    nivel = 'ATENÇÃO: Erro Grave'\n",
    "    Alerta(nivel = nivel, base='Data_Bank',etapa='Extração')"
   ]
  },
  {
   "cell_type": "code",
   "execution_count": null,
   "metadata": {},
   "outputs": [],
   "source": [
    "df.head()"
   ]
  }
 ],
 "metadata": {
  "kernelspec": {
   "display_name": "Python 3",
   "language": "python",
   "name": "python3"
  },
  "language_info": {
   "codemirror_mode": {
    "name": "ipython",
    "version": 3
   },
   "file_extension": ".py",
   "mimetype": "text/x-python",
   "name": "python",
   "nbconvert_exporter": "python",
   "pygments_lexer": "ipython3",
   "version": "3.11.3"
  },
  "orig_nbformat": 4
 },
 "nbformat": 4,
 "nbformat_minor": 2
}
