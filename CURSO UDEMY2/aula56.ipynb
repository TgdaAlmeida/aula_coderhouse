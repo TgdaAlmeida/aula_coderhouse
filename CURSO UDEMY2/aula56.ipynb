{
 "cells": [
  {
   "cell_type": "markdown",
   "metadata": {},
   "source": [
    "                                            SPLIT E JOIN COM LIST E STR"
   ]
  },
  {
   "cell_type": "code",
   "execution_count": 7,
   "metadata": {},
   "outputs": [
    {
     "name": "stdout",
     "output_type": "stream",
     "text": [
      "['Olha so que', ' coisa interessante']\n"
     ]
    }
   ],
   "source": [
    "frase = 'Olha so que, coisa interessante'\n",
    "lista_frases = frase.split(',')\n",
    "print(lista_frases)"
   ]
  },
  {
   "cell_type": "code",
   "execution_count": 10,
   "metadata": {},
   "outputs": [
    {
     "name": "stdout",
     "output_type": "stream",
     "text": [
      "['Olha', 'so', 'que,', 'coisa', 'interessante']\n"
     ]
    }
   ],
   "source": [
    "frase = 'Olha so que, coisa interessante'\n",
    "lista_palavra = frase.split()\n",
    "print(lista_palavra)"
   ]
  },
  {
   "cell_type": "code",
   "execution_count": 11,
   "metadata": {},
   "outputs": [
    {
     "name": "stdout",
     "output_type": "stream",
     "text": [
      "Olha so que\n",
      " coisa interessante\n"
     ]
    }
   ],
   "source": [
    "for i, frase in enumerate(lista_frases):\n",
    "    print(lista_frases[i].split) #SPLIT TIRA OS ESPAÇOS DO COMEÇO E FIM LSTRIP DA ESQ E RSTRIP DA DIREITA"
   ]
  }
 ],
 "metadata": {
  "kernelspec": {
   "display_name": "Python 3",
   "language": "python",
   "name": "python3"
  },
  "language_info": {
   "codemirror_mode": {
    "name": "ipython",
    "version": 3
   },
   "file_extension": ".py",
   "mimetype": "text/x-python",
   "name": "python",
   "nbconvert_exporter": "python",
   "pygments_lexer": "ipython3",
   "version": "3.11.3"
  },
  "orig_nbformat": 4
 },
 "nbformat": 4,
 "nbformat_minor": 2
}
