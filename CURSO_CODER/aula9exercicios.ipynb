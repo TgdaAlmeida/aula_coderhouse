{
 "cells": [
  {
   "cell_type": "code",
   "execution_count": 1,
   "metadata": {},
   "outputs": [],
   "source": [
    "import pandas as pd\n",
    "import sqlite3"
   ]
  },
  {
   "cell_type": "code",
   "execution_count": 2,
   "metadata": {},
   "outputs": [],
   "source": [
    "def tabelas_bd():\n",
    "\n",
    "    conn = sqlite3.connect('coderhouse.db')\n",
    "    query = \"select name from sqlite_master wherer type = 'table'\"\n",
    "    schema = pd.read_sql(query, conn)\n",
    "    conn.close()\n",
    "    return schema"
   ]
  },
  {
   "cell_type": "code",
   "execution_count": 3,
   "metadata": {},
   "outputs": [],
   "source": [
    "def salva_bd(df, nome_tabela):\n",
    "    conn = sqlite3.connect('coderhouse.db')\n",
    "    df.to_sql(nome_tabela,conn,if_exists='replace',index = False)"
   ]
  },
  {
   "cell_type": "code",
   "execution_count": null,
   "metadata": {},
   "outputs": [],
   "source": [
    "def carrega_bd(nome_tabela):\n",
    "    conn = sqlite3.connect('coderhouse.db')\n",
    "    \n"
   ]
  }
 ],
 "metadata": {
  "kernelspec": {
   "display_name": "Python 3",
   "language": "python",
   "name": "python3"
  },
  "language_info": {
   "codemirror_mode": {
    "name": "ipython",
    "version": 3
   },
   "file_extension": ".py",
   "mimetype": "text/x-python",
   "name": "python",
   "nbconvert_exporter": "python",
   "pygments_lexer": "ipython3",
   "version": "3.11.3"
  },
  "orig_nbformat": 4
 },
 "nbformat": 4,
 "nbformat_minor": 2
}
