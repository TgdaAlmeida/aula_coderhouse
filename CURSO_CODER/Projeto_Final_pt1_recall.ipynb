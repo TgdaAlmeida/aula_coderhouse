{
 "cells": [
  {
   "cell_type": "code",
   "execution_count": 22,
   "metadata": {},
   "outputs": [],
   "source": [
    "import pandas as pd"
   ]
  },
  {
   "cell_type": "code",
   "execution_count": 23,
   "metadata": {},
   "outputs": [],
   "source": [
    "import schedule"
   ]
  },
  {
   "cell_type": "code",
   "execution_count": 24,
   "metadata": {},
   "outputs": [],
   "source": [
    "import requests"
   ]
  },
  {
   "cell_type": "code",
   "execution_count": 25,
   "metadata": {},
   "outputs": [],
   "source": [
    "import time"
   ]
  },
  {
   "cell_type": "code",
   "execution_count": 26,
   "metadata": {},
   "outputs": [],
   "source": [
    "from plyer import notification"
   ]
  },
  {
   "cell_type": "code",
   "execution_count": 27,
   "metadata": {},
   "outputs": [],
   "source": [
    "from datetime import datetime"
   ]
  },
  {
   "cell_type": "code",
   "execution_count": 21,
   "metadata": {},
   "outputs": [],
   "source": [
    "#url = 'https://brasilapi.com.br/api/banks/v1' #bancos ok\n",
    "#url = 'https://brasilapi.com.br/api#tag/TAXAS/ibge/uf/v1' #capitais erro 404\n",
    "url = 'https://brasilapi.com.br/api/cvm/corretoras/v1' #corretoras ok"
   ]
  },
  {
   "cell_type": "code",
   "execution_count": 20,
   "metadata": {},
   "outputs": [],
   "source": [
    "def alerta():\n",
    "    response = requests.get(url)\n",
    "    response_code = response.status_code\n",
    "    data_atual = datetime.now()\n",
    "    data_formatada = data_atual.strftime('%d/%m/%Y')\n",
    "    desconhecido = 'Erro Desconhecido'\n",
    "    base = 'Data_Bank'\n",
    "    etapa = 'Extração'\n",
    "    mensagem = (f' Falha no carregamento da base {base} na etapa {etapa} em {data_formatada}')\n",
    "    \n",
    "    if response_code == 200:\n",
    "        data_json = response.json()\n",
    "        df = pd.DataFrame(data_json)\n",
    "        print('Requisição Completa')\n",
    "    elif response_code >= 400 and response_code < 500:\n",
    "        title = 'ATENÇÃO: Erro Grave'\n",
    "        notification.notify(title=title,message=mensagem,timeout=10)\n",
    "    elif response_code >=500 and response_code < 600:\n",
    "        title = 'ATENÇÃO: Erro Médio'\n",
    "        notification.notify(title=title,message=mensagem,timeout=10)\n",
    "    else:\n",
    "        title = 'Atenção'\n",
    "        notification.notify(title=title,message=desconhecido,timeout=10)"
   ]
  },
  {
   "cell_type": "code",
   "execution_count": null,
   "metadata": {},
   "outputs": [],
   "source": []
  },
  {
   "cell_type": "code",
   "execution_count": 19,
   "metadata": {},
   "outputs": [
    {
     "name": "stdout",
     "output_type": "stream",
     "text": [
      "Requisição Completa\n"
     ]
    }
   ],
   "source": [
    "alerta()"
   ]
  }
 ],
 "metadata": {
  "kernelspec": {
   "display_name": "Python 3",
   "language": "python",
   "name": "python3"
  },
  "language_info": {
   "codemirror_mode": {
    "name": "ipython",
    "version": 3
   },
   "file_extension": ".py",
   "mimetype": "text/x-python",
   "name": "python",
   "nbconvert_exporter": "python",
   "pygments_lexer": "ipython3",
   "version": "3.11.3"
  },
  "orig_nbformat": 4
 },
 "nbformat": 4,
 "nbformat_minor": 2
}
