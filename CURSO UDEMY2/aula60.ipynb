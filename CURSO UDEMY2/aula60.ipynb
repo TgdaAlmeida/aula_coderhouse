{
 "cells": [
  {
   "cell_type": "markdown",
   "metadata": {},
   "source": [
    "                                             Operacao ternaria (condicional de uma linha)\n",
    "                                               <valor> if <condicao> else <outro valor>"
   ]
  },
  {
   "cell_type": "code",
   "execution_count": 1,
   "metadata": {},
   "outputs": [
    {
     "name": "stdout",
     "output_type": "stream",
     "text": [
      "Valor\n"
     ]
    }
   ],
   "source": [
    "print('Valor' if True else 'Outro Valor')"
   ]
  },
  {
   "cell_type": "code",
   "execution_count": 2,
   "metadata": {},
   "outputs": [
    {
     "name": "stdout",
     "output_type": "stream",
     "text": [
      "Valor\n"
     ]
    }
   ],
   "source": [
    "condicao = 10 == 10\n",
    "variavel = 'Valor' if condicao else 'Outro valor'\n",
    "print(variavel)"
   ]
  },
  {
   "cell_type": "code",
   "execution_count": 3,
   "metadata": {},
   "outputs": [
    {
     "name": "stdout",
     "output_type": "stream",
     "text": [
      "Outro valor\n"
     ]
    }
   ],
   "source": [
    "condicao = 10 == 11\n",
    "variavel = 'Valor' if condicao else 'Outro valor'\n",
    "print(variavel)"
   ]
  },
  {
   "cell_type": "code",
   "execution_count": 8,
   "metadata": {},
   "outputs": [
    {
     "name": "stdout",
     "output_type": "stream",
     "text": [
      "9\n"
     ]
    }
   ],
   "source": [
    "digito = 9\n",
    "novo_digito = digito if digito <= 9 else 0 #as duas fazem a mesma regra so que invertido\n",
    "novo_digito = 0 if digito > 9 else digito\n",
    "print(novo_digito)"
   ]
  },
  {
   "cell_type": "code",
   "execution_count": null,
   "metadata": {},
   "outputs": [],
   "source": [
    "novo_digito"
   ]
  }
 ],
 "metadata": {
  "kernelspec": {
   "display_name": "Python 3",
   "language": "python",
   "name": "python3"
  },
  "language_info": {
   "codemirror_mode": {
    "name": "ipython",
    "version": 3
   },
   "file_extension": ".py",
   "mimetype": "text/x-python",
   "name": "python",
   "nbconvert_exporter": "python",
   "pygments_lexer": "ipython3",
   "version": "3.11.3"
  },
  "orig_nbformat": 4
 },
 "nbformat": 4,
 "nbformat_minor": 2
}
