{
 "cells": [
  {
   "cell_type": "markdown",
   "metadata": {},
   "source": [
    "                                                                            PROJETO FINAL CODERHOUSE"
   ]
  },
  {
   "cell_type": "markdown",
   "metadata": {},
   "source": [
    "1º ETAPA \n",
    "- ESCOLHER UMA API DA LISTA DISPONÍVEL;\n",
    "- FAZER A EXTRAÇÃO DE PELO MENOS 3 TABELAS;\n",
    "- CRIAR UM ALERTA DE ERRO USANDO A FUNÇÃO ALERTA() DO DESAFIO DA AULA DE FUNDAMENTOS DE  PROGRAMA III\n",
    "- SUBIR ARQUIVO NO GITHUB E FORNECER LINK NO ICONE DE ENTRADA CODERHOUSE."
   ]
  },
  {
   "cell_type": "code",
   "execution_count": 1,
   "metadata": {},
   "outputs": [
    {
     "data": {
      "text/plain": [
       "'\\n- Restcountries\\n\\n- https://restcountries.com/v3.1/all\\n- https://restcountries.com/v3.1/capital/Pretoria'"
      ]
     },
     "execution_count": 1,
     "metadata": {},
     "output_type": "execute_result"
    }
   ],
   "source": [
    "'''\n",
    "- Wheter\n",
    "\n",
    "- https://openweathermap.org/price\n",
    "- Tem q se cadastrar e verificar o email\n",
    "\n",
    "- https://api.openweathermap.org/energy/1.0/solar/data?lat={0}&lon={0}&date={2023-07-01}&appid={Chave_de_acesso}\n",
    "- https://openweathermap.org/api/solar-energy-prediction\n",
    "- https://openweathermap.org/api/air-pollution'''\n",
    "\n",
    "'''\n",
    "- Pokemon\n",
    "\n",
    "- https://pokeapi.co/api/v2/\n",
    "- https://pokeapi.co/api/v2/pokemon/\n",
    "- https://pokeapi.co/api/v2/pokemon/1/\n",
    "- https://pokeapi.co/api/v2/ability/'''\n",
    "\n",
    "'''\n",
    "- Bancos e IBGE\n",
    "- https://brasilapi.com.br/api/banks/v1/1\n",
    "- https://brasilapi.com.br/api/ibge/municipios/v1/SP?providers=dados-abertos-br,gov,wikipedia'''\n",
    "\n",
    "'''\n",
    "- Restcountries\n",
    "\n",
    "- https://restcountries.com/v3.1/all\n",
    "- https://restcountries.com/v3.1/capital/Pretoria'''\n",
    "\n"
   ]
  },
  {
   "cell_type": "code",
   "execution_count": 1,
   "metadata": {},
   "outputs": [],
   "source": [
    "#importação de pacotes a serem utilizados\n",
    "import pandas as pd\n",
    "import requests\n",
    "from plyer import notification\n",
    "from datetime import datetime"
   ]
  },
  {
   "cell_type": "markdown",
   "metadata": {},
   "source": [
    "PRIMEIRA TABELA"
   ]
  },
  {
   "cell_type": "code",
   "execution_count": 17,
   "metadata": {},
   "outputs": [],
   "source": [
    "url = \"https://brasilapi.com.br/api/banks/v1\"\n",
    "response = requests.get(url)\n"
   ]
  },
  {
   "cell_type": "code",
   "execution_count": 30,
   "metadata": {},
   "outputs": [],
   "source": [
    "status_code = response.status_code"
   ]
  },
  {
   "cell_type": "code",
   "execution_count": null,
   "metadata": {},
   "outputs": [],
   "source": [
    "if status_code >= 400 and status_code < 500:\n",
    "    nivel = 1\n",
    "elif status_code >=500 and status_code < 600:\n",
    "    nivel = 2\n",
    "else:\n",
    "    nivel = 3"
   ]
  },
  {
   "cell_type": "code",
   "execution_count": 33,
   "metadata": {},
   "outputs": [],
   "source": [
    "if status_code == 200:\n",
    "    data_json = response.json()\n",
    "else:\n",
    "    alerta(nivel = nivel,\n",
    "        base = \"Data_Banks\", \n",
    "        etapa = \"EXTRACAO\")"
   ]
  },
  {
   "cell_type": "code",
   "execution_count": 21,
   "metadata": {},
   "outputs": [],
   "source": [
    "def alerta(nivel, base, etapa):\n",
    "    '''\n",
    "        Alerta de falha de carregamento de base de dados\n",
    "    '''\n",
    "    now = str(datetime.now())\n",
    "\n",
    "    msg = f\"Falha no carregamento da base {base} na etapa {etapa}.\\n{now}\"\n",
    "\n",
    "    if nivel == 1:\n",
    "        title = 'ATENÇÃO: Erro Grave'\n",
    "    elif nivel == 2:\n",
    "        title = 'ATENÇÃO: Erro Médio'\n",
    "    else:\n",
    "        title = 'ATENÇÃO: Erro Baixo'\n",
    "    \n",
    "    notification.notify(title=title,message=msg,app_name='alerta',timeout=10)"
   ]
  },
  {
   "cell_type": "code",
   "execution_count": 8,
   "metadata": {},
   "outputs": [],
   "source": [
    "data_banks = response.json()\n",
    "df_banco = pd.DataFrame(data_banks)\n"
   ]
  },
  {
   "cell_type": "code",
   "execution_count": 9,
   "metadata": {},
   "outputs": [
    {
     "data": {
      "text/html": [
       "<div>\n",
       "<style scoped>\n",
       "    .dataframe tbody tr th:only-of-type {\n",
       "        vertical-align: middle;\n",
       "    }\n",
       "\n",
       "    .dataframe tbody tr th {\n",
       "        vertical-align: top;\n",
       "    }\n",
       "\n",
       "    .dataframe thead th {\n",
       "        text-align: right;\n",
       "    }\n",
       "</style>\n",
       "<table border=\"1\" class=\"dataframe\">\n",
       "  <thead>\n",
       "    <tr style=\"text-align: right;\">\n",
       "      <th></th>\n",
       "      <th>ispb</th>\n",
       "      <th>name</th>\n",
       "      <th>code</th>\n",
       "      <th>fullName</th>\n",
       "    </tr>\n",
       "  </thead>\n",
       "  <tbody>\n",
       "    <tr>\n",
       "      <th>0</th>\n",
       "      <td>00000000</td>\n",
       "      <td>BCO DO BRASIL S.A.</td>\n",
       "      <td>1.0</td>\n",
       "      <td>Banco do Brasil S.A.</td>\n",
       "    </tr>\n",
       "    <tr>\n",
       "      <th>1</th>\n",
       "      <td>00000208</td>\n",
       "      <td>BRB - BCO DE BRASILIA S.A.</td>\n",
       "      <td>70.0</td>\n",
       "      <td>BRB - BANCO DE BRASILIA S.A.</td>\n",
       "    </tr>\n",
       "    <tr>\n",
       "      <th>2</th>\n",
       "      <td>00038121</td>\n",
       "      <td>Selic</td>\n",
       "      <td>NaN</td>\n",
       "      <td>Banco Central do Brasil - Selic</td>\n",
       "    </tr>\n",
       "    <tr>\n",
       "      <th>3</th>\n",
       "      <td>00038166</td>\n",
       "      <td>Bacen</td>\n",
       "      <td>NaN</td>\n",
       "      <td>Banco Central do Brasil</td>\n",
       "    </tr>\n",
       "    <tr>\n",
       "      <th>4</th>\n",
       "      <td>00122327</td>\n",
       "      <td>SANTINVEST S.A. - CFI</td>\n",
       "      <td>539.0</td>\n",
       "      <td>SANTINVEST S.A. - CREDITO, FINANCIAMENTO E INV...</td>\n",
       "    </tr>\n",
       "    <tr>\n",
       "      <th>...</th>\n",
       "      <td>...</td>\n",
       "      <td>...</td>\n",
       "      <td>...</td>\n",
       "      <td>...</td>\n",
       "    </tr>\n",
       "    <tr>\n",
       "      <th>354</th>\n",
       "      <td>92875780</td>\n",
       "      <td>WARREN CVMC LTDA</td>\n",
       "      <td>371.0</td>\n",
       "      <td>WARREN CORRETORA DE VALORES MOBILIÁRIOS E CÂMB...</td>\n",
       "    </tr>\n",
       "    <tr>\n",
       "      <th>355</th>\n",
       "      <td>92894922</td>\n",
       "      <td>BANCO ORIGINAL</td>\n",
       "      <td>212.0</td>\n",
       "      <td>Banco Original S.A.</td>\n",
       "    </tr>\n",
       "    <tr>\n",
       "      <th>356</th>\n",
       "      <td>94968518</td>\n",
       "      <td>EFX CC LTDA.</td>\n",
       "      <td>289.0</td>\n",
       "      <td>EFX CORRETORA DE CÂMBIO LTDA.</td>\n",
       "    </tr>\n",
       "    <tr>\n",
       "      <th>357</th>\n",
       "      <td></td>\n",
       "      <td>NaN</td>\n",
       "      <td>NaN</td>\n",
       "      <td>NaN</td>\n",
       "    </tr>\n",
       "    <tr>\n",
       "      <th>358</th>\n",
       "      <td></td>\n",
       "      <td>NaN</td>\n",
       "      <td>NaN</td>\n",
       "      <td>NaN</td>\n",
       "    </tr>\n",
       "  </tbody>\n",
       "</table>\n",
       "<p>359 rows × 4 columns</p>\n",
       "</div>"
      ],
      "text/plain": [
       "         ispb                        name   code  \\\n",
       "0    00000000          BCO DO BRASIL S.A.    1.0   \n",
       "1    00000208  BRB - BCO DE BRASILIA S.A.   70.0   \n",
       "2    00038121                       Selic    NaN   \n",
       "3    00038166                       Bacen    NaN   \n",
       "4    00122327       SANTINVEST S.A. - CFI  539.0   \n",
       "..        ...                         ...    ...   \n",
       "354  92875780            WARREN CVMC LTDA  371.0   \n",
       "355  92894922              BANCO ORIGINAL  212.0   \n",
       "356  94968518                EFX CC LTDA.  289.0   \n",
       "357                                   NaN    NaN   \n",
       "358                                   NaN    NaN   \n",
       "\n",
       "                                              fullName  \n",
       "0                                 Banco do Brasil S.A.  \n",
       "1                         BRB - BANCO DE BRASILIA S.A.  \n",
       "2                      Banco Central do Brasil - Selic  \n",
       "3                              Banco Central do Brasil  \n",
       "4    SANTINVEST S.A. - CREDITO, FINANCIAMENTO E INV...  \n",
       "..                                                 ...  \n",
       "354  WARREN CORRETORA DE VALORES MOBILIÁRIOS E CÂMB...  \n",
       "355                                Banco Original S.A.  \n",
       "356                      EFX CORRETORA DE CÂMBIO LTDA.  \n",
       "357                                                NaN  \n",
       "358                                                NaN  \n",
       "\n",
       "[359 rows x 4 columns]"
      ]
     },
     "execution_count": 9,
     "metadata": {},
     "output_type": "execute_result"
    }
   ],
   "source": [
    "df_banco"
   ]
  },
  {
   "cell_type": "markdown",
   "metadata": {},
   "source": [
    "SEGUNDA TABELA"
   ]
  },
  {
   "cell_type": "code",
   "execution_count": 172,
   "metadata": {},
   "outputs": [],
   "source": [
    "def alerta(nivel, base, etapa):\n",
    "    '''\n",
    "        Alerta de falha de carregamento de base de dados\n",
    "    '''\n",
    "    now = str(datetime.now())\n",
    "\n",
    "    msg = f\"Falha no carregamento da base {base} na etapa {etapa}.\\n{now}\"\n",
    "\n",
    "    if nivel == 1:\n",
    "        title = 'ATENÇÃO: Erro Grave'\n",
    "    elif nivel == 2:\n",
    "        title = 'ATENÇÃO: erro Médio'\n",
    "    else:\n",
    "        title = 'ATENÇÃO: erro Baixo'\n",
    "    \n",
    "    notification.notify(\n",
    "            title=title,\n",
    "            message=msg,\n",
    "            app_name='alerta',\n",
    "            timeout=10\n",
    "    )"
   ]
  },
  {
   "cell_type": "code",
   "execution_count": 223,
   "metadata": {},
   "outputs": [],
   "source": [
    "url = \"https://brasilapi.com.br/api#tag/TAXAS/ibge/uf/v1\"\n",
    "response_1 = requests.get(url)"
   ]
  },
  {
   "cell_type": "code",
   "execution_count": 228,
   "metadata": {},
   "outputs": [],
   "source": [
    "status_code_2 = response_1.status_code"
   ]
  },
  {
   "cell_type": "code",
   "execution_count": 229,
   "metadata": {},
   "outputs": [],
   "source": [
    "if status_code_2 >= 400 and status_code < 500:\n",
    "    nivel = 1\n",
    "elif status_code_2 >= 500 and status_code < 600:\n",
    "    nivel = 2\n",
    "else:\n",
    "    nivel = 3"
   ]
  },
  {
   "cell_type": "code",
   "execution_count": 231,
   "metadata": {},
   "outputs": [],
   "source": [
    "if response_1.status_code == 200:\n",
    "    data_json = response_1.json()\n",
    "else:\n",
    "    alerta(\n",
    "        nivel = nivel,\n",
    "        base = \"Data_Banks\", \n",
    "        etapa = \"EXTRACAO\")"
   ]
  }
 ],
 "metadata": {
  "kernelspec": {
   "display_name": "Python 3",
   "language": "python",
   "name": "python3"
  },
  "language_info": {
   "codemirror_mode": {
    "name": "ipython",
    "version": 3
   },
   "file_extension": ".py",
   "mimetype": "text/x-python",
   "name": "python",
   "nbconvert_exporter": "python",
   "pygments_lexer": "ipython3",
   "version": "3.11.3"
  },
  "orig_nbformat": 4
 },
 "nbformat": 4,
 "nbformat_minor": 2
}
