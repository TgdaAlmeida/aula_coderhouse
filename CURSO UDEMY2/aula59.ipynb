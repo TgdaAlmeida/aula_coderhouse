{
 "cells": [
  {
   "cell_type": "markdown",
   "metadata": {},
   "source": [
    "                                       Desempacotamento em chamadas de métodos e funcoes"
   ]
  },
  {
   "cell_type": "code",
   "execution_count": 4,
   "metadata": {},
   "outputs": [],
   "source": [
    "string = 'ABCD'\n",
    "lista = ['Maria','Helena',1,2,3,'Eduarda']\n",
    "tupla = ('Python', 'e','legal')"
   ]
  },
  {
   "cell_type": "code",
   "execution_count": 2,
   "metadata": {},
   "outputs": [
    {
     "name": "stdout",
     "output_type": "stream",
     "text": [
      "Maria Helena\n"
     ]
    }
   ],
   "source": [
    "a, b, c = lista\n",
    "print(a, b)"
   ]
  },
  {
   "cell_type": "code",
   "execution_count": 6,
   "metadata": {},
   "outputs": [
    {
     "name": "stdout",
     "output_type": "stream",
     "text": [
      "['Maria', 'Helena', 1, 2, 3, 'Eduarda']\n",
      "Maria Helena 1 2 3 Eduarda\n",
      "Maria Helena 1 2 3 Eduarda\n"
     ]
    }
   ],
   "source": [
    "print(lista)\n",
    "print(*lista) #passa cada item separadamente pra funcao print\n",
    "print('Maria','Helena',1,2,3,'Eduarda')"
   ]
  },
  {
   "cell_type": "code",
   "execution_count": 9,
   "metadata": {},
   "outputs": [
    {
     "name": "stdout",
     "output_type": "stream",
     "text": [
      "A B C D\n",
      "Python e legal\n"
     ]
    }
   ],
   "source": [
    "print(*string)\n",
    "print(*tupla)"
   ]
  }
 ],
 "metadata": {
  "kernelspec": {
   "display_name": "Python 3",
   "language": "python",
   "name": "python3"
  },
  "language_info": {
   "codemirror_mode": {
    "name": "ipython",
    "version": 3
   },
   "file_extension": ".py",
   "mimetype": "text/x-python",
   "name": "python",
   "nbconvert_exporter": "python",
   "pygments_lexer": "ipython3",
   "version": "3.11.3"
  },
  "orig_nbformat": 4
 },
 "nbformat": 4,
 "nbformat_minor": 2
}
