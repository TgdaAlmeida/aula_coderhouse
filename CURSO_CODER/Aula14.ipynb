{
 "cells": [
  {
   "cell_type": "markdown",
   "metadata": {},
   "source": [
    "                                                 DATA WRANGLING II"
   ]
  },
  {
   "cell_type": "code",
   "execution_count": 1,
   "metadata": {},
   "outputs": [],
   "source": [
    "import numpy as np\n",
    "import pandas as pd"
   ]
  },
  {
   "cell_type": "markdown",
   "metadata": {},
   "source": [
    "                                                    STACK UNSTACK"
   ]
  },
  {
   "cell_type": "code",
   "execution_count": 2,
   "metadata": {},
   "outputs": [],
   "source": [
    "df = pd.read_csv('realtor-data.csv')"
   ]
  },
  {
   "cell_type": "code",
   "execution_count": 3,
   "metadata": {},
   "outputs": [
    {
     "name": "stdout",
     "output_type": "stream",
     "text": [
      "<class 'pandas.core.frame.DataFrame'>\n",
      "RangeIndex: 100000 entries, 0 to 99999\n",
      "Data columns (total 10 columns):\n",
      " #   Column          Non-Null Count   Dtype  \n",
      "---  ------          --------------   -----  \n",
      " 0   status          100000 non-null  object \n",
      " 1   bed             75050 non-null   float64\n",
      " 2   bath            75112 non-null   float64\n",
      " 3   acre_lot        85987 non-null   float64\n",
      " 4   city            99948 non-null   object \n",
      " 5   state           100000 non-null  object \n",
      " 6   zip_code        99805 non-null   float64\n",
      " 7   house_size      75082 non-null   float64\n",
      " 8   prev_sold_date  28745 non-null   object \n",
      " 9   price           100000 non-null  float64\n",
      "dtypes: float64(6), object(4)\n",
      "memory usage: 7.6+ MB\n"
     ]
    }
   ],
   "source": [
    "df.info()"
   ]
  },
  {
   "cell_type": "code",
   "execution_count": 4,
   "metadata": {},
   "outputs": [],
   "source": [
    "df_sum = pd.DataFrame(df.groupby(['state', 'city'])['price'].mean())"
   ]
  },
  {
   "cell_type": "code",
   "execution_count": 5,
   "metadata": {},
   "outputs": [
    {
     "data": {
      "text/plain": [
       "MultiIndex([(   'Connecticut',       'Andover'),\n",
       "            (   'Connecticut',       'Ashford'),\n",
       "            (   'Connecticut',          'Avon'),\n",
       "            (   'Connecticut',   'Barkhamsted'),\n",
       "            (   'Connecticut',        'Berlin'),\n",
       "            (   'Connecticut',     'Bethlehem'),\n",
       "            (   'Connecticut',    'Bloomfield'),\n",
       "            (   'Connecticut',        'Bolton'),\n",
       "            (   'Connecticut',        'Bozrah'),\n",
       "            (   'Connecticut',       'Bristol'),\n",
       "            ...\n",
       "            (       'Vermont',    'Whitingham'),\n",
       "            (       'Vermont',    'Wilmington'),\n",
       "            (       'Vermont',       'Winhall'),\n",
       "            (       'Vermont',      'Woodford'),\n",
       "            ('Virgin Islands', 'Christiansted'),\n",
       "            ('Virgin Islands',  'Frederiksted'),\n",
       "            ('Virgin Islands',     'Kingshill'),\n",
       "            ('Virgin Islands',    'Saint John'),\n",
       "            ('Virgin Islands',  'Saint Thomas'),\n",
       "            (      'Virginia',  'Chincoteague')],\n",
       "           names=['state', 'city'], length=582)"
      ]
     },
     "execution_count": 5,
     "metadata": {},
     "output_type": "execute_result"
    }
   ],
   "source": [
    "df_sum.index"
   ]
  },
  {
   "cell_type": "code",
   "execution_count": 7,
   "metadata": {},
   "outputs": [
    {
     "data": {
      "text/html": [
       "<div>\n",
       "<style scoped>\n",
       "    .dataframe tbody tr th:only-of-type {\n",
       "        vertical-align: middle;\n",
       "    }\n",
       "\n",
       "    .dataframe tbody tr th {\n",
       "        vertical-align: top;\n",
       "    }\n",
       "\n",
       "    .dataframe thead th {\n",
       "        text-align: right;\n",
       "    }\n",
       "</style>\n",
       "<table border=\"1\" class=\"dataframe\">\n",
       "  <thead>\n",
       "    <tr style=\"text-align: right;\">\n",
       "      <th></th>\n",
       "      <th></th>\n",
       "      <th>price</th>\n",
       "    </tr>\n",
       "    <tr>\n",
       "      <th>state</th>\n",
       "      <th>city</th>\n",
       "      <th></th>\n",
       "    </tr>\n",
       "  </thead>\n",
       "  <tbody>\n",
       "    <tr>\n",
       "      <th rowspan=\"5\" valign=\"top\">Connecticut</th>\n",
       "      <th>Andover</th>\n",
       "      <td>2.492542e+05</td>\n",
       "    </tr>\n",
       "    <tr>\n",
       "      <th>Ashford</th>\n",
       "      <td>2.849269e+05</td>\n",
       "    </tr>\n",
       "    <tr>\n",
       "      <th>Avon</th>\n",
       "      <td>6.070604e+05</td>\n",
       "    </tr>\n",
       "    <tr>\n",
       "      <th>Barkhamsted</th>\n",
       "      <td>3.752788e+05</td>\n",
       "    </tr>\n",
       "    <tr>\n",
       "      <th>Berlin</th>\n",
       "      <td>3.484531e+05</td>\n",
       "    </tr>\n",
       "    <tr>\n",
       "      <th>...</th>\n",
       "      <th>...</th>\n",
       "      <td>...</td>\n",
       "    </tr>\n",
       "    <tr>\n",
       "      <th rowspan=\"4\" valign=\"top\">Virgin Islands</th>\n",
       "      <th>Frederiksted</th>\n",
       "      <td>7.014767e+05</td>\n",
       "    </tr>\n",
       "    <tr>\n",
       "      <th>Kingshill</th>\n",
       "      <td>4.578320e+05</td>\n",
       "    </tr>\n",
       "    <tr>\n",
       "      <th>Saint John</th>\n",
       "      <td>1.003303e+06</td>\n",
       "    </tr>\n",
       "    <tr>\n",
       "      <th>Saint Thomas</th>\n",
       "      <td>1.169000e+06</td>\n",
       "    </tr>\n",
       "    <tr>\n",
       "      <th>Virginia</th>\n",
       "      <th>Chincoteague</th>\n",
       "      <td>7.500000e+04</td>\n",
       "    </tr>\n",
       "  </tbody>\n",
       "</table>\n",
       "<p>582 rows × 1 columns</p>\n",
       "</div>"
      ],
      "text/plain": [
       "                                    price\n",
       "state          city                      \n",
       "Connecticut    Andover       2.492542e+05\n",
       "               Ashford       2.849269e+05\n",
       "               Avon          6.070604e+05\n",
       "               Barkhamsted   3.752788e+05\n",
       "               Berlin        3.484531e+05\n",
       "...                                   ...\n",
       "Virgin Islands Frederiksted  7.014767e+05\n",
       "               Kingshill     4.578320e+05\n",
       "               Saint John    1.003303e+06\n",
       "               Saint Thomas  1.169000e+06\n",
       "Virginia       Chincoteague  7.500000e+04\n",
       "\n",
       "[582 rows x 1 columns]"
      ]
     },
     "execution_count": 7,
     "metadata": {},
     "output_type": "execute_result"
    }
   ],
   "source": [
    "df_sum"
   ]
  },
  {
   "cell_type": "code",
   "execution_count": 6,
   "metadata": {},
   "outputs": [
    {
     "data": {
      "text/plain": [
       "state           city               \n",
       "Connecticut     Andover       price    2.492542e+05\n",
       "                Ashford       price    2.849269e+05\n",
       "                Avon          price    6.070604e+05\n",
       "                Barkhamsted   price    3.752788e+05\n",
       "                Berlin        price    3.484531e+05\n",
       "                                           ...     \n",
       "Virgin Islands  Frederiksted  price    7.014767e+05\n",
       "                Kingshill     price    4.578320e+05\n",
       "                Saint John    price    1.003303e+06\n",
       "                Saint Thomas  price    1.169000e+06\n",
       "Virginia        Chincoteague  price    7.500000e+04\n",
       "Length: 582, dtype: float64"
      ]
     },
     "execution_count": 6,
     "metadata": {},
     "output_type": "execute_result"
    }
   ],
   "source": [
    "df_sum.stack()"
   ]
  },
  {
   "cell_type": "code",
   "execution_count": 8,
   "metadata": {},
   "outputs": [],
   "source": [
    "df_stack = pd.DataFrame(df_sum.stack())"
   ]
  },
  {
   "cell_type": "code",
   "execution_count": 9,
   "metadata": {},
   "outputs": [
    {
     "data": {
      "text/html": [
       "<div>\n",
       "<style scoped>\n",
       "    .dataframe tbody tr th:only-of-type {\n",
       "        vertical-align: middle;\n",
       "    }\n",
       "\n",
       "    .dataframe tbody tr th {\n",
       "        vertical-align: top;\n",
       "    }\n",
       "\n",
       "    .dataframe thead th {\n",
       "        text-align: right;\n",
       "    }\n",
       "</style>\n",
       "<table border=\"1\" class=\"dataframe\">\n",
       "  <thead>\n",
       "    <tr style=\"text-align: right;\">\n",
       "      <th></th>\n",
       "      <th></th>\n",
       "      <th></th>\n",
       "      <th>0</th>\n",
       "    </tr>\n",
       "    <tr>\n",
       "      <th>state</th>\n",
       "      <th>city</th>\n",
       "      <th></th>\n",
       "      <th></th>\n",
       "    </tr>\n",
       "  </thead>\n",
       "  <tbody>\n",
       "    <tr>\n",
       "      <th rowspan=\"5\" valign=\"top\">Connecticut</th>\n",
       "      <th>Andover</th>\n",
       "      <th>price</th>\n",
       "      <td>2.492542e+05</td>\n",
       "    </tr>\n",
       "    <tr>\n",
       "      <th>Ashford</th>\n",
       "      <th>price</th>\n",
       "      <td>2.849269e+05</td>\n",
       "    </tr>\n",
       "    <tr>\n",
       "      <th>Avon</th>\n",
       "      <th>price</th>\n",
       "      <td>6.070604e+05</td>\n",
       "    </tr>\n",
       "    <tr>\n",
       "      <th>Barkhamsted</th>\n",
       "      <th>price</th>\n",
       "      <td>3.752788e+05</td>\n",
       "    </tr>\n",
       "    <tr>\n",
       "      <th>Berlin</th>\n",
       "      <th>price</th>\n",
       "      <td>3.484531e+05</td>\n",
       "    </tr>\n",
       "    <tr>\n",
       "      <th>...</th>\n",
       "      <th>...</th>\n",
       "      <th>...</th>\n",
       "      <td>...</td>\n",
       "    </tr>\n",
       "    <tr>\n",
       "      <th rowspan=\"4\" valign=\"top\">Virgin Islands</th>\n",
       "      <th>Frederiksted</th>\n",
       "      <th>price</th>\n",
       "      <td>7.014767e+05</td>\n",
       "    </tr>\n",
       "    <tr>\n",
       "      <th>Kingshill</th>\n",
       "      <th>price</th>\n",
       "      <td>4.578320e+05</td>\n",
       "    </tr>\n",
       "    <tr>\n",
       "      <th>Saint John</th>\n",
       "      <th>price</th>\n",
       "      <td>1.003303e+06</td>\n",
       "    </tr>\n",
       "    <tr>\n",
       "      <th>Saint Thomas</th>\n",
       "      <th>price</th>\n",
       "      <td>1.169000e+06</td>\n",
       "    </tr>\n",
       "    <tr>\n",
       "      <th>Virginia</th>\n",
       "      <th>Chincoteague</th>\n",
       "      <th>price</th>\n",
       "      <td>7.500000e+04</td>\n",
       "    </tr>\n",
       "  </tbody>\n",
       "</table>\n",
       "<p>582 rows × 1 columns</p>\n",
       "</div>"
      ],
      "text/plain": [
       "                                              0\n",
       "state          city                            \n",
       "Connecticut    Andover      price  2.492542e+05\n",
       "               Ashford      price  2.849269e+05\n",
       "               Avon         price  6.070604e+05\n",
       "               Barkhamsted  price  3.752788e+05\n",
       "               Berlin       price  3.484531e+05\n",
       "...                                         ...\n",
       "Virgin Islands Frederiksted price  7.014767e+05\n",
       "               Kingshill    price  4.578320e+05\n",
       "               Saint John   price  1.003303e+06\n",
       "               Saint Thomas price  1.169000e+06\n",
       "Virginia       Chincoteague price  7.500000e+04\n",
       "\n",
       "[582 rows x 1 columns]"
      ]
     },
     "execution_count": 9,
     "metadata": {},
     "output_type": "execute_result"
    }
   ],
   "source": [
    "df_stack"
   ]
  },
  {
   "cell_type": "code",
   "execution_count": 10,
   "metadata": {},
   "outputs": [
    {
     "data": {
      "text/plain": [
       "MultiIndex([(   'Connecticut',       'Andover', 'price'),\n",
       "            (   'Connecticut',       'Ashford', 'price'),\n",
       "            (   'Connecticut',          'Avon', 'price'),\n",
       "            (   'Connecticut',   'Barkhamsted', 'price'),\n",
       "            (   'Connecticut',        'Berlin', 'price'),\n",
       "            (   'Connecticut',     'Bethlehem', 'price'),\n",
       "            (   'Connecticut',    'Bloomfield', 'price'),\n",
       "            (   'Connecticut',        'Bolton', 'price'),\n",
       "            (   'Connecticut',        'Bozrah', 'price'),\n",
       "            (   'Connecticut',       'Bristol', 'price'),\n",
       "            ...\n",
       "            (       'Vermont',    'Whitingham', 'price'),\n",
       "            (       'Vermont',    'Wilmington', 'price'),\n",
       "            (       'Vermont',       'Winhall', 'price'),\n",
       "            (       'Vermont',      'Woodford', 'price'),\n",
       "            ('Virgin Islands', 'Christiansted', 'price'),\n",
       "            ('Virgin Islands',  'Frederiksted', 'price'),\n",
       "            ('Virgin Islands',     'Kingshill', 'price'),\n",
       "            ('Virgin Islands',    'Saint John', 'price'),\n",
       "            ('Virgin Islands',  'Saint Thomas', 'price'),\n",
       "            (      'Virginia',  'Chincoteague', 'price')],\n",
       "           names=['state', 'city', None], length=582)"
      ]
     },
     "execution_count": 10,
     "metadata": {},
     "output_type": "execute_result"
    }
   ],
   "source": [
    "df_stack.index"
   ]
  },
  {
   "cell_type": "code",
   "execution_count": 11,
   "metadata": {},
   "outputs": [
    {
     "data": {
      "text/plain": [
       "RangeIndex(start=0, stop=100000, step=1)"
      ]
     },
     "execution_count": 11,
     "metadata": {},
     "output_type": "execute_result"
    }
   ],
   "source": [
    "df.index"
   ]
  },
  {
   "cell_type": "code",
   "execution_count": 12,
   "metadata": {},
   "outputs": [
    {
     "data": {
      "text/plain": [
       "MultiIndex([(   'Connecticut',       'Andover', 'price'),\n",
       "            (   'Connecticut',       'Ashford', 'price'),\n",
       "            (   'Connecticut',          'Avon', 'price'),\n",
       "            (   'Connecticut',   'Barkhamsted', 'price'),\n",
       "            (   'Connecticut',        'Berlin', 'price'),\n",
       "            (   'Connecticut',     'Bethlehem', 'price'),\n",
       "            (   'Connecticut',    'Bloomfield', 'price'),\n",
       "            (   'Connecticut',        'Bolton', 'price'),\n",
       "            (   'Connecticut',        'Bozrah', 'price'),\n",
       "            (   'Connecticut',       'Bristol', 'price'),\n",
       "            ...\n",
       "            (       'Vermont',    'Whitingham', 'price'),\n",
       "            (       'Vermont',    'Wilmington', 'price'),\n",
       "            (       'Vermont',       'Winhall', 'price'),\n",
       "            (       'Vermont',      'Woodford', 'price'),\n",
       "            ('Virgin Islands', 'Christiansted', 'price'),\n",
       "            ('Virgin Islands',  'Frederiksted', 'price'),\n",
       "            ('Virgin Islands',     'Kingshill', 'price'),\n",
       "            ('Virgin Islands',    'Saint John', 'price'),\n",
       "            ('Virgin Islands',  'Saint Thomas', 'price'),\n",
       "            (      'Virginia',  'Chincoteague', 'price')],\n",
       "           names=['state', 'city', None], length=582)"
      ]
     },
     "execution_count": 12,
     "metadata": {},
     "output_type": "execute_result"
    }
   ],
   "source": [
    "df_stack.index"
   ]
  },
  {
   "cell_type": "code",
   "execution_count": 13,
   "metadata": {},
   "outputs": [
    {
     "data": {
      "text/html": [
       "<div>\n",
       "<style scoped>\n",
       "    .dataframe tbody tr th:only-of-type {\n",
       "        vertical-align: middle;\n",
       "    }\n",
       "\n",
       "    .dataframe tbody tr th {\n",
       "        vertical-align: top;\n",
       "    }\n",
       "\n",
       "    .dataframe thead tr th {\n",
       "        text-align: left;\n",
       "    }\n",
       "\n",
       "    .dataframe thead tr:last-of-type th {\n",
       "        text-align: right;\n",
       "    }\n",
       "</style>\n",
       "<table border=\"1\" class=\"dataframe\">\n",
       "  <thead>\n",
       "    <tr>\n",
       "      <th></th>\n",
       "      <th></th>\n",
       "      <th>0</th>\n",
       "    </tr>\n",
       "    <tr>\n",
       "      <th></th>\n",
       "      <th></th>\n",
       "      <th>price</th>\n",
       "    </tr>\n",
       "    <tr>\n",
       "      <th>state</th>\n",
       "      <th>city</th>\n",
       "      <th></th>\n",
       "    </tr>\n",
       "  </thead>\n",
       "  <tbody>\n",
       "    <tr>\n",
       "      <th rowspan=\"5\" valign=\"top\">Connecticut</th>\n",
       "      <th>Andover</th>\n",
       "      <td>2.492542e+05</td>\n",
       "    </tr>\n",
       "    <tr>\n",
       "      <th>Ashford</th>\n",
       "      <td>2.849269e+05</td>\n",
       "    </tr>\n",
       "    <tr>\n",
       "      <th>Avon</th>\n",
       "      <td>6.070604e+05</td>\n",
       "    </tr>\n",
       "    <tr>\n",
       "      <th>Barkhamsted</th>\n",
       "      <td>3.752788e+05</td>\n",
       "    </tr>\n",
       "    <tr>\n",
       "      <th>Berlin</th>\n",
       "      <td>3.484531e+05</td>\n",
       "    </tr>\n",
       "    <tr>\n",
       "      <th>...</th>\n",
       "      <th>...</th>\n",
       "      <td>...</td>\n",
       "    </tr>\n",
       "    <tr>\n",
       "      <th rowspan=\"4\" valign=\"top\">Virgin Islands</th>\n",
       "      <th>Frederiksted</th>\n",
       "      <td>7.014767e+05</td>\n",
       "    </tr>\n",
       "    <tr>\n",
       "      <th>Kingshill</th>\n",
       "      <td>4.578320e+05</td>\n",
       "    </tr>\n",
       "    <tr>\n",
       "      <th>Saint John</th>\n",
       "      <td>1.003303e+06</td>\n",
       "    </tr>\n",
       "    <tr>\n",
       "      <th>Saint Thomas</th>\n",
       "      <td>1.169000e+06</td>\n",
       "    </tr>\n",
       "    <tr>\n",
       "      <th>Virginia</th>\n",
       "      <th>Chincoteague</th>\n",
       "      <td>7.500000e+04</td>\n",
       "    </tr>\n",
       "  </tbody>\n",
       "</table>\n",
       "<p>582 rows × 1 columns</p>\n",
       "</div>"
      ],
      "text/plain": [
       "                                        0\n",
       "                                    price\n",
       "state          city                      \n",
       "Connecticut    Andover       2.492542e+05\n",
       "               Ashford       2.849269e+05\n",
       "               Avon          6.070604e+05\n",
       "               Barkhamsted   3.752788e+05\n",
       "               Berlin        3.484531e+05\n",
       "...                                   ...\n",
       "Virgin Islands Frederiksted  7.014767e+05\n",
       "               Kingshill     4.578320e+05\n",
       "               Saint John    1.003303e+06\n",
       "               Saint Thomas  1.169000e+06\n",
       "Virginia       Chincoteague  7.500000e+04\n",
       "\n",
       "[582 rows x 1 columns]"
      ]
     },
     "execution_count": 13,
     "metadata": {},
     "output_type": "execute_result"
    }
   ],
   "source": [
    "df_stack.unstack()"
   ]
  },
  {
   "cell_type": "code",
   "execution_count": 14,
   "metadata": {},
   "outputs": [],
   "source": [
    "df_ex = pd.DataFrame({'Valor1':[1,2,3,4],'Valor2':[5,6,7,8]})"
   ]
  },
  {
   "cell_type": "code",
   "execution_count": 16,
   "metadata": {},
   "outputs": [
    {
     "data": {
      "text/html": [
       "<div>\n",
       "<style scoped>\n",
       "    .dataframe tbody tr th:only-of-type {\n",
       "        vertical-align: middle;\n",
       "    }\n",
       "\n",
       "    .dataframe tbody tr th {\n",
       "        vertical-align: top;\n",
       "    }\n",
       "\n",
       "    .dataframe thead th {\n",
       "        text-align: right;\n",
       "    }\n",
       "</style>\n",
       "<table border=\"1\" class=\"dataframe\">\n",
       "  <thead>\n",
       "    <tr style=\"text-align: right;\">\n",
       "      <th></th>\n",
       "      <th>Valor1</th>\n",
       "      <th>Valor2</th>\n",
       "    </tr>\n",
       "  </thead>\n",
       "  <tbody>\n",
       "    <tr>\n",
       "      <th>0</th>\n",
       "      <td>1</td>\n",
       "      <td>5</td>\n",
       "    </tr>\n",
       "    <tr>\n",
       "      <th>1</th>\n",
       "      <td>2</td>\n",
       "      <td>6</td>\n",
       "    </tr>\n",
       "    <tr>\n",
       "      <th>2</th>\n",
       "      <td>3</td>\n",
       "      <td>7</td>\n",
       "    </tr>\n",
       "    <tr>\n",
       "      <th>3</th>\n",
       "      <td>4</td>\n",
       "      <td>8</td>\n",
       "    </tr>\n",
       "  </tbody>\n",
       "</table>\n",
       "</div>"
      ],
      "text/plain": [
       "   Valor1  Valor2\n",
       "0       1       5\n",
       "1       2       6\n",
       "2       3       7\n",
       "3       4       8"
      ]
     },
     "execution_count": 16,
     "metadata": {},
     "output_type": "execute_result"
    }
   ],
   "source": [
    "df_ex"
   ]
  },
  {
   "cell_type": "code",
   "execution_count": 15,
   "metadata": {},
   "outputs": [
    {
     "data": {
      "text/plain": [
       "0  Valor1    1\n",
       "   Valor2    5\n",
       "1  Valor1    2\n",
       "   Valor2    6\n",
       "2  Valor1    3\n",
       "   Valor2    7\n",
       "3  Valor1    4\n",
       "   Valor2    8\n",
       "dtype: int64"
      ]
     },
     "execution_count": 15,
     "metadata": {},
     "output_type": "execute_result"
    }
   ],
   "source": [
    "df_ex.stack()"
   ]
  },
  {
   "cell_type": "markdown",
   "metadata": {},
   "source": [
    "                                                     FUNÇÃO EXPLODE"
   ]
  },
  {
   "cell_type": "code",
   "execution_count": 19,
   "metadata": {},
   "outputs": [],
   "source": [
    "teds = ['Ted Joao','Ted Maria','Ted Marcos']\n",
    "tags = [['saude','alientacao'],['esporte','corrida','competicao'],['cursos','tecnologia']]"
   ]
  },
  {
   "cell_type": "code",
   "execution_count": 20,
   "metadata": {},
   "outputs": [
    {
     "data": {
      "text/plain": [
       "[['saude', 'alientacao'],\n",
       " ['esporte', 'corrida', 'competicao'],\n",
       " ['cursos', 'tecnologia']]"
      ]
     },
     "execution_count": 20,
     "metadata": {},
     "output_type": "execute_result"
    }
   ],
   "source": [
    "tags"
   ]
  },
  {
   "cell_type": "code",
   "execution_count": 21,
   "metadata": {},
   "outputs": [],
   "source": [
    "df_ex2 = pd.DataFrame({'TED': teds, 'TAGS': tags})"
   ]
  },
  {
   "cell_type": "code",
   "execution_count": 22,
   "metadata": {},
   "outputs": [
    {
     "data": {
      "text/html": [
       "<div>\n",
       "<style scoped>\n",
       "    .dataframe tbody tr th:only-of-type {\n",
       "        vertical-align: middle;\n",
       "    }\n",
       "\n",
       "    .dataframe tbody tr th {\n",
       "        vertical-align: top;\n",
       "    }\n",
       "\n",
       "    .dataframe thead th {\n",
       "        text-align: right;\n",
       "    }\n",
       "</style>\n",
       "<table border=\"1\" class=\"dataframe\">\n",
       "  <thead>\n",
       "    <tr style=\"text-align: right;\">\n",
       "      <th></th>\n",
       "      <th>TED</th>\n",
       "      <th>TAGS</th>\n",
       "    </tr>\n",
       "  </thead>\n",
       "  <tbody>\n",
       "    <tr>\n",
       "      <th>0</th>\n",
       "      <td>Ted Joao</td>\n",
       "      <td>[saude, alientacao]</td>\n",
       "    </tr>\n",
       "    <tr>\n",
       "      <th>1</th>\n",
       "      <td>Ted Maria</td>\n",
       "      <td>[esporte, corrida, competicao]</td>\n",
       "    </tr>\n",
       "    <tr>\n",
       "      <th>2</th>\n",
       "      <td>Ted Marcos</td>\n",
       "      <td>[cursos, tecnologia]</td>\n",
       "    </tr>\n",
       "  </tbody>\n",
       "</table>\n",
       "</div>"
      ],
      "text/plain": [
       "          TED                            TAGS\n",
       "0    Ted Joao             [saude, alientacao]\n",
       "1   Ted Maria  [esporte, corrida, competicao]\n",
       "2  Ted Marcos            [cursos, tecnologia]"
      ]
     },
     "execution_count": 22,
     "metadata": {},
     "output_type": "execute_result"
    }
   ],
   "source": [
    "df_ex2"
   ]
  },
  {
   "cell_type": "code",
   "execution_count": 24,
   "metadata": {},
   "outputs": [
    {
     "data": {
      "text/html": [
       "<div>\n",
       "<style scoped>\n",
       "    .dataframe tbody tr th:only-of-type {\n",
       "        vertical-align: middle;\n",
       "    }\n",
       "\n",
       "    .dataframe tbody tr th {\n",
       "        vertical-align: top;\n",
       "    }\n",
       "\n",
       "    .dataframe thead th {\n",
       "        text-align: right;\n",
       "    }\n",
       "</style>\n",
       "<table border=\"1\" class=\"dataframe\">\n",
       "  <thead>\n",
       "    <tr style=\"text-align: right;\">\n",
       "      <th></th>\n",
       "      <th>TED</th>\n",
       "      <th>TAGS</th>\n",
       "    </tr>\n",
       "  </thead>\n",
       "  <tbody>\n",
       "    <tr>\n",
       "      <th>0</th>\n",
       "      <td>Ted Joao</td>\n",
       "      <td>saude</td>\n",
       "    </tr>\n",
       "    <tr>\n",
       "      <th>0</th>\n",
       "      <td>Ted Joao</td>\n",
       "      <td>alientacao</td>\n",
       "    </tr>\n",
       "    <tr>\n",
       "      <th>1</th>\n",
       "      <td>Ted Maria</td>\n",
       "      <td>esporte</td>\n",
       "    </tr>\n",
       "    <tr>\n",
       "      <th>1</th>\n",
       "      <td>Ted Maria</td>\n",
       "      <td>corrida</td>\n",
       "    </tr>\n",
       "    <tr>\n",
       "      <th>1</th>\n",
       "      <td>Ted Maria</td>\n",
       "      <td>competicao</td>\n",
       "    </tr>\n",
       "    <tr>\n",
       "      <th>2</th>\n",
       "      <td>Ted Marcos</td>\n",
       "      <td>cursos</td>\n",
       "    </tr>\n",
       "    <tr>\n",
       "      <th>2</th>\n",
       "      <td>Ted Marcos</td>\n",
       "      <td>tecnologia</td>\n",
       "    </tr>\n",
       "  </tbody>\n",
       "</table>\n",
       "</div>"
      ],
      "text/plain": [
       "          TED        TAGS\n",
       "0    Ted Joao       saude\n",
       "0    Ted Joao  alientacao\n",
       "1   Ted Maria     esporte\n",
       "1   Ted Maria     corrida\n",
       "1   Ted Maria  competicao\n",
       "2  Ted Marcos      cursos\n",
       "2  Ted Marcos  tecnologia"
      ]
     },
     "execution_count": 24,
     "metadata": {},
     "output_type": "execute_result"
    }
   ],
   "source": [
    "df_ex2.explode('TAGS')"
   ]
  },
  {
   "cell_type": "code",
   "execution_count": 25,
   "metadata": {},
   "outputs": [
    {
     "data": {
      "text/plain": [
       "TED         TAGS      \n",
       "Ted Joao    alientacao    1\n",
       "            saude         1\n",
       "Ted Marcos  cursos        1\n",
       "            tecnologia    1\n",
       "Ted Maria   competicao    1\n",
       "            corrida       1\n",
       "            esporte       1\n",
       "Name: count, dtype: int64"
      ]
     },
     "execution_count": 25,
     "metadata": {},
     "output_type": "execute_result"
    }
   ],
   "source": [
    "df_ex2.explode('TAGS').value_counts()"
   ]
  },
  {
   "cell_type": "code",
   "execution_count": 26,
   "metadata": {},
   "outputs": [
    {
     "data": {
      "text/plain": [
       "TAGS\n",
       "saude         1\n",
       "alientacao    1\n",
       "esporte       1\n",
       "corrida       1\n",
       "competicao    1\n",
       "cursos        1\n",
       "tecnologia    1\n",
       "Name: count, dtype: int64"
      ]
     },
     "execution_count": 26,
     "metadata": {},
     "output_type": "execute_result"
    }
   ],
   "source": [
    "df_ex2.explode('TAGS')['TAGS'].value_counts()"
   ]
  },
  {
   "cell_type": "markdown",
   "metadata": {},
   "source": [
    "                                                           PIVOT"
   ]
  },
  {
   "cell_type": "code",
   "execution_count": 33,
   "metadata": {},
   "outputs": [],
   "source": [
    "df_ri = pd.DataFrame({'Grupo':['A','B','A','B'], 'Categoria': ['X','Y','X','Y'], 'Ano': [2019,2020,2019,2020], 'Valor': [10,20,30,40]})"
   ]
  },
  {
   "cell_type": "code",
   "execution_count": 34,
   "metadata": {},
   "outputs": [
    {
     "data": {
      "text/html": [
       "<div>\n",
       "<style scoped>\n",
       "    .dataframe tbody tr th:only-of-type {\n",
       "        vertical-align: middle;\n",
       "    }\n",
       "\n",
       "    .dataframe tbody tr th {\n",
       "        vertical-align: top;\n",
       "    }\n",
       "\n",
       "    .dataframe thead th {\n",
       "        text-align: right;\n",
       "    }\n",
       "</style>\n",
       "<table border=\"1\" class=\"dataframe\">\n",
       "  <thead>\n",
       "    <tr style=\"text-align: right;\">\n",
       "      <th></th>\n",
       "      <th>Grupo</th>\n",
       "      <th>Categoria</th>\n",
       "      <th>Ano</th>\n",
       "      <th>Valor</th>\n",
       "    </tr>\n",
       "  </thead>\n",
       "  <tbody>\n",
       "    <tr>\n",
       "      <th>0</th>\n",
       "      <td>A</td>\n",
       "      <td>X</td>\n",
       "      <td>2019</td>\n",
       "      <td>10</td>\n",
       "    </tr>\n",
       "    <tr>\n",
       "      <th>1</th>\n",
       "      <td>B</td>\n",
       "      <td>Y</td>\n",
       "      <td>2020</td>\n",
       "      <td>20</td>\n",
       "    </tr>\n",
       "    <tr>\n",
       "      <th>2</th>\n",
       "      <td>A</td>\n",
       "      <td>X</td>\n",
       "      <td>2019</td>\n",
       "      <td>30</td>\n",
       "    </tr>\n",
       "    <tr>\n",
       "      <th>3</th>\n",
       "      <td>B</td>\n",
       "      <td>Y</td>\n",
       "      <td>2020</td>\n",
       "      <td>40</td>\n",
       "    </tr>\n",
       "  </tbody>\n",
       "</table>\n",
       "</div>"
      ],
      "text/plain": [
       "  Grupo Categoria   Ano  Valor\n",
       "0     A         X  2019     10\n",
       "1     B         Y  2020     20\n",
       "2     A         X  2019     30\n",
       "3     B         Y  2020     40"
      ]
     },
     "execution_count": 34,
     "metadata": {},
     "output_type": "execute_result"
    }
   ],
   "source": [
    "df_ri"
   ]
  },
  {
   "cell_type": "code",
   "execution_count": null,
   "metadata": {},
   "outputs": [],
   "source": [
    "df_ri.pivot(index='Grupo',columns='Ano',values='Valor')"
   ]
  },
  {
   "cell_type": "code",
   "execution_count": 36,
   "metadata": {},
   "outputs": [],
   "source": [
    "import seaborn as sns"
   ]
  },
  {
   "cell_type": "code",
   "execution_count": 37,
   "metadata": {},
   "outputs": [],
   "source": [
    "df_sns = sns.load_dataset('glue')"
   ]
  },
  {
   "cell_type": "code",
   "execution_count": 38,
   "metadata": {},
   "outputs": [
    {
     "data": {
      "text/html": [
       "<div>\n",
       "<style scoped>\n",
       "    .dataframe tbody tr th:only-of-type {\n",
       "        vertical-align: middle;\n",
       "    }\n",
       "\n",
       "    .dataframe tbody tr th {\n",
       "        vertical-align: top;\n",
       "    }\n",
       "\n",
       "    .dataframe thead th {\n",
       "        text-align: right;\n",
       "    }\n",
       "</style>\n",
       "<table border=\"1\" class=\"dataframe\">\n",
       "  <thead>\n",
       "    <tr style=\"text-align: right;\">\n",
       "      <th></th>\n",
       "      <th>Model</th>\n",
       "      <th>Year</th>\n",
       "      <th>Encoder</th>\n",
       "      <th>Task</th>\n",
       "      <th>Score</th>\n",
       "    </tr>\n",
       "  </thead>\n",
       "  <tbody>\n",
       "    <tr>\n",
       "      <th>0</th>\n",
       "      <td>ERNIE</td>\n",
       "      <td>2019</td>\n",
       "      <td>Transformer</td>\n",
       "      <td>CoLA</td>\n",
       "      <td>75.5</td>\n",
       "    </tr>\n",
       "    <tr>\n",
       "      <th>1</th>\n",
       "      <td>T5</td>\n",
       "      <td>2019</td>\n",
       "      <td>Transformer</td>\n",
       "      <td>CoLA</td>\n",
       "      <td>71.6</td>\n",
       "    </tr>\n",
       "    <tr>\n",
       "      <th>2</th>\n",
       "      <td>RoBERTa</td>\n",
       "      <td>2019</td>\n",
       "      <td>Transformer</td>\n",
       "      <td>CoLA</td>\n",
       "      <td>67.8</td>\n",
       "    </tr>\n",
       "    <tr>\n",
       "      <th>3</th>\n",
       "      <td>BERT</td>\n",
       "      <td>2018</td>\n",
       "      <td>Transformer</td>\n",
       "      <td>CoLA</td>\n",
       "      <td>60.5</td>\n",
       "    </tr>\n",
       "    <tr>\n",
       "      <th>4</th>\n",
       "      <td>BiLSTM+ELMo</td>\n",
       "      <td>2018</td>\n",
       "      <td>LSTM</td>\n",
       "      <td>CoLA</td>\n",
       "      <td>32.1</td>\n",
       "    </tr>\n",
       "    <tr>\n",
       "      <th>...</th>\n",
       "      <td>...</td>\n",
       "      <td>...</td>\n",
       "      <td>...</td>\n",
       "      <td>...</td>\n",
       "      <td>...</td>\n",
       "    </tr>\n",
       "    <tr>\n",
       "      <th>59</th>\n",
       "      <td>BERT</td>\n",
       "      <td>2018</td>\n",
       "      <td>Transformer</td>\n",
       "      <td>RTE</td>\n",
       "      <td>70.1</td>\n",
       "    </tr>\n",
       "    <tr>\n",
       "      <th>60</th>\n",
       "      <td>BiLSTM+ELMo</td>\n",
       "      <td>2018</td>\n",
       "      <td>LSTM</td>\n",
       "      <td>RTE</td>\n",
       "      <td>57.4</td>\n",
       "    </tr>\n",
       "    <tr>\n",
       "      <th>61</th>\n",
       "      <td>BiLSTM+CoVe</td>\n",
       "      <td>2017</td>\n",
       "      <td>LSTM</td>\n",
       "      <td>RTE</td>\n",
       "      <td>52.7</td>\n",
       "    </tr>\n",
       "    <tr>\n",
       "      <th>62</th>\n",
       "      <td>BiLSTM+Attn</td>\n",
       "      <td>2017</td>\n",
       "      <td>LSTM</td>\n",
       "      <td>RTE</td>\n",
       "      <td>58.4</td>\n",
       "    </tr>\n",
       "    <tr>\n",
       "      <th>63</th>\n",
       "      <td>BiLSTM</td>\n",
       "      <td>2017</td>\n",
       "      <td>LSTM</td>\n",
       "      <td>RTE</td>\n",
       "      <td>57.4</td>\n",
       "    </tr>\n",
       "  </tbody>\n",
       "</table>\n",
       "<p>64 rows × 5 columns</p>\n",
       "</div>"
      ],
      "text/plain": [
       "          Model  Year      Encoder  Task  Score\n",
       "0         ERNIE  2019  Transformer  CoLA   75.5\n",
       "1            T5  2019  Transformer  CoLA   71.6\n",
       "2       RoBERTa  2019  Transformer  CoLA   67.8\n",
       "3          BERT  2018  Transformer  CoLA   60.5\n",
       "4   BiLSTM+ELMo  2018         LSTM  CoLA   32.1\n",
       "..          ...   ...          ...   ...    ...\n",
       "59         BERT  2018  Transformer   RTE   70.1\n",
       "60  BiLSTM+ELMo  2018         LSTM   RTE   57.4\n",
       "61  BiLSTM+CoVe  2017         LSTM   RTE   52.7\n",
       "62  BiLSTM+Attn  2017         LSTM   RTE   58.4\n",
       "63       BiLSTM  2017         LSTM   RTE   57.4\n",
       "\n",
       "[64 rows x 5 columns]"
      ]
     },
     "execution_count": 38,
     "metadata": {},
     "output_type": "execute_result"
    }
   ],
   "source": [
    "df_sns"
   ]
  },
  {
   "cell_type": "code",
   "execution_count": 43,
   "metadata": {},
   "outputs": [],
   "source": [
    "df_pivot = df_sns.pivot(index='Model',columns='Task',values='Score')"
   ]
  },
  {
   "cell_type": "code",
   "execution_count": 44,
   "metadata": {},
   "outputs": [
    {
     "data": {
      "text/html": [
       "<div>\n",
       "<style scoped>\n",
       "    .dataframe tbody tr th:only-of-type {\n",
       "        vertical-align: middle;\n",
       "    }\n",
       "\n",
       "    .dataframe tbody tr th {\n",
       "        vertical-align: top;\n",
       "    }\n",
       "\n",
       "    .dataframe thead th {\n",
       "        text-align: right;\n",
       "    }\n",
       "</style>\n",
       "<table border=\"1\" class=\"dataframe\">\n",
       "  <thead>\n",
       "    <tr style=\"text-align: right;\">\n",
       "      <th>Task</th>\n",
       "      <th>CoLA</th>\n",
       "      <th>MNLI</th>\n",
       "      <th>MRPC</th>\n",
       "      <th>QNLI</th>\n",
       "      <th>QQP</th>\n",
       "      <th>RTE</th>\n",
       "      <th>SST-2</th>\n",
       "      <th>STS-B</th>\n",
       "    </tr>\n",
       "    <tr>\n",
       "      <th>Model</th>\n",
       "      <th></th>\n",
       "      <th></th>\n",
       "      <th></th>\n",
       "      <th></th>\n",
       "      <th></th>\n",
       "      <th></th>\n",
       "      <th></th>\n",
       "      <th></th>\n",
       "    </tr>\n",
       "  </thead>\n",
       "  <tbody>\n",
       "    <tr>\n",
       "      <th>BERT</th>\n",
       "      <td>60.5</td>\n",
       "      <td>86.7</td>\n",
       "      <td>89.3</td>\n",
       "      <td>92.7</td>\n",
       "      <td>72.1</td>\n",
       "      <td>70.1</td>\n",
       "      <td>94.9</td>\n",
       "      <td>87.6</td>\n",
       "    </tr>\n",
       "    <tr>\n",
       "      <th>BiLSTM</th>\n",
       "      <td>11.6</td>\n",
       "      <td>65.6</td>\n",
       "      <td>81.8</td>\n",
       "      <td>74.6</td>\n",
       "      <td>62.5</td>\n",
       "      <td>57.4</td>\n",
       "      <td>82.8</td>\n",
       "      <td>70.3</td>\n",
       "    </tr>\n",
       "    <tr>\n",
       "      <th>BiLSTM+Attn</th>\n",
       "      <td>18.6</td>\n",
       "      <td>67.6</td>\n",
       "      <td>83.9</td>\n",
       "      <td>74.3</td>\n",
       "      <td>60.1</td>\n",
       "      <td>58.4</td>\n",
       "      <td>83.0</td>\n",
       "      <td>72.8</td>\n",
       "    </tr>\n",
       "    <tr>\n",
       "      <th>BiLSTM+CoVe</th>\n",
       "      <td>18.5</td>\n",
       "      <td>65.4</td>\n",
       "      <td>78.7</td>\n",
       "      <td>70.8</td>\n",
       "      <td>60.6</td>\n",
       "      <td>52.7</td>\n",
       "      <td>81.9</td>\n",
       "      <td>64.4</td>\n",
       "    </tr>\n",
       "    <tr>\n",
       "      <th>BiLSTM+ELMo</th>\n",
       "      <td>32.1</td>\n",
       "      <td>67.2</td>\n",
       "      <td>84.7</td>\n",
       "      <td>75.5</td>\n",
       "      <td>61.1</td>\n",
       "      <td>57.4</td>\n",
       "      <td>89.3</td>\n",
       "      <td>70.3</td>\n",
       "    </tr>\n",
       "    <tr>\n",
       "      <th>ERNIE</th>\n",
       "      <td>75.5</td>\n",
       "      <td>92.3</td>\n",
       "      <td>93.9</td>\n",
       "      <td>97.3</td>\n",
       "      <td>75.2</td>\n",
       "      <td>92.6</td>\n",
       "      <td>97.8</td>\n",
       "      <td>93.0</td>\n",
       "    </tr>\n",
       "    <tr>\n",
       "      <th>RoBERTa</th>\n",
       "      <td>67.8</td>\n",
       "      <td>90.8</td>\n",
       "      <td>92.3</td>\n",
       "      <td>95.4</td>\n",
       "      <td>74.3</td>\n",
       "      <td>88.2</td>\n",
       "      <td>96.7</td>\n",
       "      <td>92.2</td>\n",
       "    </tr>\n",
       "    <tr>\n",
       "      <th>T5</th>\n",
       "      <td>71.6</td>\n",
       "      <td>92.2</td>\n",
       "      <td>92.8</td>\n",
       "      <td>96.9</td>\n",
       "      <td>75.1</td>\n",
       "      <td>92.8</td>\n",
       "      <td>97.5</td>\n",
       "      <td>93.1</td>\n",
       "    </tr>\n",
       "  </tbody>\n",
       "</table>\n",
       "</div>"
      ],
      "text/plain": [
       "Task         CoLA  MNLI  MRPC  QNLI   QQP   RTE  SST-2  STS-B\n",
       "Model                                                        \n",
       "BERT         60.5  86.7  89.3  92.7  72.1  70.1   94.9   87.6\n",
       "BiLSTM       11.6  65.6  81.8  74.6  62.5  57.4   82.8   70.3\n",
       "BiLSTM+Attn  18.6  67.6  83.9  74.3  60.1  58.4   83.0   72.8\n",
       "BiLSTM+CoVe  18.5  65.4  78.7  70.8  60.6  52.7   81.9   64.4\n",
       "BiLSTM+ELMo  32.1  67.2  84.7  75.5  61.1  57.4   89.3   70.3\n",
       "ERNIE        75.5  92.3  93.9  97.3  75.2  92.6   97.8   93.0\n",
       "RoBERTa      67.8  90.8  92.3  95.4  74.3  88.2   96.7   92.2\n",
       "T5           71.6  92.2  92.8  96.9  75.1  92.8   97.5   93.1"
      ]
     },
     "execution_count": 44,
     "metadata": {},
     "output_type": "execute_result"
    }
   ],
   "source": [
    "df_pivot"
   ]
  },
  {
   "cell_type": "code",
   "execution_count": 46,
   "metadata": {},
   "outputs": [
    {
     "data": {
      "text/plain": [
       "<Axes: xlabel='Task', ylabel='Model'>"
      ]
     },
     "execution_count": 46,
     "metadata": {},
     "output_type": "execute_result"
    },
    {
     "data": {
      "image/png": "[encoded data removed]",
      "text/plain": [
       "<Figure size 640x480 with 2 Axes>"
      ]
     },
     "metadata": {},
     "output_type": "display_data"
    }
   ],
   "source": [
    "sns.heatmap(df_pivot)"
   ]
  },
  {
   "cell_type": "markdown",
   "metadata": {},
   "source": [
    "                                                       PIVOT TABLET"
   ]
  },
  {
   "cell_type": "markdown",
   "metadata": {},
   "source": [
    "Não da erro quando temos valores duplicados."
   ]
  },
  {
   "cell_type": "code",
   "execution_count": 49,
   "metadata": {},
   "outputs": [
    {
     "data": {
      "text/html": [
       "<div>\n",
       "<style scoped>\n",
       "    .dataframe tbody tr th:only-of-type {\n",
       "        vertical-align: middle;\n",
       "    }\n",
       "\n",
       "    .dataframe tbody tr th {\n",
       "        vertical-align: top;\n",
       "    }\n",
       "\n",
       "    .dataframe thead th {\n",
       "        text-align: right;\n",
       "    }\n",
       "</style>\n",
       "<table border=\"1\" class=\"dataframe\">\n",
       "  <thead>\n",
       "    <tr style=\"text-align: right;\">\n",
       "      <th>Year</th>\n",
       "      <th>2017</th>\n",
       "      <th>2018</th>\n",
       "      <th>2019</th>\n",
       "    </tr>\n",
       "    <tr>\n",
       "      <th>Model</th>\n",
       "      <th></th>\n",
       "      <th></th>\n",
       "      <th></th>\n",
       "    </tr>\n",
       "  </thead>\n",
       "  <tbody>\n",
       "    <tr>\n",
       "      <th>BERT</th>\n",
       "      <td>NaN</td>\n",
       "      <td>81.7375</td>\n",
       "      <td>NaN</td>\n",
       "    </tr>\n",
       "    <tr>\n",
       "      <th>BiLSTM</th>\n",
       "      <td>63.3250</td>\n",
       "      <td>NaN</td>\n",
       "      <td>NaN</td>\n",
       "    </tr>\n",
       "    <tr>\n",
       "      <th>BiLSTM+Attn</th>\n",
       "      <td>64.8375</td>\n",
       "      <td>NaN</td>\n",
       "      <td>NaN</td>\n",
       "    </tr>\n",
       "    <tr>\n",
       "      <th>BiLSTM+CoVe</th>\n",
       "      <td>61.6250</td>\n",
       "      <td>NaN</td>\n",
       "      <td>NaN</td>\n",
       "    </tr>\n",
       "    <tr>\n",
       "      <th>BiLSTM+ELMo</th>\n",
       "      <td>NaN</td>\n",
       "      <td>67.2000</td>\n",
       "      <td>NaN</td>\n",
       "    </tr>\n",
       "    <tr>\n",
       "      <th>ERNIE</th>\n",
       "      <td>NaN</td>\n",
       "      <td>NaN</td>\n",
       "      <td>89.7000</td>\n",
       "    </tr>\n",
       "    <tr>\n",
       "      <th>RoBERTa</th>\n",
       "      <td>NaN</td>\n",
       "      <td>NaN</td>\n",
       "      <td>87.2125</td>\n",
       "    </tr>\n",
       "    <tr>\n",
       "      <th>T5</th>\n",
       "      <td>NaN</td>\n",
       "      <td>NaN</td>\n",
       "      <td>89.0000</td>\n",
       "    </tr>\n",
       "  </tbody>\n",
       "</table>\n",
       "</div>"
      ],
      "text/plain": [
       "Year            2017     2018     2019\n",
       "Model                                 \n",
       "BERT             NaN  81.7375      NaN\n",
       "BiLSTM       63.3250      NaN      NaN\n",
       "BiLSTM+Attn  64.8375      NaN      NaN\n",
       "BiLSTM+CoVe  61.6250      NaN      NaN\n",
       "BiLSTM+ELMo      NaN  67.2000      NaN\n",
       "ERNIE            NaN      NaN  89.7000\n",
       "RoBERTa          NaN      NaN  87.2125\n",
       "T5               NaN      NaN  89.0000"
      ]
     },
     "execution_count": 49,
     "metadata": {},
     "output_type": "execute_result"
    }
   ],
   "source": [
    "pd.pivot_table(data = df_sns, index='Model', columns='Year', values='Score',aggfunc='mean')"
   ]
  },
  {
   "cell_type": "code",
   "execution_count": 50,
   "metadata": {},
   "outputs": [
    {
     "data": {
      "text/html": [
       "<div>\n",
       "<style scoped>\n",
       "    .dataframe tbody tr th:only-of-type {\n",
       "        vertical-align: middle;\n",
       "    }\n",
       "\n",
       "    .dataframe tbody tr th {\n",
       "        vertical-align: top;\n",
       "    }\n",
       "\n",
       "    .dataframe thead th {\n",
       "        text-align: right;\n",
       "    }\n",
       "</style>\n",
       "<table border=\"1\" class=\"dataframe\">\n",
       "  <thead>\n",
       "    <tr style=\"text-align: right;\">\n",
       "      <th>Year</th>\n",
       "      <th>2017</th>\n",
       "      <th>2018</th>\n",
       "      <th>2019</th>\n",
       "    </tr>\n",
       "    <tr>\n",
       "      <th>Task</th>\n",
       "      <th></th>\n",
       "      <th></th>\n",
       "      <th></th>\n",
       "    </tr>\n",
       "  </thead>\n",
       "  <tbody>\n",
       "    <tr>\n",
       "      <th>CoLA</th>\n",
       "      <td>16.233333</td>\n",
       "      <td>46.30</td>\n",
       "      <td>71.633333</td>\n",
       "    </tr>\n",
       "    <tr>\n",
       "      <th>MNLI</th>\n",
       "      <td>66.200000</td>\n",
       "      <td>76.95</td>\n",
       "      <td>91.766667</td>\n",
       "    </tr>\n",
       "    <tr>\n",
       "      <th>MRPC</th>\n",
       "      <td>81.466667</td>\n",
       "      <td>87.00</td>\n",
       "      <td>93.000000</td>\n",
       "    </tr>\n",
       "    <tr>\n",
       "      <th>QNLI</th>\n",
       "      <td>73.233333</td>\n",
       "      <td>84.10</td>\n",
       "      <td>96.533333</td>\n",
       "    </tr>\n",
       "    <tr>\n",
       "      <th>QQP</th>\n",
       "      <td>61.066667</td>\n",
       "      <td>66.60</td>\n",
       "      <td>74.866667</td>\n",
       "    </tr>\n",
       "    <tr>\n",
       "      <th>RTE</th>\n",
       "      <td>56.166667</td>\n",
       "      <td>63.75</td>\n",
       "      <td>91.200000</td>\n",
       "    </tr>\n",
       "    <tr>\n",
       "      <th>SST-2</th>\n",
       "      <td>82.566667</td>\n",
       "      <td>92.10</td>\n",
       "      <td>97.333333</td>\n",
       "    </tr>\n",
       "    <tr>\n",
       "      <th>STS-B</th>\n",
       "      <td>69.166667</td>\n",
       "      <td>78.95</td>\n",
       "      <td>92.766667</td>\n",
       "    </tr>\n",
       "  </tbody>\n",
       "</table>\n",
       "</div>"
      ],
      "text/plain": [
       "Year        2017   2018       2019\n",
       "Task                              \n",
       "CoLA   16.233333  46.30  71.633333\n",
       "MNLI   66.200000  76.95  91.766667\n",
       "MRPC   81.466667  87.00  93.000000\n",
       "QNLI   73.233333  84.10  96.533333\n",
       "QQP    61.066667  66.60  74.866667\n",
       "RTE    56.166667  63.75  91.200000\n",
       "SST-2  82.566667  92.10  97.333333\n",
       "STS-B  69.166667  78.95  92.766667"
      ]
     },
     "execution_count": 50,
     "metadata": {},
     "output_type": "execute_result"
    }
   ],
   "source": [
    "pd.pivot_table(data = df_sns, index='Task', columns='Year', values='Score',aggfunc='mean')"
   ]
  },
  {
   "cell_type": "markdown",
   "metadata": {},
   "source": [
    "                                                     TIPOS DE DADOS"
   ]
  },
  {
   "cell_type": "markdown",
   "metadata": {},
   "source": [
    "ASTYPE()"
   ]
  },
  {
   "cell_type": "code",
   "execution_count": 51,
   "metadata": {},
   "outputs": [
    {
     "data": {
      "text/html": [
       "<div>\n",
       "<style scoped>\n",
       "    .dataframe tbody tr th:only-of-type {\n",
       "        vertical-align: middle;\n",
       "    }\n",
       "\n",
       "    .dataframe tbody tr th {\n",
       "        vertical-align: top;\n",
       "    }\n",
       "\n",
       "    .dataframe thead th {\n",
       "        text-align: right;\n",
       "    }\n",
       "</style>\n",
       "<table border=\"1\" class=\"dataframe\">\n",
       "  <thead>\n",
       "    <tr style=\"text-align: right;\">\n",
       "      <th></th>\n",
       "      <th>status</th>\n",
       "      <th>bed</th>\n",
       "      <th>bath</th>\n",
       "      <th>acre_lot</th>\n",
       "      <th>city</th>\n",
       "      <th>state</th>\n",
       "      <th>zip_code</th>\n",
       "      <th>house_size</th>\n",
       "      <th>prev_sold_date</th>\n",
       "      <th>price</th>\n",
       "    </tr>\n",
       "  </thead>\n",
       "  <tbody>\n",
       "    <tr>\n",
       "      <th>0</th>\n",
       "      <td>for_sale</td>\n",
       "      <td>3.0</td>\n",
       "      <td>2.0</td>\n",
       "      <td>0.12</td>\n",
       "      <td>Adjuntas</td>\n",
       "      <td>Puerto Rico</td>\n",
       "      <td>601.0</td>\n",
       "      <td>920.0</td>\n",
       "      <td>NaN</td>\n",
       "      <td>105000.0</td>\n",
       "    </tr>\n",
       "    <tr>\n",
       "      <th>1</th>\n",
       "      <td>for_sale</td>\n",
       "      <td>4.0</td>\n",
       "      <td>2.0</td>\n",
       "      <td>0.08</td>\n",
       "      <td>Adjuntas</td>\n",
       "      <td>Puerto Rico</td>\n",
       "      <td>601.0</td>\n",
       "      <td>1527.0</td>\n",
       "      <td>NaN</td>\n",
       "      <td>80000.0</td>\n",
       "    </tr>\n",
       "    <tr>\n",
       "      <th>2</th>\n",
       "      <td>for_sale</td>\n",
       "      <td>2.0</td>\n",
       "      <td>1.0</td>\n",
       "      <td>0.15</td>\n",
       "      <td>Juana Diaz</td>\n",
       "      <td>Puerto Rico</td>\n",
       "      <td>795.0</td>\n",
       "      <td>748.0</td>\n",
       "      <td>NaN</td>\n",
       "      <td>67000.0</td>\n",
       "    </tr>\n",
       "    <tr>\n",
       "      <th>3</th>\n",
       "      <td>for_sale</td>\n",
       "      <td>4.0</td>\n",
       "      <td>2.0</td>\n",
       "      <td>0.10</td>\n",
       "      <td>Ponce</td>\n",
       "      <td>Puerto Rico</td>\n",
       "      <td>731.0</td>\n",
       "      <td>1800.0</td>\n",
       "      <td>NaN</td>\n",
       "      <td>145000.0</td>\n",
       "    </tr>\n",
       "    <tr>\n",
       "      <th>4</th>\n",
       "      <td>for_sale</td>\n",
       "      <td>6.0</td>\n",
       "      <td>2.0</td>\n",
       "      <td>0.05</td>\n",
       "      <td>Mayaguez</td>\n",
       "      <td>Puerto Rico</td>\n",
       "      <td>680.0</td>\n",
       "      <td>NaN</td>\n",
       "      <td>NaN</td>\n",
       "      <td>65000.0</td>\n",
       "    </tr>\n",
       "    <tr>\n",
       "      <th>...</th>\n",
       "      <td>...</td>\n",
       "      <td>...</td>\n",
       "      <td>...</td>\n",
       "      <td>...</td>\n",
       "      <td>...</td>\n",
       "      <td>...</td>\n",
       "      <td>...</td>\n",
       "      <td>...</td>\n",
       "      <td>...</td>\n",
       "      <td>...</td>\n",
       "    </tr>\n",
       "    <tr>\n",
       "      <th>99995</th>\n",
       "      <td>for_sale</td>\n",
       "      <td>3.0</td>\n",
       "      <td>3.0</td>\n",
       "      <td>NaN</td>\n",
       "      <td>Hudson</td>\n",
       "      <td>Massachusetts</td>\n",
       "      <td>1749.0</td>\n",
       "      <td>2864.0</td>\n",
       "      <td>NaN</td>\n",
       "      <td>749900.0</td>\n",
       "    </tr>\n",
       "    <tr>\n",
       "      <th>99996</th>\n",
       "      <td>for_sale</td>\n",
       "      <td>2.0</td>\n",
       "      <td>1.0</td>\n",
       "      <td>0.34</td>\n",
       "      <td>Auburn</td>\n",
       "      <td>Massachusetts</td>\n",
       "      <td>1501.0</td>\n",
       "      <td>1075.0</td>\n",
       "      <td>1999-06-07</td>\n",
       "      <td>349900.0</td>\n",
       "    </tr>\n",
       "    <tr>\n",
       "      <th>99997</th>\n",
       "      <td>for_sale</td>\n",
       "      <td>3.0</td>\n",
       "      <td>2.0</td>\n",
       "      <td>1.01</td>\n",
       "      <td>Shrewsbury</td>\n",
       "      <td>Massachusetts</td>\n",
       "      <td>1545.0</td>\n",
       "      <td>1632.0</td>\n",
       "      <td>1995-09-27</td>\n",
       "      <td>549000.0</td>\n",
       "    </tr>\n",
       "    <tr>\n",
       "      <th>99998</th>\n",
       "      <td>for_sale</td>\n",
       "      <td>3.0</td>\n",
       "      <td>2.0</td>\n",
       "      <td>0.12</td>\n",
       "      <td>Worcester</td>\n",
       "      <td>Massachusetts</td>\n",
       "      <td>1604.0</td>\n",
       "      <td>1332.0</td>\n",
       "      <td>2000-09-11</td>\n",
       "      <td>299000.0</td>\n",
       "    </tr>\n",
       "    <tr>\n",
       "      <th>99999</th>\n",
       "      <td>for_sale</td>\n",
       "      <td>3.0</td>\n",
       "      <td>3.0</td>\n",
       "      <td>21.67</td>\n",
       "      <td>Grafton</td>\n",
       "      <td>Massachusetts</td>\n",
       "      <td>1536.0</td>\n",
       "      <td>1846.0</td>\n",
       "      <td>2020-10-06</td>\n",
       "      <td>535000.0</td>\n",
       "    </tr>\n",
       "  </tbody>\n",
       "</table>\n",
       "<p>100000 rows × 10 columns</p>\n",
       "</div>"
      ],
      "text/plain": [
       "         status  bed  bath  acre_lot        city          state  zip_code  \\\n",
       "0      for_sale  3.0   2.0      0.12    Adjuntas    Puerto Rico     601.0   \n",
       "1      for_sale  4.0   2.0      0.08    Adjuntas    Puerto Rico     601.0   \n",
       "2      for_sale  2.0   1.0      0.15  Juana Diaz    Puerto Rico     795.0   \n",
       "3      for_sale  4.0   2.0      0.10       Ponce    Puerto Rico     731.0   \n",
       "4      for_sale  6.0   2.0      0.05    Mayaguez    Puerto Rico     680.0   \n",
       "...         ...  ...   ...       ...         ...            ...       ...   \n",
       "99995  for_sale  3.0   3.0       NaN      Hudson  Massachusetts    1749.0   \n",
       "99996  for_sale  2.0   1.0      0.34      Auburn  Massachusetts    1501.0   \n",
       "99997  for_sale  3.0   2.0      1.01  Shrewsbury  Massachusetts    1545.0   \n",
       "99998  for_sale  3.0   2.0      0.12   Worcester  Massachusetts    1604.0   \n",
       "99999  for_sale  3.0   3.0     21.67     Grafton  Massachusetts    1536.0   \n",
       "\n",
       "       house_size prev_sold_date     price  \n",
       "0           920.0            NaN  105000.0  \n",
       "1          1527.0            NaN   80000.0  \n",
       "2           748.0            NaN   67000.0  \n",
       "3          1800.0            NaN  145000.0  \n",
       "4             NaN            NaN   65000.0  \n",
       "...           ...            ...       ...  \n",
       "99995      2864.0            NaN  749900.0  \n",
       "99996      1075.0     1999-06-07  349900.0  \n",
       "99997      1632.0     1995-09-27  549000.0  \n",
       "99998      1332.0     2000-09-11  299000.0  \n",
       "99999      1846.0     2020-10-06  535000.0  \n",
       "\n",
       "[100000 rows x 10 columns]"
      ]
     },
     "execution_count": 51,
     "metadata": {},
     "output_type": "execute_result"
    }
   ],
   "source": [
    "df"
   ]
  },
  {
   "cell_type": "code",
   "execution_count": 52,
   "metadata": {},
   "outputs": [
    {
     "name": "stdout",
     "output_type": "stream",
     "text": [
      "<class 'pandas.core.frame.DataFrame'>\n",
      "RangeIndex: 100000 entries, 0 to 99999\n",
      "Data columns (total 10 columns):\n",
      " #   Column          Non-Null Count   Dtype  \n",
      "---  ------          --------------   -----  \n",
      " 0   status          100000 non-null  object \n",
      " 1   bed             75050 non-null   float64\n",
      " 2   bath            75112 non-null   float64\n",
      " 3   acre_lot        85987 non-null   float64\n",
      " 4   city            99948 non-null   object \n",
      " 5   state           100000 non-null  object \n",
      " 6   zip_code        99805 non-null   float64\n",
      " 7   house_size      75082 non-null   float64\n",
      " 8   prev_sold_date  28745 non-null   object \n",
      " 9   price           100000 non-null  float64\n",
      "dtypes: float64(6), object(4)\n",
      "memory usage: 7.6+ MB\n"
     ]
    }
   ],
   "source": [
    "df.info()"
   ]
  },
  {
   "cell_type": "code",
   "execution_count": 53,
   "metadata": {},
   "outputs": [
    {
     "data": {
      "text/plain": [
       "status             object\n",
       "bed               float64\n",
       "bath              float64\n",
       "acre_lot          float64\n",
       "city               object\n",
       "state              object\n",
       "zip_code          float64\n",
       "house_size        float64\n",
       "prev_sold_date     object\n",
       "price             float64\n",
       "dtype: object"
      ]
     },
     "execution_count": 53,
     "metadata": {},
     "output_type": "execute_result"
    }
   ],
   "source": [
    "df.dtypes"
   ]
  },
  {
   "cell_type": "code",
   "execution_count": 54,
   "metadata": {},
   "outputs": [
    {
     "data": {
      "text/plain": [
       "0        105000\n",
       "1         80000\n",
       "2         67000\n",
       "3        145000\n",
       "4         65000\n",
       "          ...  \n",
       "99995    749900\n",
       "99996    349900\n",
       "99997    549000\n",
       "99998    299000\n",
       "99999    535000\n",
       "Name: price, Length: 100000, dtype: int32"
      ]
     },
     "execution_count": 54,
     "metadata": {},
     "output_type": "execute_result"
    }
   ],
   "source": [
    "df['price'].astype(int)  #TROCA O TIPO DE DADO DA COLUNA"
   ]
  },
  {
   "cell_type": "code",
   "execution_count": 55,
   "metadata": {},
   "outputs": [
    {
     "data": {
      "text/plain": [
       "0        1050000\n",
       "1         800000\n",
       "2         670000\n",
       "3        1450000\n",
       "4         650000\n",
       "          ...   \n",
       "99995    7499000\n",
       "99996    3499000\n",
       "99997    5490000\n",
       "99998    2990000\n",
       "99999    5350000\n",
       "Name: price, Length: 100000, dtype: object"
      ]
     },
     "execution_count": 55,
     "metadata": {},
     "output_type": "execute_result"
    }
   ],
   "source": [
    "df['price'].astype(str).str.replace('.','')"
   ]
  },
  {
   "cell_type": "markdown",
   "metadata": {},
   "source": [
    "                                                      MISSING VALUES"
   ]
  },
  {
   "cell_type": "code",
   "execution_count": 56,
   "metadata": {},
   "outputs": [
    {
     "data": {
      "text/html": [
       "<div>\n",
       "<style scoped>\n",
       "    .dataframe tbody tr th:only-of-type {\n",
       "        vertical-align: middle;\n",
       "    }\n",
       "\n",
       "    .dataframe tbody tr th {\n",
       "        vertical-align: top;\n",
       "    }\n",
       "\n",
       "    .dataframe thead th {\n",
       "        text-align: right;\n",
       "    }\n",
       "</style>\n",
       "<table border=\"1\" class=\"dataframe\">\n",
       "  <thead>\n",
       "    <tr style=\"text-align: right;\">\n",
       "      <th></th>\n",
       "      <th>status</th>\n",
       "      <th>bed</th>\n",
       "      <th>bath</th>\n",
       "      <th>acre_lot</th>\n",
       "      <th>city</th>\n",
       "      <th>state</th>\n",
       "      <th>zip_code</th>\n",
       "      <th>house_size</th>\n",
       "      <th>prev_sold_date</th>\n",
       "      <th>price</th>\n",
       "    </tr>\n",
       "  </thead>\n",
       "  <tbody>\n",
       "    <tr>\n",
       "      <th>0</th>\n",
       "      <td>for_sale</td>\n",
       "      <td>3.0</td>\n",
       "      <td>2.0</td>\n",
       "      <td>0.12</td>\n",
       "      <td>Adjuntas</td>\n",
       "      <td>Puerto Rico</td>\n",
       "      <td>601.0</td>\n",
       "      <td>920.0</td>\n",
       "      <td>NaN</td>\n",
       "      <td>105000.0</td>\n",
       "    </tr>\n",
       "    <tr>\n",
       "      <th>1</th>\n",
       "      <td>for_sale</td>\n",
       "      <td>4.0</td>\n",
       "      <td>2.0</td>\n",
       "      <td>0.08</td>\n",
       "      <td>Adjuntas</td>\n",
       "      <td>Puerto Rico</td>\n",
       "      <td>601.0</td>\n",
       "      <td>1527.0</td>\n",
       "      <td>NaN</td>\n",
       "      <td>80000.0</td>\n",
       "    </tr>\n",
       "  </tbody>\n",
       "</table>\n",
       "</div>"
      ],
      "text/plain": [
       "     status  bed  bath  acre_lot      city        state  zip_code  house_size  \\\n",
       "0  for_sale  3.0   2.0      0.12  Adjuntas  Puerto Rico     601.0       920.0   \n",
       "1  for_sale  4.0   2.0      0.08  Adjuntas  Puerto Rico     601.0      1527.0   \n",
       "\n",
       "  prev_sold_date     price  \n",
       "0            NaN  105000.0  \n",
       "1            NaN   80000.0  "
      ]
     },
     "execution_count": 56,
     "metadata": {},
     "output_type": "execute_result"
    }
   ],
   "source": [
    "df.head(2)"
   ]
  },
  {
   "cell_type": "code",
   "execution_count": 57,
   "metadata": {},
   "outputs": [
    {
     "data": {
      "text/html": [
       "<div>\n",
       "<style scoped>\n",
       "    .dataframe tbody tr th:only-of-type {\n",
       "        vertical-align: middle;\n",
       "    }\n",
       "\n",
       "    .dataframe tbody tr th {\n",
       "        vertical-align: top;\n",
       "    }\n",
       "\n",
       "    .dataframe thead th {\n",
       "        text-align: right;\n",
       "    }\n",
       "</style>\n",
       "<table border=\"1\" class=\"dataframe\">\n",
       "  <thead>\n",
       "    <tr style=\"text-align: right;\">\n",
       "      <th></th>\n",
       "      <th>status</th>\n",
       "      <th>bed</th>\n",
       "      <th>bath</th>\n",
       "      <th>acre_lot</th>\n",
       "      <th>city</th>\n",
       "      <th>state</th>\n",
       "      <th>zip_code</th>\n",
       "      <th>house_size</th>\n",
       "      <th>prev_sold_date</th>\n",
       "      <th>price</th>\n",
       "    </tr>\n",
       "  </thead>\n",
       "  <tbody>\n",
       "    <tr>\n",
       "      <th>0</th>\n",
       "      <td>False</td>\n",
       "      <td>False</td>\n",
       "      <td>False</td>\n",
       "      <td>False</td>\n",
       "      <td>False</td>\n",
       "      <td>False</td>\n",
       "      <td>False</td>\n",
       "      <td>False</td>\n",
       "      <td>True</td>\n",
       "      <td>False</td>\n",
       "    </tr>\n",
       "    <tr>\n",
       "      <th>1</th>\n",
       "      <td>False</td>\n",
       "      <td>False</td>\n",
       "      <td>False</td>\n",
       "      <td>False</td>\n",
       "      <td>False</td>\n",
       "      <td>False</td>\n",
       "      <td>False</td>\n",
       "      <td>False</td>\n",
       "      <td>True</td>\n",
       "      <td>False</td>\n",
       "    </tr>\n",
       "    <tr>\n",
       "      <th>2</th>\n",
       "      <td>False</td>\n",
       "      <td>False</td>\n",
       "      <td>False</td>\n",
       "      <td>False</td>\n",
       "      <td>False</td>\n",
       "      <td>False</td>\n",
       "      <td>False</td>\n",
       "      <td>False</td>\n",
       "      <td>True</td>\n",
       "      <td>False</td>\n",
       "    </tr>\n",
       "    <tr>\n",
       "      <th>3</th>\n",
       "      <td>False</td>\n",
       "      <td>False</td>\n",
       "      <td>False</td>\n",
       "      <td>False</td>\n",
       "      <td>False</td>\n",
       "      <td>False</td>\n",
       "      <td>False</td>\n",
       "      <td>False</td>\n",
       "      <td>True</td>\n",
       "      <td>False</td>\n",
       "    </tr>\n",
       "    <tr>\n",
       "      <th>4</th>\n",
       "      <td>False</td>\n",
       "      <td>False</td>\n",
       "      <td>False</td>\n",
       "      <td>False</td>\n",
       "      <td>False</td>\n",
       "      <td>False</td>\n",
       "      <td>False</td>\n",
       "      <td>True</td>\n",
       "      <td>True</td>\n",
       "      <td>False</td>\n",
       "    </tr>\n",
       "    <tr>\n",
       "      <th>...</th>\n",
       "      <td>...</td>\n",
       "      <td>...</td>\n",
       "      <td>...</td>\n",
       "      <td>...</td>\n",
       "      <td>...</td>\n",
       "      <td>...</td>\n",
       "      <td>...</td>\n",
       "      <td>...</td>\n",
       "      <td>...</td>\n",
       "      <td>...</td>\n",
       "    </tr>\n",
       "    <tr>\n",
       "      <th>99995</th>\n",
       "      <td>False</td>\n",
       "      <td>False</td>\n",
       "      <td>False</td>\n",
       "      <td>True</td>\n",
       "      <td>False</td>\n",
       "      <td>False</td>\n",
       "      <td>False</td>\n",
       "      <td>False</td>\n",
       "      <td>True</td>\n",
       "      <td>False</td>\n",
       "    </tr>\n",
       "    <tr>\n",
       "      <th>99996</th>\n",
       "      <td>False</td>\n",
       "      <td>False</td>\n",
       "      <td>False</td>\n",
       "      <td>False</td>\n",
       "      <td>False</td>\n",
       "      <td>False</td>\n",
       "      <td>False</td>\n",
       "      <td>False</td>\n",
       "      <td>False</td>\n",
       "      <td>False</td>\n",
       "    </tr>\n",
       "    <tr>\n",
       "      <th>99997</th>\n",
       "      <td>False</td>\n",
       "      <td>False</td>\n",
       "      <td>False</td>\n",
       "      <td>False</td>\n",
       "      <td>False</td>\n",
       "      <td>False</td>\n",
       "      <td>False</td>\n",
       "      <td>False</td>\n",
       "      <td>False</td>\n",
       "      <td>False</td>\n",
       "    </tr>\n",
       "    <tr>\n",
       "      <th>99998</th>\n",
       "      <td>False</td>\n",
       "      <td>False</td>\n",
       "      <td>False</td>\n",
       "      <td>False</td>\n",
       "      <td>False</td>\n",
       "      <td>False</td>\n",
       "      <td>False</td>\n",
       "      <td>False</td>\n",
       "      <td>False</td>\n",
       "      <td>False</td>\n",
       "    </tr>\n",
       "    <tr>\n",
       "      <th>99999</th>\n",
       "      <td>False</td>\n",
       "      <td>False</td>\n",
       "      <td>False</td>\n",
       "      <td>False</td>\n",
       "      <td>False</td>\n",
       "      <td>False</td>\n",
       "      <td>False</td>\n",
       "      <td>False</td>\n",
       "      <td>False</td>\n",
       "      <td>False</td>\n",
       "    </tr>\n",
       "  </tbody>\n",
       "</table>\n",
       "<p>100000 rows × 10 columns</p>\n",
       "</div>"
      ],
      "text/plain": [
       "       status    bed   bath  acre_lot   city  state  zip_code  house_size  \\\n",
       "0       False  False  False     False  False  False     False       False   \n",
       "1       False  False  False     False  False  False     False       False   \n",
       "2       False  False  False     False  False  False     False       False   \n",
       "3       False  False  False     False  False  False     False       False   \n",
       "4       False  False  False     False  False  False     False        True   \n",
       "...       ...    ...    ...       ...    ...    ...       ...         ...   \n",
       "99995   False  False  False      True  False  False     False       False   \n",
       "99996   False  False  False     False  False  False     False       False   \n",
       "99997   False  False  False     False  False  False     False       False   \n",
       "99998   False  False  False     False  False  False     False       False   \n",
       "99999   False  False  False     False  False  False     False       False   \n",
       "\n",
       "       prev_sold_date  price  \n",
       "0                True  False  \n",
       "1                True  False  \n",
       "2                True  False  \n",
       "3                True  False  \n",
       "4                True  False  \n",
       "...               ...    ...  \n",
       "99995            True  False  \n",
       "99996           False  False  \n",
       "99997           False  False  \n",
       "99998           False  False  \n",
       "99999           False  False  \n",
       "\n",
       "[100000 rows x 10 columns]"
      ]
     },
     "execution_count": 57,
     "metadata": {},
     "output_type": "execute_result"
    }
   ],
   "source": [
    "df.isna()"
   ]
  },
  {
   "cell_type": "code",
   "execution_count": 59,
   "metadata": {},
   "outputs": [
    {
     "data": {
      "text/plain": [
       "0         920.0\n",
       "1        1527.0\n",
       "2         748.0\n",
       "3        1800.0\n",
       "4        1728.0\n",
       "          ...  \n",
       "99995    2864.0\n",
       "99996    1075.0\n",
       "99997    1632.0\n",
       "99998    1332.0\n",
       "99999    1846.0\n",
       "Name: house_size, Length: 100000, dtype: float64"
      ]
     },
     "execution_count": 59,
     "metadata": {},
     "output_type": "execute_result"
    }
   ],
   "source": [
    "df['house_size'].fillna(df['house_size'].median()) #preenchendo os valores NA com a media das demais"
   ]
  },
  {
   "cell_type": "code",
   "execution_count": 60,
   "metadata": {},
   "outputs": [],
   "source": [
    "import missingno as msn"
   ]
  },
  {
   "cell_type": "code",
   "execution_count": 61,
   "metadata": {},
   "outputs": [],
   "source": [
    "df = pd.read_csv('realtor-data.csv')"
   ]
  },
  {
   "cell_type": "code",
   "execution_count": 62,
   "metadata": {},
   "outputs": [
    {
     "data": {
      "text/plain": [
       "<Axes: >"
      ]
     },
     "execution_count": 62,
     "metadata": {},
     "output_type": "execute_result"
    },
    {
     "data": {
      "image/png": "[encoded data removed]",
      "text/plain": [
       "<Figure size 2500x1000 with 2 Axes>"
      ]
     },
     "metadata": {},
     "output_type": "display_data"
    }
   ],
   "source": [
    "msn.matrix(df)"
   ]
  },
  {
   "cell_type": "code",
   "execution_count": 69,
   "metadata": {},
   "outputs": [
    {
     "data": {
      "text/plain": [
       "0    0.12\n",
       "2    0.15\n",
       "Name: acre_lot, dtype: float64"
      ]
     },
     "execution_count": 69,
     "metadata": {},
     "output_type": "execute_result"
    }
   ],
   "source": [
    "df.iloc[[0,2],3]"
   ]
  }
 ],
 "metadata": {
  "kernelspec": {
   "display_name": "Python 3",
   "language": "python",
   "name": "python3"
  },
  "language_info": {
   "codemirror_mode": {
    "name": "ipython",
    "version": 3
   },
   "file_extension": ".py",
   "mimetype": "text/x-python",
   "name": "python",
   "nbconvert_exporter": "python",
   "pygments_lexer": "ipython3",
   "version": "3.11.3"
  },
  "orig_nbformat": 4
 },
 "nbformat": 4,
 "nbformat_minor": 2
}
