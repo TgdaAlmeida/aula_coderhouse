{
 "cells": [
  {
   "cell_type": "markdown",
   "metadata": {},
   "source": [
    "                                                 DATA WRANGLING II"
   ]
  },
  {
   "cell_type": "code",
   "execution_count": 1,
   "metadata": {},
   "outputs": [],
   "source": [
    "import numpy as np\n",
    "import pandas as pd"
   ]
  },
  {
   "cell_type": "code",
   "execution_count": 3,
   "metadata": {},
   "outputs": [],
   "source": [
    "df = pd.read_csv('realtor-data.csv')"
   ]
  },
  {
   "cell_type": "code",
   "execution_count": 4,
   "metadata": {},
   "outputs": [
    {
     "name": "stdout",
     "output_type": "stream",
     "text": [
      "<class 'pandas.core.frame.DataFrame'>\n",
      "RangeIndex: 100000 entries, 0 to 99999\n",
      "Data columns (total 10 columns):\n",
      " #   Column          Non-Null Count   Dtype  \n",
      "---  ------          --------------   -----  \n",
      " 0   status          100000 non-null  object \n",
      " 1   bed             75050 non-null   float64\n",
      " 2   bath            75112 non-null   float64\n",
      " 3   acre_lot        85987 non-null   float64\n",
      " 4   city            99948 non-null   object \n",
      " 5   state           100000 non-null  object \n",
      " 6   zip_code        99805 non-null   float64\n",
      " 7   house_size      75082 non-null   float64\n",
      " 8   prev_sold_date  28745 non-null   object \n",
      " 9   price           100000 non-null  float64\n",
      "dtypes: float64(6), object(4)\n",
      "memory usage: 7.6+ MB\n"
     ]
    }
   ],
   "source": [
    "df.info()"
   ]
  },
  {
   "cell_type": "code",
   "execution_count": 7,
   "metadata": {},
   "outputs": [],
   "source": [
    "df_sum = pd.DataFrame(df.groupby(['state', 'city'])['price'].mean())"
   ]
  },
  {
   "cell_type": "code",
   "execution_count": 9,
   "metadata": {},
   "outputs": [
    {
     "data": {
      "text/plain": [
       "MultiIndex([(   'Connecticut',       'Andover'),\n",
       "            (   'Connecticut',       'Ashford'),\n",
       "            (   'Connecticut',          'Avon'),\n",
       "            (   'Connecticut',   'Barkhamsted'),\n",
       "            (   'Connecticut',        'Berlin'),\n",
       "            (   'Connecticut',     'Bethlehem'),\n",
       "            (   'Connecticut',    'Bloomfield'),\n",
       "            (   'Connecticut',        'Bolton'),\n",
       "            (   'Connecticut',        'Bozrah'),\n",
       "            (   'Connecticut',       'Bristol'),\n",
       "            ...\n",
       "            (       'Vermont',    'Whitingham'),\n",
       "            (       'Vermont',    'Wilmington'),\n",
       "            (       'Vermont',       'Winhall'),\n",
       "            (       'Vermont',      'Woodford'),\n",
       "            ('Virgin Islands', 'Christiansted'),\n",
       "            ('Virgin Islands',  'Frederiksted'),\n",
       "            ('Virgin Islands',     'Kingshill'),\n",
       "            ('Virgin Islands',    'Saint John'),\n",
       "            ('Virgin Islands',  'Saint Thomas'),\n",
       "            (      'Virginia',  'Chincoteague')],\n",
       "           names=['state', 'city'], length=582)"
      ]
     },
     "execution_count": 9,
     "metadata": {},
     "output_type": "execute_result"
    }
   ],
   "source": [
    "df_sum.index"
   ]
  },
  {
   "cell_type": "code",
   "execution_count": 10,
   "metadata": {},
   "outputs": [
    {
     "data": {
      "text/html": [
       "<div>\n",
       "<style scoped>\n",
       "    .dataframe tbody tr th:only-of-type {\n",
       "        vertical-align: middle;\n",
       "    }\n",
       "\n",
       "    .dataframe tbody tr th {\n",
       "        vertical-align: top;\n",
       "    }\n",
       "\n",
       "    .dataframe thead th {\n",
       "        text-align: right;\n",
       "    }\n",
       "</style>\n",
       "<table border=\"1\" class=\"dataframe\">\n",
       "  <thead>\n",
       "    <tr style=\"text-align: right;\">\n",
       "      <th></th>\n",
       "      <th></th>\n",
       "      <th>price</th>\n",
       "    </tr>\n",
       "    <tr>\n",
       "      <th>state</th>\n",
       "      <th>city</th>\n",
       "      <th></th>\n",
       "    </tr>\n",
       "  </thead>\n",
       "  <tbody>\n",
       "    <tr>\n",
       "      <th rowspan=\"5\" valign=\"top\">Connecticut</th>\n",
       "      <th>Andover</th>\n",
       "      <td>2.492542e+05</td>\n",
       "    </tr>\n",
       "    <tr>\n",
       "      <th>Ashford</th>\n",
       "      <td>2.849269e+05</td>\n",
       "    </tr>\n",
       "    <tr>\n",
       "      <th>Avon</th>\n",
       "      <td>6.070604e+05</td>\n",
       "    </tr>\n",
       "    <tr>\n",
       "      <th>Barkhamsted</th>\n",
       "      <td>3.752788e+05</td>\n",
       "    </tr>\n",
       "    <tr>\n",
       "      <th>Berlin</th>\n",
       "      <td>3.484531e+05</td>\n",
       "    </tr>\n",
       "    <tr>\n",
       "      <th>...</th>\n",
       "      <th>...</th>\n",
       "      <td>...</td>\n",
       "    </tr>\n",
       "    <tr>\n",
       "      <th rowspan=\"4\" valign=\"top\">Virgin Islands</th>\n",
       "      <th>Frederiksted</th>\n",
       "      <td>7.014767e+05</td>\n",
       "    </tr>\n",
       "    <tr>\n",
       "      <th>Kingshill</th>\n",
       "      <td>4.578320e+05</td>\n",
       "    </tr>\n",
       "    <tr>\n",
       "      <th>Saint John</th>\n",
       "      <td>1.003303e+06</td>\n",
       "    </tr>\n",
       "    <tr>\n",
       "      <th>Saint Thomas</th>\n",
       "      <td>1.169000e+06</td>\n",
       "    </tr>\n",
       "    <tr>\n",
       "      <th>Virginia</th>\n",
       "      <th>Chincoteague</th>\n",
       "      <td>7.500000e+04</td>\n",
       "    </tr>\n",
       "  </tbody>\n",
       "</table>\n",
       "<p>582 rows × 1 columns</p>\n",
       "</div>"
      ],
      "text/plain": [
       "                                    price\n",
       "state          city                      \n",
       "Connecticut    Andover       2.492542e+05\n",
       "               Ashford       2.849269e+05\n",
       "               Avon          6.070604e+05\n",
       "               Barkhamsted   3.752788e+05\n",
       "               Berlin        3.484531e+05\n",
       "...                                   ...\n",
       "Virgin Islands Frederiksted  7.014767e+05\n",
       "               Kingshill     4.578320e+05\n",
       "               Saint John    1.003303e+06\n",
       "               Saint Thomas  1.169000e+06\n",
       "Virginia       Chincoteague  7.500000e+04\n",
       "\n",
       "[582 rows x 1 columns]"
      ]
     },
     "execution_count": 10,
     "metadata": {},
     "output_type": "execute_result"
    }
   ],
   "source": [
    "df_sum"
   ]
  },
  {
   "cell_type": "code",
   "execution_count": 11,
   "metadata": {},
   "outputs": [
    {
     "data": {
      "text/plain": [
       "state           city               \n",
       "Connecticut     Andover       price    2.492542e+05\n",
       "                Ashford       price    2.849269e+05\n",
       "                Avon          price    6.070604e+05\n",
       "                Barkhamsted   price    3.752788e+05\n",
       "                Berlin        price    3.484531e+05\n",
       "                                           ...     \n",
       "Virgin Islands  Frederiksted  price    7.014767e+05\n",
       "                Kingshill     price    4.578320e+05\n",
       "                Saint John    price    1.003303e+06\n",
       "                Saint Thomas  price    1.169000e+06\n",
       "Virginia        Chincoteague  price    7.500000e+04\n",
       "Length: 582, dtype: float64"
      ]
     },
     "execution_count": 11,
     "metadata": {},
     "output_type": "execute_result"
    }
   ],
   "source": [
    "df_sum.stack()"
   ]
  },
  {
   "cell_type": "code",
   "execution_count": 12,
   "metadata": {},
   "outputs": [],
   "source": [
    "df_stack = pd.DataFrame(df_sum.stack())"
   ]
  },
  {
   "cell_type": "code",
   "execution_count": 13,
   "metadata": {},
   "outputs": [
    {
     "data": {
      "text/html": [
       "<div>\n",
       "<style scoped>\n",
       "    .dataframe tbody tr th:only-of-type {\n",
       "        vertical-align: middle;\n",
       "    }\n",
       "\n",
       "    .dataframe tbody tr th {\n",
       "        vertical-align: top;\n",
       "    }\n",
       "\n",
       "    .dataframe thead th {\n",
       "        text-align: right;\n",
       "    }\n",
       "</style>\n",
       "<table border=\"1\" class=\"dataframe\">\n",
       "  <thead>\n",
       "    <tr style=\"text-align: right;\">\n",
       "      <th></th>\n",
       "      <th></th>\n",
       "      <th></th>\n",
       "      <th>0</th>\n",
       "    </tr>\n",
       "    <tr>\n",
       "      <th>state</th>\n",
       "      <th>city</th>\n",
       "      <th></th>\n",
       "      <th></th>\n",
       "    </tr>\n",
       "  </thead>\n",
       "  <tbody>\n",
       "    <tr>\n",
       "      <th rowspan=\"5\" valign=\"top\">Connecticut</th>\n",
       "      <th>Andover</th>\n",
       "      <th>price</th>\n",
       "      <td>2.492542e+05</td>\n",
       "    </tr>\n",
       "    <tr>\n",
       "      <th>Ashford</th>\n",
       "      <th>price</th>\n",
       "      <td>2.849269e+05</td>\n",
       "    </tr>\n",
       "    <tr>\n",
       "      <th>Avon</th>\n",
       "      <th>price</th>\n",
       "      <td>6.070604e+05</td>\n",
       "    </tr>\n",
       "    <tr>\n",
       "      <th>Barkhamsted</th>\n",
       "      <th>price</th>\n",
       "      <td>3.752788e+05</td>\n",
       "    </tr>\n",
       "    <tr>\n",
       "      <th>Berlin</th>\n",
       "      <th>price</th>\n",
       "      <td>3.484531e+05</td>\n",
       "    </tr>\n",
       "    <tr>\n",
       "      <th>...</th>\n",
       "      <th>...</th>\n",
       "      <th>...</th>\n",
       "      <td>...</td>\n",
       "    </tr>\n",
       "    <tr>\n",
       "      <th rowspan=\"4\" valign=\"top\">Virgin Islands</th>\n",
       "      <th>Frederiksted</th>\n",
       "      <th>price</th>\n",
       "      <td>7.014767e+05</td>\n",
       "    </tr>\n",
       "    <tr>\n",
       "      <th>Kingshill</th>\n",
       "      <th>price</th>\n",
       "      <td>4.578320e+05</td>\n",
       "    </tr>\n",
       "    <tr>\n",
       "      <th>Saint John</th>\n",
       "      <th>price</th>\n",
       "      <td>1.003303e+06</td>\n",
       "    </tr>\n",
       "    <tr>\n",
       "      <th>Saint Thomas</th>\n",
       "      <th>price</th>\n",
       "      <td>1.169000e+06</td>\n",
       "    </tr>\n",
       "    <tr>\n",
       "      <th>Virginia</th>\n",
       "      <th>Chincoteague</th>\n",
       "      <th>price</th>\n",
       "      <td>7.500000e+04</td>\n",
       "    </tr>\n",
       "  </tbody>\n",
       "</table>\n",
       "<p>582 rows × 1 columns</p>\n",
       "</div>"
      ],
      "text/plain": [
       "                                              0\n",
       "state          city                            \n",
       "Connecticut    Andover      price  2.492542e+05\n",
       "               Ashford      price  2.849269e+05\n",
       "               Avon         price  6.070604e+05\n",
       "               Barkhamsted  price  3.752788e+05\n",
       "               Berlin       price  3.484531e+05\n",
       "...                                         ...\n",
       "Virgin Islands Frederiksted price  7.014767e+05\n",
       "               Kingshill    price  4.578320e+05\n",
       "               Saint John   price  1.003303e+06\n",
       "               Saint Thomas price  1.169000e+06\n",
       "Virginia       Chincoteague price  7.500000e+04\n",
       "\n",
       "[582 rows x 1 columns]"
      ]
     },
     "execution_count": 13,
     "metadata": {},
     "output_type": "execute_result"
    }
   ],
   "source": [
    "df_stack"
   ]
  },
  {
   "cell_type": "code",
   "execution_count": 14,
   "metadata": {},
   "outputs": [
    {
     "data": {
      "text/plain": [
       "MultiIndex([(   'Connecticut',       'Andover', 'price'),\n",
       "            (   'Connecticut',       'Ashford', 'price'),\n",
       "            (   'Connecticut',          'Avon', 'price'),\n",
       "            (   'Connecticut',   'Barkhamsted', 'price'),\n",
       "            (   'Connecticut',        'Berlin', 'price'),\n",
       "            (   'Connecticut',     'Bethlehem', 'price'),\n",
       "            (   'Connecticut',    'Bloomfield', 'price'),\n",
       "            (   'Connecticut',        'Bolton', 'price'),\n",
       "            (   'Connecticut',        'Bozrah', 'price'),\n",
       "            (   'Connecticut',       'Bristol', 'price'),\n",
       "            ...\n",
       "            (       'Vermont',    'Whitingham', 'price'),\n",
       "            (       'Vermont',    'Wilmington', 'price'),\n",
       "            (       'Vermont',       'Winhall', 'price'),\n",
       "            (       'Vermont',      'Woodford', 'price'),\n",
       "            ('Virgin Islands', 'Christiansted', 'price'),\n",
       "            ('Virgin Islands',  'Frederiksted', 'price'),\n",
       "            ('Virgin Islands',     'Kingshill', 'price'),\n",
       "            ('Virgin Islands',    'Saint John', 'price'),\n",
       "            ('Virgin Islands',  'Saint Thomas', 'price'),\n",
       "            (      'Virginia',  'Chincoteague', 'price')],\n",
       "           names=['state', 'city', None], length=582)"
      ]
     },
     "execution_count": 14,
     "metadata": {},
     "output_type": "execute_result"
    }
   ],
   "source": [
    "df_stack.index"
   ]
  },
  {
   "cell_type": "code",
   "execution_count": 15,
   "metadata": {},
   "outputs": [
    {
     "data": {
      "text/plain": [
       "RangeIndex(start=0, stop=100000, step=1)"
      ]
     },
     "execution_count": 15,
     "metadata": {},
     "output_type": "execute_result"
    }
   ],
   "source": [
    "df.index"
   ]
  },
  {
   "cell_type": "code",
   "execution_count": 16,
   "metadata": {},
   "outputs": [
    {
     "data": {
      "text/plain": [
       "MultiIndex([(   'Connecticut',       'Andover', 'price'),\n",
       "            (   'Connecticut',       'Ashford', 'price'),\n",
       "            (   'Connecticut',          'Avon', 'price'),\n",
       "            (   'Connecticut',   'Barkhamsted', 'price'),\n",
       "            (   'Connecticut',        'Berlin', 'price'),\n",
       "            (   'Connecticut',     'Bethlehem', 'price'),\n",
       "            (   'Connecticut',    'Bloomfield', 'price'),\n",
       "            (   'Connecticut',        'Bolton', 'price'),\n",
       "            (   'Connecticut',        'Bozrah', 'price'),\n",
       "            (   'Connecticut',       'Bristol', 'price'),\n",
       "            ...\n",
       "            (       'Vermont',    'Whitingham', 'price'),\n",
       "            (       'Vermont',    'Wilmington', 'price'),\n",
       "            (       'Vermont',       'Winhall', 'price'),\n",
       "            (       'Vermont',      'Woodford', 'price'),\n",
       "            ('Virgin Islands', 'Christiansted', 'price'),\n",
       "            ('Virgin Islands',  'Frederiksted', 'price'),\n",
       "            ('Virgin Islands',     'Kingshill', 'price'),\n",
       "            ('Virgin Islands',    'Saint John', 'price'),\n",
       "            ('Virgin Islands',  'Saint Thomas', 'price'),\n",
       "            (      'Virginia',  'Chincoteague', 'price')],\n",
       "           names=['state', 'city', None], length=582)"
      ]
     },
     "execution_count": 16,
     "metadata": {},
     "output_type": "execute_result"
    }
   ],
   "source": [
    "df_stack.index"
   ]
  },
  {
   "cell_type": "code",
   "execution_count": 17,
   "metadata": {},
   "outputs": [
    {
     "data": {
      "text/html": [
       "<div>\n",
       "<style scoped>\n",
       "    .dataframe tbody tr th:only-of-type {\n",
       "        vertical-align: middle;\n",
       "    }\n",
       "\n",
       "    .dataframe tbody tr th {\n",
       "        vertical-align: top;\n",
       "    }\n",
       "\n",
       "    .dataframe thead tr th {\n",
       "        text-align: left;\n",
       "    }\n",
       "\n",
       "    .dataframe thead tr:last-of-type th {\n",
       "        text-align: right;\n",
       "    }\n",
       "</style>\n",
       "<table border=\"1\" class=\"dataframe\">\n",
       "  <thead>\n",
       "    <tr>\n",
       "      <th></th>\n",
       "      <th></th>\n",
       "      <th>0</th>\n",
       "    </tr>\n",
       "    <tr>\n",
       "      <th></th>\n",
       "      <th></th>\n",
       "      <th>price</th>\n",
       "    </tr>\n",
       "    <tr>\n",
       "      <th>state</th>\n",
       "      <th>city</th>\n",
       "      <th></th>\n",
       "    </tr>\n",
       "  </thead>\n",
       "  <tbody>\n",
       "    <tr>\n",
       "      <th rowspan=\"5\" valign=\"top\">Connecticut</th>\n",
       "      <th>Andover</th>\n",
       "      <td>2.492542e+05</td>\n",
       "    </tr>\n",
       "    <tr>\n",
       "      <th>Ashford</th>\n",
       "      <td>2.849269e+05</td>\n",
       "    </tr>\n",
       "    <tr>\n",
       "      <th>Avon</th>\n",
       "      <td>6.070604e+05</td>\n",
       "    </tr>\n",
       "    <tr>\n",
       "      <th>Barkhamsted</th>\n",
       "      <td>3.752788e+05</td>\n",
       "    </tr>\n",
       "    <tr>\n",
       "      <th>Berlin</th>\n",
       "      <td>3.484531e+05</td>\n",
       "    </tr>\n",
       "    <tr>\n",
       "      <th>...</th>\n",
       "      <th>...</th>\n",
       "      <td>...</td>\n",
       "    </tr>\n",
       "    <tr>\n",
       "      <th rowspan=\"4\" valign=\"top\">Virgin Islands</th>\n",
       "      <th>Frederiksted</th>\n",
       "      <td>7.014767e+05</td>\n",
       "    </tr>\n",
       "    <tr>\n",
       "      <th>Kingshill</th>\n",
       "      <td>4.578320e+05</td>\n",
       "    </tr>\n",
       "    <tr>\n",
       "      <th>Saint John</th>\n",
       "      <td>1.003303e+06</td>\n",
       "    </tr>\n",
       "    <tr>\n",
       "      <th>Saint Thomas</th>\n",
       "      <td>1.169000e+06</td>\n",
       "    </tr>\n",
       "    <tr>\n",
       "      <th>Virginia</th>\n",
       "      <th>Chincoteague</th>\n",
       "      <td>7.500000e+04</td>\n",
       "    </tr>\n",
       "  </tbody>\n",
       "</table>\n",
       "<p>582 rows × 1 columns</p>\n",
       "</div>"
      ],
      "text/plain": [
       "                                        0\n",
       "                                    price\n",
       "state          city                      \n",
       "Connecticut    Andover       2.492542e+05\n",
       "               Ashford       2.849269e+05\n",
       "               Avon          6.070604e+05\n",
       "               Barkhamsted   3.752788e+05\n",
       "               Berlin        3.484531e+05\n",
       "...                                   ...\n",
       "Virgin Islands Frederiksted  7.014767e+05\n",
       "               Kingshill     4.578320e+05\n",
       "               Saint John    1.003303e+06\n",
       "               Saint Thomas  1.169000e+06\n",
       "Virginia       Chincoteague  7.500000e+04\n",
       "\n",
       "[582 rows x 1 columns]"
      ]
     },
     "execution_count": 17,
     "metadata": {},
     "output_type": "execute_result"
    }
   ],
   "source": [
    "df_stack.unstack()"
   ]
  },
  {
   "cell_type": "code",
   "execution_count": 19,
   "metadata": {},
   "outputs": [],
   "source": [
    "df_ex = pd.DataFrame({'Valor1':[1,2,3,4],'Valor2':[5,6,7,8]})"
   ]
  },
  {
   "cell_type": "code",
   "execution_count": 20,
   "metadata": {},
   "outputs": [
    {
     "data": {
      "text/plain": [
       "0  Valor1    1\n",
       "   Valor2    5\n",
       "1  Valor1    2\n",
       "   Valor2    6\n",
       "2  Valor1    3\n",
       "   Valor2    7\n",
       "3  Valor1    4\n",
       "   Valor2    8\n",
       "dtype: int64"
      ]
     },
     "execution_count": 20,
     "metadata": {},
     "output_type": "execute_result"
    }
   ],
   "source": [
    "df_ex.stack()"
   ]
  }
 ],
 "metadata": {
  "kernelspec": {
   "display_name": "Python 3",
   "language": "python",
   "name": "python3"
  },
  "language_info": {
   "codemirror_mode": {
    "name": "ipython",
    "version": 3
   },
   "file_extension": ".py",
   "mimetype": "text/x-python",
   "name": "python",
   "nbconvert_exporter": "python",
   "pygments_lexer": "ipython3",
   "version": "3.11.3"
  },
  "orig_nbformat": 4
 },
 "nbformat": 4,
 "nbformat_minor": 2
}
