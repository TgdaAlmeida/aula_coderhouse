{
 "cells": [
  {
   "cell_type": "markdown",
   "metadata": {},
   "source": [
    "                                                   PROJETO FINAL CODERHOUSE"
   ]
  },
  {
   "cell_type": "markdown",
   "metadata": {},
   "source": [
    "1º ETAPA \n",
    "- ESCOLHER UMA API DA LISTA DISPONÍVEL;\n",
    "- FAZER A EXTRAÇÃO DE PELO MENOS 3 TABELAS;\n",
    "- CRIAR UM ALERTA DE ERRO USANDO A FUNÇÃO ALERTA() DO DESAFIO DA AULA DE FUNDAMENTOS DE  PROGRAMA III\n",
    "- SUBIR ARQUIVO NO GITHUB E FORNECER LINK NO ICONE DE ENTRADA CODERHOUSE."
   ]
  },
  {
   "cell_type": "markdown",
   "metadata": {},
   "source": [
    "Grupo: Pedro Alves Bacurau Junior, Regiane Rodrigues, Rafael Souza Morgado, Thiago Almeida"
   ]
  },
  {
   "cell_type": "code",
   "execution_count": 4,
   "metadata": {},
   "outputs": [],
   "source": [
    "import pandas as pd\n",
    "from datetime import datetime\n",
    "from plyer import notification\n",
    "import requests"
   ]
  },
  {
   "cell_type": "code",
   "execution_count": 5,
   "metadata": {},
   "outputs": [],
   "source": [
    "#url = 'https://brasilapi.com.br/api/banks/v1' #bancos ok\n",
    "#url = 'https://brasilapi.com.br/api#tag/TAXAS/ibge/uf/v1' #capitais erro 404\n",
    "#url = 'https://brasilapi.com.br/api/cvm/corretoras/v1' #corretoras ok\n",
    "url = 'https://brasilapi.com.br/api/ibge/municipios/v1/SP?providers=dados-abertos-br,gov,wikipedia' #ibge ok"
   ]
  },
  {
   "cell_type": "code",
   "execution_count": 6,
   "metadata": {},
   "outputs": [],
   "source": [
    "def Alerta(nivel, base, etapa):\n",
    "    #base = base\n",
    "    #etapa = etapa\n",
    "    data_atual = datetime.now()\n",
    "    data_formatada = data_atual.strftime('%d/%m/%d')\n",
    "    mensagem = (f'Falha no carregamento da base {base} na etapa {etapa} em {data_formatada}')\n",
    "    title = nivel\n",
    "    notification.notify(title = title, message= mensagem, timeout= 10)"
   ]
  },
  {
   "cell_type": "code",
   "execution_count": 7,
   "metadata": {},
   "outputs": [],
   "source": [
    "while True: \n",
    "    response = requests.get(url)\n",
    "    response_code = response.status_code\n",
    "    break"
   ]
  },
  {
   "cell_type": "code",
   "execution_count": 8,
   "metadata": {},
   "outputs": [
    {
     "name": "stdout",
     "output_type": "stream",
     "text": [
      "Requisição Completa\n"
     ]
    }
   ],
   "source": [
    "if response_code == 200:\n",
    "    data_json = response.json()\n",
    "    df = pd.DataFrame(data_json)\n",
    "    print('Requisição Completa')\n",
    "else:\n",
    "    nivel = 'ATENÇÃO: Erro Grave'\n",
    "    Alerta(nivel = nivel, base='Data_Bank',etapa='Extração')"
   ]
  },
  {
   "cell_type": "code",
   "execution_count": 10,
   "metadata": {},
   "outputs": [
    {
     "data": {
      "text/html": [
       "<div>\n",
       "<style scoped>\n",
       "    .dataframe tbody tr th:only-of-type {\n",
       "        vertical-align: middle;\n",
       "    }\n",
       "\n",
       "    .dataframe tbody tr th {\n",
       "        vertical-align: top;\n",
       "    }\n",
       "\n",
       "    .dataframe thead th {\n",
       "        text-align: right;\n",
       "    }\n",
       "</style>\n",
       "<table border=\"1\" class=\"dataframe\">\n",
       "  <thead>\n",
       "    <tr style=\"text-align: right;\">\n",
       "      <th></th>\n",
       "      <th>nome</th>\n",
       "      <th>codigo_ibge</th>\n",
       "    </tr>\n",
       "  </thead>\n",
       "  <tbody>\n",
       "    <tr>\n",
       "      <th>0</th>\n",
       "      <td>ADAMANTINA</td>\n",
       "      <td>3500105</td>\n",
       "    </tr>\n",
       "    <tr>\n",
       "      <th>1</th>\n",
       "      <td>ADOLFO</td>\n",
       "      <td>3500204</td>\n",
       "    </tr>\n",
       "    <tr>\n",
       "      <th>2</th>\n",
       "      <td>AGUAI</td>\n",
       "      <td>3500303</td>\n",
       "    </tr>\n",
       "    <tr>\n",
       "      <th>3</th>\n",
       "      <td>AGUAS DA PRATA</td>\n",
       "      <td>3500402</td>\n",
       "    </tr>\n",
       "    <tr>\n",
       "      <th>4</th>\n",
       "      <td>AGUAS DE LINDOIA</td>\n",
       "      <td>3500501</td>\n",
       "    </tr>\n",
       "  </tbody>\n",
       "</table>\n",
       "</div>"
      ],
      "text/plain": [
       "               nome codigo_ibge\n",
       "0        ADAMANTINA     3500105\n",
       "1            ADOLFO     3500204\n",
       "2             AGUAI     3500303\n",
       "3    AGUAS DA PRATA     3500402\n",
       "4  AGUAS DE LINDOIA     3500501"
      ]
     },
     "execution_count": 10,
     "metadata": {},
     "output_type": "execute_result"
    }
   ],
   "source": [
    "df.head()\n"
   ]
  }
 ],
 "metadata": {
  "kernelspec": {
   "display_name": "Python 3",
   "language": "python",
   "name": "python3"
  },
  "language_info": {
   "codemirror_mode": {
    "name": "ipython",
    "version": 3
   },
   "file_extension": ".py",
   "mimetype": "text/x-python",
   "name": "python",
   "nbconvert_exporter": "python",
   "pygments_lexer": "ipython3",
   "version": "3.11.3"
  },
  "orig_nbformat": 4
 },
 "nbformat": 4,
 "nbformat_minor": 2
}
