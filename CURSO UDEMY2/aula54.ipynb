{
 "cells": [
  {
   "cell_type": "markdown",
   "metadata": {},
   "source": [
    "FAÇA UMA LISTA DE COMPRAS COM LISTA\n",
    "O USUARIO DEVE TER A POSSIBILIDADE DE INSERIR, APAGAR E LISTAR VALORES DA SUA LISTA.\n",
    "NÃO PERMITA QUE O PROGRAMA QUEBRE COM ERROS DE INDICES INEXISTENTES NA LISTA."
   ]
  },
  {
   "cell_type": "code",
   "execution_count": null,
   "metadata": {},
   "outputs": [],
   "source": [
    "import os\n",
    "\n",
    "lista = []\n",
    "\n",
    "while True:\n",
    "    print('Selecione uma opçao:')\n",
    "    opcao = input('[i]nserir, [a]pagar ou [l]istar: ')\n",
    "\n",
    "    if opcao == 'i':\n",
    "        os.system('cls')\n",
    "        valor = input('Valor: ')\n",
    "        lista.append(valor)\n",
    "    elif opcao == 'a':\n",
    "        indice_str = input('Escolha o indice para apagar:')\n",
    "\n",
    "        try:\n",
    "            indice = int(indice_str)\n",
    "            del lista[indice]\n",
    "        except ValueError:\n",
    "            print('Por favor digite apenas numero inteiro!')\n",
    "        except IndexError:\n",
    "            print('Index nao existe na lista!')\n",
    "    elif opcao == 'l':\n",
    "        os.system('cls')\n",
    "        if len(lista) == 0:\n",
    "            print('Nada para listar')\n",
    "        for i, valor in enumerate(lista):\n",
    "            print(i,valor)\n",
    "    else:\n",
    "        print('Nada para listar!')\n",
    "\n"
   ]
  }
 ],
 "metadata": {
  "kernelspec": {
   "display_name": "Python 3",
   "language": "python",
   "name": "python3"
  },
  "language_info": {
   "codemirror_mode": {
    "name": "ipython",
    "version": 3
   },
   "file_extension": ".py",
   "mimetype": "text/x-python",
   "name": "python",
   "nbconvert_exporter": "python",
   "pygments_lexer": "ipython3",
   "version": "3.11.3"
  },
  "orig_nbformat": 4
 },
 "nbformat": 4,
 "nbformat_minor": 2
}
