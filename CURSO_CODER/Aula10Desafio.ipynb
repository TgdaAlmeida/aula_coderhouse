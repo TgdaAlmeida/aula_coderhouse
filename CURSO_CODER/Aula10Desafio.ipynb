{
 "cells": [
  {
   "cell_type": "markdown",
   "metadata": {},
   "source": [
    "1 - Usando o arquivo \"best-selling game consoles.xlsx\" conte quantos consoles tem na base por companhias.\n"
   ]
  },
  {
   "cell_type": "markdown",
   "metadata": {},
   "source": [
    "2 -Ordene o resultado anterior pela quantidade de consoles por companhia de forma decrescente. \n"
   ]
  },
  {
   "cell_type": "markdown",
   "metadata": {},
   "source": [
    "3 - Sobre o dataframe anterior, adicione a coluna \"Market Value\" presente na tabela do arquivo \"company.txt\".\n"
   ]
  },
  {
   "cell_type": "markdown",
   "metadata": {},
   "source": [
    "4 - Qual o valor médio de Market Value por console?\n"
   ]
  }
 ],
 "metadata": {
  "language_info": {
   "name": "python"
  },
  "orig_nbformat": 4
 },
 "nbformat": 4,
 "nbformat_minor": 2
}
