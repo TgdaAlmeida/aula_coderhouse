{
 "cells": [
  {
   "cell_type": "markdown",
   "metadata": {},
   "source": [
    "                                           ENUMERATE - ENUMERO ITERÁVEIS (INDICES)"
   ]
  },
  {
   "cell_type": "code",
   "execution_count": 1,
   "metadata": {},
   "outputs": [],
   "source": [
    "lista = ['Joao', 'Maria','Luiz']"
   ]
  },
  {
   "cell_type": "code",
   "execution_count": 2,
   "metadata": {},
   "outputs": [],
   "source": [
    "lista.append('Joao')"
   ]
  },
  {
   "cell_type": "code",
   "execution_count": 5,
   "metadata": {},
   "outputs": [],
   "source": [
    "lista_enumerada = enumerate(lista) #SO PODE SER CONSUMIDO UMA VEZ"
   ]
  },
  {
   "cell_type": "code",
   "execution_count": 6,
   "metadata": {},
   "outputs": [
    {
     "name": "stdout",
     "output_type": "stream",
     "text": [
      "(0, 'Joao')\n",
      "(1, 'Maria')\n",
      "(2, 'Luiz')\n",
      "(3, 'Joao')\n"
     ]
    }
   ],
   "source": [
    "for intem in lista_enumerada:\n",
    "    print(intem)"
   ]
  },
  {
   "cell_type": "code",
   "execution_count": 7,
   "metadata": {},
   "outputs": [],
   "source": [
    "for intem in lista_enumerada: #NAO FUNCIONA SE FOR CHAMADO NOVAMENTE\n",
    "    print(intem)"
   ]
  },
  {
   "cell_type": "code",
   "execution_count": 9,
   "metadata": {},
   "outputs": [
    {
     "name": "stdout",
     "output_type": "stream",
     "text": [
      "(0, 'Joao')\n",
      "(1, 'Maria')\n",
      "(2, 'Luiz')\n",
      "(3, 'Joao')\n"
     ]
    }
   ],
   "source": [
    "for item in enumerate(lista): # DESSE JEITO EU POSSO FAZER QUANTAS VEZES QUISER\n",
    "    print(item)"
   ]
  },
  {
   "cell_type": "code",
   "execution_count": 10,
   "metadata": {},
   "outputs": [],
   "source": [
    "lista_enumerada = list(enumerate(lista))"
   ]
  },
  {
   "cell_type": "code",
   "execution_count": 11,
   "metadata": {},
   "outputs": [
    {
     "name": "stdout",
     "output_type": "stream",
     "text": [
      "[(0, 'Joao'), (1, 'Maria'), (2, 'Luiz'), (3, 'Joao')]\n"
     ]
    }
   ],
   "source": [
    "print(lista_enumerada)"
   ]
  },
  {
   "cell_type": "code",
   "execution_count": 12,
   "metadata": {},
   "outputs": [
    {
     "name": "stdout",
     "output_type": "stream",
     "text": [
      "0 Joao\n",
      "1 Maria\n",
      "2 Luiz\n",
      "3 Joao\n"
     ]
    }
   ],
   "source": [
    "for item in enumerate(lista): #CADA ITEM CARREGA O INDICE E O NOME DENTRO DE UMA TUPLA\n",
    "    indice, nome = item\n",
    "    print(indice,nome)"
   ]
  },
  {
   "cell_type": "code",
   "execution_count": 13,
   "metadata": {},
   "outputs": [
    {
     "name": "stdout",
     "output_type": "stream",
     "text": [
      "0 Joao\n",
      "1 Joao\n",
      "2 Joao\n",
      "3 Joao\n"
     ]
    }
   ],
   "source": [
    "for indice,item in enumerate(lista): #JEITO MAIS FACIL DE FAZER\n",
    "    print(indice,nome)"
   ]
  },
  {
   "cell_type": "code",
   "execution_count": 14,
   "metadata": {},
   "outputs": [
    {
     "name": "stdout",
     "output_type": "stream",
     "text": [
      "0\n",
      "Joao\n",
      "1\n",
      "Maria\n",
      "2\n",
      "Luiz\n",
      "3\n",
      "Joao\n"
     ]
    }
   ],
   "source": [
    "for tupla_enumerada in enumerate(lista):\n",
    "    for valor in tupla_enumerada:\n",
    "        print(valor)"
   ]
  },
  {
   "cell_type": "code",
   "execution_count": 15,
   "metadata": {},
   "outputs": [
    {
     "name": "stdout",
     "output_type": "stream",
     "text": [
      "FOR da tupla:\n",
      "\t0\n",
      "\tJoao\n",
      "FOR da tupla:\n",
      "\t1\n",
      "\tMaria\n",
      "FOR da tupla:\n",
      "\t2\n",
      "\tLuiz\n",
      "FOR da tupla:\n",
      "\t3\n",
      "\tJoao\n"
     ]
    }
   ],
   "source": [
    "for tupla_enumerada in enumerate(lista):\n",
    "    print('FOR da tupla:')\n",
    "    for valor in tupla_enumerada:\n",
    "        print(f'\\t{valor}')"
   ]
  }
 ],
 "metadata": {
  "kernelspec": {
   "display_name": "Python 3",
   "language": "python",
   "name": "python3"
  },
  "language_info": {
   "codemirror_mode": {
    "name": "ipython",
    "version": 3
   },
   "file_extension": ".py",
   "mimetype": "text/x-python",
   "name": "python",
   "nbconvert_exporter": "python",
   "pygments_lexer": "ipython3",
   "version": "3.11.3"
  },
  "orig_nbformat": 4
 },
 "nbformat": 4,
 "nbformat_minor": 2
}
