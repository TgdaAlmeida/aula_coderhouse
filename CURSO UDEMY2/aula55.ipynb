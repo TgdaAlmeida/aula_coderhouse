{
 "cells": [
  {
   "cell_type": "markdown",
   "metadata": {},
   "source": [
    "                                        IMPRECISAO DE PONTO FLUTUANTE"
   ]
  },
  {
   "cell_type": "code",
   "execution_count": 4,
   "metadata": {},
   "outputs": [
    {
     "name": "stdout",
     "output_type": "stream",
     "text": [
      "0.8\n",
      "0.80\n",
      "0.80\n"
     ]
    }
   ],
   "source": [
    "import decimal\n",
    "\n",
    "num_1 = decimal.Decimal('0.1') #SE PRECISAR DE PRECISAO USE COMO FLOAT\n",
    "num_2 = decimal.Decimal('0.7')\n",
    "num_3 = num_1 + num_2\n",
    "\n",
    "print(num_3)\n",
    "print(f'{num_3:.2f}')\n",
    "print(round(num_3, 2))"
   ]
  }
 ],
 "metadata": {
  "kernelspec": {
   "display_name": "Python 3",
   "language": "python",
   "name": "python3"
  },
  "language_info": {
   "codemirror_mode": {
    "name": "ipython",
    "version": 3
   },
   "file_extension": ".py",
   "mimetype": "text/x-python",
   "name": "python",
   "nbconvert_exporter": "python",
   "pygments_lexer": "ipython3",
   "version": "3.11.3"
  },
  "orig_nbformat": 4
 },
 "nbformat": 4,
 "nbformat_minor": 2
}
